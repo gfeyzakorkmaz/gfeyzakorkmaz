{
  "nbformat": 4,
  "nbformat_minor": 0,
  "metadata": {
    "colab": {
      "provenance": [],
      "mount_file_id": "1o9RzVaOoSZCYnQh5RAwD8BDccI5Jwyns",
      "authorship_tag": "ABX9TyPNllXY/tl/NOwCklCWHMPW",
      "include_colab_link": true
    },
    "kernelspec": {
      "name": "python3",
      "display_name": "Python 3"
    },
    "language_info": {
      "name": "python"
    }
  },
  "cells": [
    {
      "cell_type": "markdown",
      "metadata": {
        "id": "view-in-github",
        "colab_type": "text"
      },
      "source": [
        "<a href=\"https://colab.research.google.com/github/gfeyzakorkmaz/gfeyzakorkmaz/blob/main/pythonday17.ipynb\" target=\"_parent\"><img src=\"https://colab.research.google.com/assets/colab-badge.svg\" alt=\"Open In Colab\"/></a>"
      ]
    },
    {
      "cell_type": "code",
      "execution_count": 1,
      "metadata": {
        "id": "tadglak-47P8"
      },
      "outputs": [],
      "source": [
        "import pandas as pd"
      ]
    },
    {
      "cell_type": "code",
      "source": [
        "path = '/content/drive/MyDrive/Dataset/marketing_analysis_data.xlsx'"
      ],
      "metadata": {
        "id": "tvLejT7B7jY2"
      },
      "execution_count": 2,
      "outputs": []
    },
    {
      "cell_type": "code",
      "source": [
        "df = pd.read_excel(path)"
      ],
      "metadata": {
        "id": "T4SzFZ2w7lGO"
      },
      "execution_count": 3,
      "outputs": []
    },
    {
      "cell_type": "code",
      "source": [
        "data = {'Campaign': ['A', 'B', 'C', 'D'],\n",
        "        'Cost': [1000, 1500, 1200, 1300],\n",
        "        'Revenue': [4000, 5000, 4200, 4800]}\n",
        "\n",
        "df = pd.DataFrame(data)\n",
        "\n",
        "df['ROI'] = (df['Revenue'] - df['Cost']) / df['Cost']\n",
        "print(df)"
      ],
      "metadata": {
        "colab": {
          "base_uri": "https://localhost:8080/"
        },
        "id": "Z3HgBa7k7p42",
        "outputId": "6a84d72e-da89-4812-8f26-958ad4c3899f"
      },
      "execution_count": 4,
      "outputs": [
        {
          "output_type": "stream",
          "name": "stdout",
          "text": [
            "  Campaign  Cost  Revenue       ROI\n",
            "0        A  1000     4000  3.000000\n",
            "1        B  1500     5000  2.333333\n",
            "2        C  1200     4200  2.500000\n",
            "3        D  1300     4800  2.692308\n"
          ]
        }
      ]
    },
    {
      "cell_type": "code",
      "source": [
        "high_roi_campaigns = df[df['ROI'] > 2]\n",
        "print(high_roi_campaigns)"
      ],
      "metadata": {
        "colab": {
          "base_uri": "https://localhost:8080/"
        },
        "id": "YlY8GIv08Pt9",
        "outputId": "bacf0d66-6458-4f97-a708-a4c50df89c2e"
      },
      "execution_count": 5,
      "outputs": [
        {
          "output_type": "stream",
          "name": "stdout",
          "text": [
            "  Campaign  Cost  Revenue       ROI\n",
            "0        A  1000     4000  3.000000\n",
            "1        B  1500     5000  2.333333\n",
            "2        C  1200     4200  2.500000\n",
            "3        D  1300     4800  2.692308\n"
          ]
        }
      ]
    },
    {
      "cell_type": "code",
      "source": [
        "import matplotlib.pyplot as plt\n",
        "import seaborn as sns\n",
        "\n",
        "campaigns = ['A', 'B', 'C', 'D']\n",
        "roi = [3.0, 2.3, 2.5, 2.7]\n",
        "\n",
        "plt.figure(figsize=(8, 6))\n",
        "sns.barplot(x=campaigns, y=roi)\n",
        "plt.title('ROI by Campaign')\n",
        "plt.xlabel('Campaign')\n",
        "plt.ylabel('ROI')\n",
        "plt.show()"
      ],
      "metadata": {
        "colab": {
          "base_uri": "https://localhost:8080/",
          "height": 564
        },
        "id": "67HjTXVd9Nub",
        "outputId": "6d2af722-8f21-4f7a-c25e-2bcd630a9c01"
      },
      "execution_count": 6,
      "outputs": [
        {
          "output_type": "display_data",
          "data": {
            "text/plain": [
              "<Figure size 800x600 with 1 Axes>"
            ],
            "image/png": "[encoded data removed]"
          },
          "metadata": {}
        }
      ]
    },
    {
      "cell_type": "code",
      "source": [],
      "metadata": {
        "id": "m6BnhrhV90db"
      },
      "execution_count": null,
      "outputs": []
    },
    {
      "cell_type": "code",
      "source": [
        "from sklearn.model_selection import train_test_split\n",
        "from sklearn.linear_model import LinearRegression\n",
        "from sklearn.metrics import mean_squared_error\n",
        "\n",
        "\n",
        "data = {'Ad_Spend': [500, 800, 1500, 1000, 2000],\n",
        "        'Leads': [50, 80, 120, 100, 150]}\n",
        "\n",
        "\n",
        "df = pd.DataFrame(data)\n",
        "\n",
        "x = df[['Ad_Spend']]\n",
        "y = df['Leads']\n",
        "\n",
        "x_train, x_test, y_train, y_test = train_test_split(x, y, test_size=0.2, random_state=42)\n",
        "\n",
        "model = LinearRegression()\n",
        "model.fit(x_train, y_train)\n",
        "\n",
        "y_pred = model.predict(x_test)\n",
        "mse = mean_squared_error(y_test, y_pred)\n",
        "print(f\"Mean Squared Error: {mse}\")"
      ],
      "metadata": {
        "colab": {
          "base_uri": "https://localhost:8080/"
        },
        "id": "R1hIN0kD9_j6",
        "outputId": "492e533d-f6b4-4160-de4e-9176ec20d87e"
      },
      "execution_count": 7,
      "outputs": [
        {
          "output_type": "stream",
          "name": "stdout",
          "text": [
            "Mean Squared Error: 14.43999999999987\n"
          ]
        }
      ]
    },
    {
      "cell_type": "code",
      "source": [
        "print(f\"Coefficients: {model.coef_}\")"
      ],
      "metadata": {
        "colab": {
          "base_uri": "https://localhost:8080/"
        },
        "id": "5flyi_7S_8kb",
        "outputId": "7853c0c1-b694-4719-d2a6-fafd54db6449"
      },
      "execution_count": 8,
      "outputs": [
        {
          "output_type": "stream",
          "name": "stdout",
          "text": [
            "Coefficients: [0.064]\n"
          ]
        }
      ]
    },
    {
      "cell_type": "code",
      "source": [
        "print(f\"Intercept: {model.intercept_}\")"
      ],
      "metadata": {
        "colab": {
          "base_uri": "https://localhost:8080/"
        },
        "id": "OJzz3pSJAEkY",
        "outputId": "abb63100-838f-4771-e688-ad73e36ee16e"
      },
      "execution_count": 9,
      "outputs": [
        {
          "output_type": "stream",
          "name": "stdout",
          "text": [
            "Intercept: 25.00000000000003\n"
          ]
        }
      ]
    }
  ]
}