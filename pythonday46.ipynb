{
  "nbformat": 4,
  "nbformat_minor": 0,
  "metadata": {
    "colab": {
      "provenance": [],
      "mount_file_id": "1jVlDlqCOxgnJXhLoSr9cGOvSj921GC0e",
      "authorship_tag": "ABX9TyPnGKgyAXv+sUTHAeDVPIOj",
      "include_colab_link": true
    },
    "kernelspec": {
      "name": "python3",
      "display_name": "Python 3"
    },
    "language_info": {
      "name": "python"
    }
  },
  "cells": [
    {
      "cell_type": "markdown",
      "metadata": {
        "id": "view-in-github",
        "colab_type": "text"
      },
      "source": [
        "<a href=\"https://colab.research.google.com/github/gfeyzakorkmaz/gfeyzakorkmaz/blob/main/pythonday46.ipynb\" target=\"_parent\"><img src=\"https://colab.research.google.com/assets/colab-badge.svg\" alt=\"Open In Colab\"/></a>"
      ]
    },
    {
      "cell_type": "code",
      "execution_count": 1,
      "metadata": {
        "id": "GkoIAckOa64t"
      },
      "outputs": [],
      "source": [
        "import pandas as pd"
      ]
    },
    {
      "cell_type": "code",
      "source": [
        "path = '/content/drive/MyDrive/Dataset/complex_marketing_data_enriched.xlsx'"
      ],
      "metadata": {
        "id": "5RT13WMJbOhE"
      },
      "execution_count": 11,
      "outputs": []
    },
    {
      "cell_type": "code",
      "source": [
        "df = pd.read_excel(path)\n",
        "df.head()"
      ],
      "metadata": {
        "colab": {
          "base_uri": "https://localhost:8080/",
          "height": 382
        },
        "id": "N2NtXJBasYbT",
        "outputId": "d85d699e-4d95-4d55-e7ea-586c1d380791"
      },
      "execution_count": 12,
      "outputs": [
        {
          "output_type": "execute_result",
          "data": {
            "text/plain": [
              "   Customer ID  Age Gender  Total Spent  Converted  \\\n",
              "0            1   23      F          150          1   \n",
              "1            2   35      M          600          1   \n",
              "2            3   45      F          800          0   \n",
              "3            4   52      M          200          0   \n",
              "4            5   29      F          300          1   \n",
              "\n",
              "                        Comments Purchased Category  Stock Region  \\\n",
              "0     Satisfied with the service           Clothing      4   East   \n",
              "1  Needs improvement in delivery             Beauty     86   West   \n",
              "2               Regular customer              Books     24  North   \n",
              "3               Occasional buyer             Beauty     10   East   \n",
              "4                   High spender              Books     47   East   \n",
              "\n",
              "  Income Level  Discount Availed  Customer Tenure (Years)      Campaign  \\\n",
              "0       Medium                46                        4   Winter Sale   \n",
              "1          Low                61                       12   Summer Sale   \n",
              "2       Medium                50                       12  Black Friday   \n",
              "3       Medium                54                        7   Winter Sale   \n",
              "4       Medium                63                       12   Winter Sale   \n",
              "\n",
              "   Return Rate (%)  Website Visit Frequency  Average Cart Value  \n",
              "0         2.981829                        3              378.00  \n",
              "1         1.833412                        6              315.52  \n",
              "2         6.547401                        0              250.69  \n",
              "3         3.923717                        1              222.58  \n",
              "4         2.306644                        4              298.68  "
            ],
            "text/html": [
              "\n",
              "  <div id=\"df-195bf72c-ec68-4c00-9430-9cebae19f426\" class=\"colab-df-container\">\n",
              "    <div>\n",
              "<style scoped>\n",
              "    .dataframe tbody tr th:only-of-type {\n",
              "        vertical-align: middle;\n",
              "    }\n",
              "\n",
              "    .dataframe tbody tr th {\n",
              "        vertical-align: top;\n",
              "    }\n",
              "\n",
              "    .dataframe thead th {\n",
              "        text-align: right;\n",
              "    }\n",
              "</style>\n",
              "<table border=\"1\" class=\"dataframe\">\n",
              "  <thead>\n",
              "    <tr style=\"text-align: right;\">\n",
              "      <th></th>\n",
              "      <th>Customer ID</th>\n",
              "      <th>Age</th>\n",
              "      <th>Gender</th>\n",
              "      <th>Total Spent</th>\n",
              "      <th>Converted</th>\n",
              "      <th>Comments</th>\n",
              "      <th>Purchased Category</th>\n",
              "      <th>Stock</th>\n",
              "      <th>Region</th>\n",
              "      <th>Income Level</th>\n",
              "      <th>Discount Availed</th>\n",
              "      <th>Customer Tenure (Years)</th>\n",
              "      <th>Campaign</th>\n",
              "      <th>Return Rate (%)</th>\n",
              "      <th>Website Visit Frequency</th>\n",
              "      <th>Average Cart Value</th>\n",
              "    </tr>\n",
              "  </thead>\n",
              "  <tbody>\n",
              "    <tr>\n",
              "      <th>0</th>\n",
              "      <td>1</td>\n",
              "      <td>23</td>\n",
              "      <td>F</td>\n",
              "      <td>150</td>\n",
              "      <td>1</td>\n",
              "      <td>Satisfied with the service</td>\n",
              "      <td>Clothing</td>\n",
              "      <td>4</td>\n",
              "      <td>East</td>\n",
              "      <td>Medium</td>\n",
              "      <td>46</td>\n",
              "      <td>4</td>\n",
              "      <td>Winter Sale</td>\n",
              "      <td>2.981829</td>\n",
              "      <td>3</td>\n",
              "      <td>378.00</td>\n",
              "    </tr>\n",
              "    <tr>\n",
              "      <th>1</th>\n",
              "      <td>2</td>\n",
              "      <td>35</td>\n",
              "      <td>M</td>\n",
              "      <td>600</td>\n",
              "      <td>1</td>\n",
              "      <td>Needs improvement in delivery</td>\n",
              "      <td>Beauty</td>\n",
              "      <td>86</td>\n",
              "      <td>West</td>\n",
              "      <td>Low</td>\n",
              "      <td>61</td>\n",
              "      <td>12</td>\n",
              "      <td>Summer Sale</td>\n",
              "      <td>1.833412</td>\n",
              "      <td>6</td>\n",
              "      <td>315.52</td>\n",
              "    </tr>\n",
              "    <tr>\n",
              "      <th>2</th>\n",
              "      <td>3</td>\n",
              "      <td>45</td>\n",
              "      <td>F</td>\n",
              "      <td>800</td>\n",
              "      <td>0</td>\n",
              "      <td>Regular customer</td>\n",
              "      <td>Books</td>\n",
              "      <td>24</td>\n",
              "      <td>North</td>\n",
              "      <td>Medium</td>\n",
              "      <td>50</td>\n",
              "      <td>12</td>\n",
              "      <td>Black Friday</td>\n",
              "      <td>6.547401</td>\n",
              "      <td>0</td>\n",
              "      <td>250.69</td>\n",
              "    </tr>\n",
              "    <tr>\n",
              "      <th>3</th>\n",
              "      <td>4</td>\n",
              "      <td>52</td>\n",
              "      <td>M</td>\n",
              "      <td>200</td>\n",
              "      <td>0</td>\n",
              "      <td>Occasional buyer</td>\n",
              "      <td>Beauty</td>\n",
              "      <td>10</td>\n",
              "      <td>East</td>\n",
              "      <td>Medium</td>\n",
              "      <td>54</td>\n",
              "      <td>7</td>\n",
              "      <td>Winter Sale</td>\n",
              "      <td>3.923717</td>\n",
              "      <td>1</td>\n",
              "      <td>222.58</td>\n",
              "    </tr>\n",
              "    <tr>\n",
              "      <th>4</th>\n",
              "      <td>5</td>\n",
              "      <td>29</td>\n",
              "      <td>F</td>\n",
              "      <td>300</td>\n",
              "      <td>1</td>\n",
              "      <td>High spender</td>\n",
              "      <td>Books</td>\n",
              "      <td>47</td>\n",
              "      <td>East</td>\n",
              "      <td>Medium</td>\n",
              "      <td>63</td>\n",
              "      <td>12</td>\n",
              "      <td>Winter Sale</td>\n",
              "      <td>2.306644</td>\n",
              "      <td>4</td>\n",
              "      <td>298.68</td>\n",
              "    </tr>\n",
              "  </tbody>\n",
              "</table>\n",
              "</div>\n",
              "    <div class=\"colab-df-buttons\">\n",
              "\n",
              "  <div class=\"colab-df-container\">\n",
              "    <button class=\"colab-df-convert\" onclick=\"convertToInteractive('df-195bf72c-ec68-4c00-9430-9cebae19f426')\"\n",
              "            title=\"Convert this dataframe to an interactive table.\"\n",
              "            style=\"display:none;\">\n",
              "\n",
              "  <svg xmlns=\"http://www.w3.org/2000/svg\" height=\"24px\" viewBox=\"0 -960 960 960\">\n",
              "    <path d=\"M120-120v-720h720v720H120Zm60-500h600v-160H180v160Zm220 220h160v-160H400v160Zm0 220h160v-160H400v160ZM180-400h160v-160H180v160Zm440 0h160v-160H620v160ZM180-180h160v-160H180v160Zm440 0h160v-160H620v160Z\"/>\n",
              "  </svg>\n",
              "    </button>\n",
              "\n",
              "  <style>\n",
              "    .colab-df-container {\n",
              "      display:flex;\n",
              "      gap: 12px;\n",
              "    }\n",
              "\n",
              "    .colab-df-convert {\n",
              "      background-color: #E8F0FE;\n",
              "      border: none;\n",
              "      border-radius: 50%;\n",
              "      cursor: pointer;\n",
              "      display: none;\n",
              "      fill: #1967D2;\n",
              "      height: 32px;\n",
              "      padding: 0 0 0 0;\n",
              "      width: 32px;\n",
              "    }\n",
              "\n",
              "    .colab-df-convert:hover {\n",
              "      background-color: #E2EBFA;\n",
              "      box-shadow: 0px 1px 2px rgba(60, 64, 67, 0.3), 0px 1px 3px 1px rgba(60, 64, 67, 0.15);\n",
              "      fill: #174EA6;\n",
              "    }\n",
              "\n",
              "    .colab-df-buttons div {\n",
              "      margin-bottom: 4px;\n",
              "    }\n",
              "\n",
              "    [theme=dark] .colab-df-convert {\n",
              "      background-color: #3B4455;\n",
              "      fill: #D2E3FC;\n",
              "    }\n",
              "\n",
              "    [theme=dark] .colab-df-convert:hover {\n",
              "      background-color: #434B5C;\n",
              "      box-shadow: 0px 1px 3px 1px rgba(0, 0, 0, 0.15);\n",
              "      filter: drop-shadow(0px 1px 2px rgba(0, 0, 0, 0.3));\n",
              "      fill: #FFFFFF;\n",
              "    }\n",
              "  </style>\n",
              "\n",
              "    <script>\n",
              "      const buttonEl =\n",
              "        document.querySelector('#df-195bf72c-ec68-4c00-9430-9cebae19f426 button.colab-df-convert');\n",
              "      buttonEl.style.display =\n",
              "        google.colab.kernel.accessAllowed ? 'block' : 'none';\n",
              "\n",
              "      async function convertToInteractive(key) {\n",
              "        const element = document.querySelector('#df-195bf72c-ec68-4c00-9430-9cebae19f426');\n",
              "        const dataTable =\n",
              "          await google.colab.kernel.invokeFunction('convertToInteractive',\n",
              "                                                    [key], {});\n",
              "        if (!dataTable) return;\n",
              "\n",
              "        const docLinkHtml = 'Like what you see? Visit the ' +\n",
              "          '<a target=\"_blank\" href=https://colab.research.google.com/notebooks/data_table.ipynb>data table notebook</a>'\n",
              "          + ' to learn more about interactive tables.';\n",
              "        element.innerHTML = '';\n",
              "        dataTable['output_type'] = 'display_data';\n",
              "        await google.colab.output.renderOutput(dataTable, element);\n",
              "        const docLink = document.createElement('div');\n",
              "        docLink.innerHTML = docLinkHtml;\n",
              "        element.appendChild(docLink);\n",
              "      }\n",
              "    </script>\n",
              "  </div>\n",
              "\n",
              "\n",
              "<div id=\"df-65e2b5a2-078e-48c5-8818-8b8a2120e888\">\n",
              "  <button class=\"colab-df-quickchart\" onclick=\"quickchart('df-65e2b5a2-078e-48c5-8818-8b8a2120e888')\"\n",
              "            title=\"Suggest charts\"\n",
              "            style=\"display:none;\">\n",
              "\n",
              "<svg xmlns=\"http://www.w3.org/2000/svg\" height=\"24px\"viewBox=\"0 0 24 24\"\n",
              "     width=\"24px\">\n",
              "    <g>\n",
              "        <path d=\"M19 3H5c-1.1 0-2 .9-2 2v14c0 1.1.9 2 2 2h14c1.1 0 2-.9 2-2V5c0-1.1-.9-2-2-2zM9 17H7v-7h2v7zm4 0h-2V7h2v10zm4 0h-2v-4h2v4z\"/>\n",
              "    </g>\n",
              "</svg>\n",
              "  </button>\n",
              "\n",
              "<style>\n",
              "  .colab-df-quickchart {\n",
              "      --bg-color: #E8F0FE;\n",
              "      --fill-color: #1967D2;\n",
              "      --hover-bg-color: #E2EBFA;\n",
              "      --hover-fill-color: #174EA6;\n",
              "      --disabled-fill-color: #AAA;\n",
              "      --disabled-bg-color: #DDD;\n",
              "  }\n",
              "\n",
              "  [theme=dark] .colab-df-quickchart {\n",
              "      --bg-color: #3B4455;\n",
              "      --fill-color: #D2E3FC;\n",
              "      --hover-bg-color: #434B5C;\n",
              "      --hover-fill-color: #FFFFFF;\n",
              "      --disabled-bg-color: #3B4455;\n",
              "      --disabled-fill-color: #666;\n",
              "  }\n",
              "\n",
              "  .colab-df-quickchart {\n",
              "    background-color: var(--bg-color);\n",
              "    border: none;\n",
              "    border-radius: 50%;\n",
              "    cursor: pointer;\n",
              "    display: none;\n",
              "    fill: var(--fill-color);\n",
              "    height: 32px;\n",
              "    padding: 0;\n",
              "    width: 32px;\n",
              "  }\n",
              "\n",
              "  .colab-df-quickchart:hover {\n",
              "    background-color: var(--hover-bg-color);\n",
              "    box-shadow: 0 1px 2px rgba(60, 64, 67, 0.3), 0 1px 3px 1px rgba(60, 64, 67, 0.15);\n",
              "    fill: var(--button-hover-fill-color);\n",
              "  }\n",
              "\n",
              "  .colab-df-quickchart-complete:disabled,\n",
              "  .colab-df-quickchart-complete:disabled:hover {\n",
              "    background-color: var(--disabled-bg-color);\n",
              "    fill: var(--disabled-fill-color);\n",
              "    box-shadow: none;\n",
              "  }\n",
              "\n",
              "  .colab-df-spinner {\n",
              "    border: 2px solid var(--fill-color);\n",
              "    border-color: transparent;\n",
              "    border-bottom-color: var(--fill-color);\n",
              "    animation:\n",
              "      spin 1s steps(1) infinite;\n",
              "  }\n",
              "\n",
              "  @keyframes spin {\n",
              "    0% {\n",
              "      border-color: transparent;\n",
              "      border-bottom-color: var(--fill-color);\n",
              "      border-left-color: var(--fill-color);\n",
              "    }\n",
              "    20% {\n",
              "      border-color: transparent;\n",
              "      border-left-color: var(--fill-color);\n",
              "      border-top-color: var(--fill-color);\n",
              "    }\n",
              "    30% {\n",
              "      border-color: transparent;\n",
              "      border-left-color: var(--fill-color);\n",
              "      border-top-color: var(--fill-color);\n",
              "      border-right-color: var(--fill-color);\n",
              "    }\n",
              "    40% {\n",
              "      border-color: transparent;\n",
              "      border-right-color: var(--fill-color);\n",
              "      border-top-color: var(--fill-color);\n",
              "    }\n",
              "    60% {\n",
              "      border-color: transparent;\n",
              "      border-right-color: var(--fill-color);\n",
              "    }\n",
              "    80% {\n",
              "      border-color: transparent;\n",
              "      border-right-color: var(--fill-color);\n",
              "      border-bottom-color: var(--fill-color);\n",
              "    }\n",
              "    90% {\n",
              "      border-color: transparent;\n",
              "      border-bottom-color: var(--fill-color);\n",
              "    }\n",
              "  }\n",
              "</style>\n",
              "\n",
              "  <script>\n",
              "    async function quickchart(key) {\n",
              "      const quickchartButtonEl =\n",
              "        document.querySelector('#' + key + ' button');\n",
              "      quickchartButtonEl.disabled = true;  // To prevent multiple clicks.\n",
              "      quickchartButtonEl.classList.add('colab-df-spinner');\n",
              "      try {\n",
              "        const charts = await google.colab.kernel.invokeFunction(\n",
              "            'suggestCharts', [key], {});\n",
              "      } catch (error) {\n",
              "        console.error('Error during call to suggestCharts:', error);\n",
              "      }\n",
              "      quickchartButtonEl.classList.remove('colab-df-spinner');\n",
              "      quickchartButtonEl.classList.add('colab-df-quickchart-complete');\n",
              "    }\n",
              "    (() => {\n",
              "      let quickchartButtonEl =\n",
              "        document.querySelector('#df-65e2b5a2-078e-48c5-8818-8b8a2120e888 button');\n",
              "      quickchartButtonEl.style.display =\n",
              "        google.colab.kernel.accessAllowed ? 'block' : 'none';\n",
              "    })();\n",
              "  </script>\n",
              "</div>\n",
              "\n",
              "    </div>\n",
              "  </div>\n"
            ],
            "application/vnd.google.colaboratory.intrinsic+json": {
              "type": "dataframe",
              "variable_name": "df",
              "summary": "{\n  \"name\": \"df\",\n  \"rows\": 20,\n  \"fields\": [\n    {\n      \"column\": \"Customer ID\",\n      \"properties\": {\n        \"dtype\": \"number\",\n        \"std\": 5,\n        \"min\": 1,\n        \"max\": 20,\n        \"num_unique_values\": 20,\n        \"samples\": [\n          1,\n          18,\n          16\n        ],\n        \"semantic_type\": \"\",\n        \"description\": \"\"\n      }\n    },\n    {\n      \"column\": \"Age\",\n      \"properties\": {\n        \"dtype\": \"number\",\n        \"std\": 9,\n        \"min\": 23,\n        \"max\": 52,\n        \"num_unique_values\": 18,\n        \"samples\": [\n          23,\n          35,\n          50\n        ],\n        \"semantic_type\": \"\",\n        \"description\": \"\"\n      }\n    },\n    {\n      \"column\": \"Gender\",\n      \"properties\": {\n        \"dtype\": \"category\",\n        \"num_unique_values\": 2,\n        \"samples\": [\n          \"M\",\n          \"F\"\n        ],\n        \"semantic_type\": \"\",\n        \"description\": \"\"\n      }\n    },\n    {\n      \"column\": \"Total Spent\",\n      \"properties\": {\n        \"dtype\": \"number\",\n        \"std\": 201,\n        \"min\": 120,\n        \"max\": 800,\n        \"num_unique_values\": 19,\n        \"samples\": [\n          150,\n          450\n        ],\n        \"semantic_type\": \"\",\n        \"description\": \"\"\n      }\n    },\n    {\n      \"column\": \"Converted\",\n      \"properties\": {\n        \"dtype\": \"number\",\n        \"std\": 0,\n        \"min\": 0,\n        \"max\": 1,\n        \"num_unique_values\": 2,\n        \"samples\": [\n          0,\n          1\n        ],\n        \"semantic_type\": \"\",\n        \"description\": \"\"\n      }\n    },\n    {\n      \"column\": \"Comments\",\n      \"properties\": {\n        \"dtype\": \"string\",\n        \"num_unique_values\": 20,\n        \"samples\": [\n          \"Satisfied with the service\",\n          \"Satisfied with customer service\"\n        ],\n        \"semantic_type\": \"\",\n        \"description\": \"\"\n      }\n    },\n    {\n      \"column\": \"Purchased Category\",\n      \"properties\": {\n        \"dtype\": \"category\",\n        \"num_unique_values\": 5,\n        \"samples\": [\n          \"Beauty\",\n          \"Electronics\"\n        ],\n        \"semantic_type\": \"\",\n        \"description\": \"\"\n      }\n    },\n    {\n      \"column\": \"Stock\",\n      \"properties\": {\n        \"dtype\": \"number\",\n        \"std\": 33,\n        \"min\": 0,\n        \"max\": 92,\n        \"num_unique_values\": 16,\n        \"samples\": [\n          4,\n          86\n        ],\n        \"semantic_type\": \"\",\n        \"description\": \"\"\n      }\n    },\n    {\n      \"column\": \"Region\",\n      \"properties\": {\n        \"dtype\": \"category\",\n        \"num_unique_values\": 4,\n        \"samples\": [\n          \"West\",\n          \"South\"\n        ],\n        \"semantic_type\": \"\",\n        \"description\": \"\"\n      }\n    },\n    {\n      \"column\": \"Income Level\",\n      \"properties\": {\n        \"dtype\": \"category\",\n        \"num_unique_values\": 3,\n        \"samples\": [\n          \"Medium\",\n          \"Low\"\n        ],\n        \"semantic_type\": \"\",\n        \"description\": \"\"\n      }\n    },\n    {\n      \"column\": \"Discount Availed\",\n      \"properties\": {\n        \"dtype\": \"number\",\n        \"std\": 28,\n        \"min\": 1,\n        \"max\": 89,\n        \"num_unique_values\": 19,\n        \"samples\": [\n          46,\n          2\n        ],\n        \"semantic_type\": \"\",\n        \"description\": \"\"\n      }\n    },\n    {\n      \"column\": \"Customer Tenure (Years)\",\n      \"properties\": {\n        \"dtype\": \"number\",\n        \"std\": 4,\n        \"min\": 1,\n        \"max\": 14,\n        \"num_unique_values\": 11,\n        \"samples\": [\n          3,\n          4\n        ],\n        \"semantic_type\": \"\",\n        \"description\": \"\"\n      }\n    },\n    {\n      \"column\": \"Campaign\",\n      \"properties\": {\n        \"dtype\": \"category\",\n        \"num_unique_values\": 3,\n        \"samples\": [\n          \"Winter Sale\",\n          \"Summer Sale\"\n        ],\n        \"semantic_type\": \"\",\n        \"description\": \"\"\n      }\n    },\n    {\n      \"column\": \"Return Rate (%)\",\n      \"properties\": {\n        \"dtype\": \"number\",\n        \"std\": 1.852821145922519,\n        \"min\": 1.833411572926225,\n        \"max\": 7.359432689401402,\n        \"num_unique_values\": 20,\n        \"samples\": [\n          2.981829314269785,\n          4.179233382627399\n        ],\n        \"semantic_type\": \"\",\n        \"description\": \"\"\n      }\n    },\n    {\n      \"column\": \"Website Visit Frequency\",\n      \"properties\": {\n        \"dtype\": \"number\",\n        \"std\": 1,\n        \"min\": 0,\n        \"max\": 7,\n        \"num_unique_values\": 8,\n        \"samples\": [\n          6,\n          7\n        ],\n        \"semantic_type\": \"\",\n        \"description\": \"\"\n      }\n    },\n    {\n      \"column\": \"Average Cart Value\",\n      \"properties\": {\n        \"dtype\": \"number\",\n        \"std\": 70.70752907688045,\n        \"min\": 158.28,\n        \"max\": 440.44,\n        \"num_unique_values\": 20,\n        \"samples\": [\n          378.0,\n          440.44\n        ],\n        \"semantic_type\": \"\",\n        \"description\": \"\"\n      }\n    }\n  ]\n}"
            }
          },
          "metadata": {},
          "execution_count": 12
        }
      ]
    },
    {
      "cell_type": "code",
      "source": [
        "spending_summary = df.groupby('Purchased Category')['Total Spent'].sum().sort_values(ascending=False)\n",
        "print(spending_summary)"
      ],
      "metadata": {
        "colab": {
          "base_uri": "https://localhost:8080/"
        },
        "id": "tPAk_mg9sFnJ",
        "outputId": "38575457-cc98-475d-d263-9e5dc8c889a2"
      },
      "execution_count": 13,
      "outputs": [
        {
          "output_type": "stream",
          "name": "stdout",
          "text": [
            "Purchased Category\n",
            "Books          2350\n",
            "Home Goods     2090\n",
            "Electronics    1680\n",
            "Clothing       1600\n",
            "Beauty         1200\n",
            "Name: Total Spent, dtype: int64\n"
          ]
        }
      ]
    },
    {
      "cell_type": "code",
      "source": [
        "campaign_conversion = df.groupby('Campaign')['Converted'].mean().sort_values(ascending=False)\n",
        "print(campaign_conversion)"
      ],
      "metadata": {
        "colab": {
          "base_uri": "https://localhost:8080/"
        },
        "id": "ADwGcQdEsi2K",
        "outputId": "d14e843b-5219-4286-ae7a-f5745be28480"
      },
      "execution_count": 14,
      "outputs": [
        {
          "output_type": "stream",
          "name": "stdout",
          "text": [
            "Campaign\n",
            "Winter Sale     0.777778\n",
            "Summer Sale     0.500000\n",
            "Black Friday    0.000000\n",
            "Name: Converted, dtype: float64\n"
          ]
        }
      ]
    },
    {
      "cell_type": "code",
      "source": [
        "from gensim import corpora, models\n",
        "\n",
        "comments = df['Comments'].dropna().tolist()\n",
        "texts = [[word for word in comment.lower().split() if len(word) > 2] for comment in comments]\n",
        "\n",
        "dictionary = corpora.Dictionary(texts)\n",
        "corpus = [dictionary.doc2bow(text) for text in texts]\n",
        "\n",
        "lda = models.LdaModel(corpus, num_topics=2, id2word=dictionary, passes=10)\n",
        "\n",
        "topics = lda.print_topics(num_words=5)\n",
        "print(\"Topics:\", topics)"
      ],
      "metadata": {
        "colab": {
          "base_uri": "https://localhost:8080/"
        },
        "id": "jdVy_hcLs6gu",
        "outputId": "5bb4a12f-a415-4be5-9024-fc261e9c2394"
      },
      "execution_count": 15,
      "outputs": [
        {
          "output_type": "stream",
          "name": "stdout",
          "text": [
            "Topics: [(0, '0.091*\"with\" + 0.086*\"the\" + 0.071*\"satisfied\" + 0.051*\"product\" + 0.050*\"enjoys\"'), (1, '0.061*\"customer\" + 0.057*\"high\" + 0.056*\"needs\" + 0.034*\"conversion\" + 0.034*\"rate\"')]\n"
          ]
        }
      ]
    },
    {
      "cell_type": "code",
      "source": [
        "region_discount = df.groupby('Region')['Discount Availed'].mean().sort_values(ascending=False)\n",
        "print(region_discount)"
      ],
      "metadata": {
        "colab": {
          "base_uri": "https://localhost:8080/"
        },
        "id": "tOgT_3zatkh2",
        "outputId": "3be3686c-5bc3-4701-e270-95fc2710bb23"
      },
      "execution_count": 16,
      "outputs": [
        {
          "output_type": "stream",
          "name": "stdout",
          "text": [
            "Region\n",
            "South    72.000000\n",
            "West     45.166667\n",
            "East     36.666667\n",
            "North    29.750000\n",
            "Name: Discount Availed, dtype: float64\n"
          ]
        }
      ]
    },
    {
      "cell_type": "code",
      "source": [
        "high_spenders = df[df['Total Spent'] > df['Total Spent'].quantile(0.75)]\n",
        "print(high_spenders[['Customer ID', 'Total Spent']])"
      ],
      "metadata": {
        "colab": {
          "base_uri": "https://localhost:8080/"
        },
        "id": "v2W0B4THuGEe",
        "outputId": "ca7af2b7-ba0f-4c7f-80a4-237d95ef5233"
      },
      "execution_count": 17,
      "outputs": [
        {
          "output_type": "stream",
          "name": "stdout",
          "text": [
            "    Customer ID  Total Spent\n",
            "2             3          800\n",
            "6             7          670\n",
            "9            10          750\n",
            "10           11          610\n",
            "17           18          700\n"
          ]
        }
      ]
    },
    {
      "cell_type": "code",
      "source": [
        "age_group_purchases = pd.cut(df['Age'], bins=[0, 25, 35, 50, 65], labels=['18-25', '26-35', '36-50', '51-65'])\n",
        "df['Age Group'] = age_group_purchases\n",
        "age_group_behavior = df.groupby('Age Group')['Converted'].mean()\n",
        "print(age_group_behavior)"
      ],
      "metadata": {
        "colab": {
          "base_uri": "https://localhost:8080/"
        },
        "id": "UY7Ns1aAuXOd",
        "outputId": "0affc16e-81b9-421e-9468-7ae85cf0eb65"
      },
      "execution_count": 18,
      "outputs": [
        {
          "output_type": "stream",
          "name": "stdout",
          "text": [
            "Age Group\n",
            "18-25    0.666667\n",
            "26-35    0.857143\n",
            "36-50    0.444444\n",
            "51-65    0.000000\n",
            "Name: Converted, dtype: float64\n"
          ]
        },
        {
          "output_type": "stream",
          "name": "stderr",
          "text": [
            "<ipython-input-18-5c70d6116c73>:3: FutureWarning: The default of observed=False is deprecated and will be changed to True in a future version of pandas. Pass observed=False to retain current behavior or observed=True to adopt the future default and silence this warning.\n",
            "  age_group_behavior = df.groupby('Age Group')['Converted'].mean()\n"
          ]
        }
      ]
    },
    {
      "cell_type": "code",
      "source": [
        "loyalty_analysis = df.groupby('Customer Tenure (Years)')['Converted'].mean()\n",
        "print(loyalty_analysis)"
      ],
      "metadata": {
        "colab": {
          "base_uri": "https://localhost:8080/"
        },
        "id": "x___z60Gu718",
        "outputId": "bf76b69a-4bca-497a-8e9f-f14f02dfee42"
      },
      "execution_count": 19,
      "outputs": [
        {
          "output_type": "stream",
          "name": "stdout",
          "text": [
            "Customer Tenure (Years)\n",
            "1     1.000000\n",
            "2     0.500000\n",
            "3     1.000000\n",
            "4     0.750000\n",
            "6     0.500000\n",
            "7     0.000000\n",
            "8     1.000000\n",
            "10    0.000000\n",
            "12    0.666667\n",
            "13    0.000000\n",
            "14    0.500000\n",
            "Name: Converted, dtype: float64\n"
          ]
        }
      ]
    },
    {
      "cell_type": "code",
      "source": [
        "category_return_rate = df.groupby('Purchased Category')['Return Rate (%)'].mean().sort_values(ascending=False)\n",
        "print(category_return_rate)"
      ],
      "metadata": {
        "colab": {
          "base_uri": "https://localhost:8080/"
        },
        "id": "0fck-JV7vIN9",
        "outputId": "fbf22693-96aa-44ab-fd91-8315f5383610"
      },
      "execution_count": 21,
      "outputs": [
        {
          "output_type": "stream",
          "name": "stdout",
          "text": [
            "Purchased Category\n",
            "Home Goods     4.902000\n",
            "Books          4.819366\n",
            "Electronics    4.775070\n",
            "Clothing       4.645520\n",
            "Beauty         3.447599\n",
            "Name: Return Rate (%), dtype: float64\n"
          ]
        }
      ]
    },
    {
      "cell_type": "code",
      "source": [
        "website_engagement = df.groupby('Website Visit Frequency')['Converted'].mean()\n",
        "print(website_engagement)"
      ],
      "metadata": {
        "colab": {
          "base_uri": "https://localhost:8080/"
        },
        "id": "jH4AG0YBva2Q",
        "outputId": "91b2df63-afaa-4fec-fcae-90383b2fc56e"
      },
      "execution_count": 22,
      "outputs": [
        {
          "output_type": "stream",
          "name": "stdout",
          "text": [
            "Website Visit Frequency\n",
            "0    0.00\n",
            "1    0.50\n",
            "2    1.00\n",
            "3    0.40\n",
            "4    0.75\n",
            "5    0.50\n",
            "6    1.00\n",
            "7    1.00\n",
            "Name: Converted, dtype: float64\n"
          ]
        }
      ]
    },
    {
      "cell_type": "code",
      "source": [
        "from sklearn.model_selection import train_test_split\n",
        "from sklearn.linear_model import LogisticRegression\n",
        "from sklearn.metrics import accuracy_score\n",
        "\n",
        "X = df[['Age', 'Total Spent', 'Discount Availed', 'Website Visit Frequency']]\n",
        "y = df['Converted']\n",
        "X_train, X_test, y_train, y_test = train_test_split(X, y, test_size=0.3, random_state=42)\n",
        "\n",
        "model = LogisticRegression()\n",
        "model.fit(X_train, y_train)\n",
        "\n",
        "y_pred = model.predict(X_test)\n",
        "\n",
        "accuracy =accuracy_score(y_test, y_pred)\n",
        "print(\"Accuracy:\", accuracy)"
      ],
      "metadata": {
        "colab": {
          "base_uri": "https://localhost:8080/"
        },
        "id": "Nw7ZaJl2vlT0",
        "outputId": "03608755-9a39-4423-9ff8-09bc2d5e9707"
      },
      "execution_count": 25,
      "outputs": [
        {
          "output_type": "stream",
          "name": "stdout",
          "text": [
            "Accuracy: 0.6666666666666666\n"
          ]
        }
      ]
    },
    {
      "cell_type": "code",
      "source": [
        "from gensim.models.phrases import Phrases, Phraser\n",
        "\n",
        "phrases = Phrases(texts, min_count=2, threshold=1)\n",
        "biagram_model = Phraser(phrases)\n",
        "biagram_texts = [biagram_model[text] for text in texts]\n",
        "print(biagram_texts[:5])"
      ],
      "metadata": {
        "colab": {
          "base_uri": "https://localhost:8080/"
        },
        "id": "k7Ar09KBwt3Y",
        "outputId": "41c01186-2dca-4d13-b69a-671b1ff13c39"
      },
      "execution_count": 27,
      "outputs": [
        {
          "output_type": "stream",
          "name": "stdout",
          "text": [
            "[['satisfied_with', 'the', 'service'], ['needs', 'improvement', 'delivery'], ['regular', 'customer'], ['occasional', 'buyer'], ['high', 'spender']]\n"
          ]
        }
      ]
    },
    {
      "cell_type": "code",
      "source": [
        "from gensim.models import Word2Vec\n",
        "\n",
        "word2vec_model = Word2Vec(sentences=texts, vector_size=50, window=3, min_count=2, workers=4)\n",
        "print(word2vec_model.wv.most_similar('service'))"
      ],
      "metadata": {
        "colab": {
          "base_uri": "https://localhost:8080/"
        },
        "id": "nn1_JrHZxHgR",
        "outputId": "3a0c931e-bc14-4ae2-9d55-4a0dba06fafc"
      },
      "execution_count": 30,
      "outputs": [
        {
          "output_type": "stream",
          "name": "stdout",
          "text": [
            "[('needs', 0.18460793793201447), ('customer', 0.13941581547260284), ('enjoys', 0.1071295216679573), ('satisfied', -0.010219999589025974), ('the', -0.05608532950282097), ('high', -0.08927592635154724), ('product', -0.1016002744436264), ('with', -0.11908359825611115)]\n"
          ]
        }
      ]
    },
    {
      "cell_type": "code",
      "source": [
        "from gensim.models import LsiModel\n",
        "\n",
        "lsi = LsiModel(corpus, num_topics=2, id2word=dictionary)\n",
        "print(lsi.print_topics())"
      ],
      "metadata": {
        "colab": {
          "base_uri": "https://localhost:8080/"
        },
        "id": "jAGTu8w_xquo",
        "outputId": "3e6444cf-5e1d-4bdf-ff10-f687b1d91411"
      },
      "execution_count": 31,
      "outputs": [
        {
          "output_type": "stream",
          "name": "stdout",
          "text": [
            "[(0, '0.588*\"with\" + 0.512*\"satisfied\" + 0.360*\"service\" + 0.339*\"the\" + 0.226*\"customer\" + 0.217*\"product\" + 0.152*\"quality\" + 0.077*\"unhappy\" + 0.077*\"returns\" + 0.073*\"enjoys\"'), (1, '-0.704*\"the\" + -0.296*\"enjoys\" + 0.282*\"customer\" + 0.227*\"with\" + -0.219*\"brand\" + -0.219*\"loyal\" + -0.219*\"design\" + -0.219*\"likes\" + -0.176*\"product\" + 0.157*\"satisfied\"')]\n"
          ]
        }
      ]
    },
    {
      "cell_type": "code",
      "source": [
        "for doc in corpus:\n",
        "  topics = lda.get_document_topics(doc)\n",
        "  print(topics)"
      ],
      "metadata": {
        "colab": {
          "base_uri": "https://localhost:8080/"
        },
        "id": "UD-199Vmx5Sh",
        "outputId": "a112744d-aac7-4102-8305-72c6605a87c9"
      },
      "execution_count": 32,
      "outputs": [
        {
          "output_type": "stream",
          "name": "stdout",
          "text": [
            "[(0, 0.89776736), (1, 0.10223258)]\n",
            "[(0, 0.12917697), (1, 0.870823)]\n",
            "[(0, 0.18050705), (1, 0.81949294)]\n",
            "[(0, 0.8244682), (1, 0.17553179)]\n",
            "[(0, 0.17178777), (1, 0.82821226)]\n",
            "[(0, 0.82463753), (1, 0.17536247)]\n",
            "[(0, 0.12986425), (1, 0.8701358)]\n",
            "[(0, 0.18052125), (1, 0.81947875)]\n",
            "[(0, 0.37322), (1, 0.62678)]\n",
            "[(0, 0.12900832), (1, 0.8709917)]\n",
            "[(0, 0.17335443), (1, 0.8266456)]\n",
            "[(0, 0.8974423), (1, 0.10255774)]\n",
            "[(0, 0.8243349), (1, 0.17566514)]\n",
            "[(0, 0.8703279), (1, 0.12967208)]\n",
            "[(0, 0.82676333), (1, 0.17323673)]\n",
            "[(0, 0.8714958), (1, 0.12850422)]\n",
            "[(0, 0.1293672), (1, 0.8706328)]\n",
            "[(0, 0.86390996), (1, 0.13609004)]\n",
            "[(0, 0.17334345), (1, 0.8266566)]\n",
            "[(0, 0.8693699), (1, 0.1306301)]\n"
          ]
        }
      ]
    },
    {
      "cell_type": "code",
      "source": [
        "!pip install pyLDAvis"
      ],
      "metadata": {
        "colab": {
          "base_uri": "https://localhost:8080/"
        },
        "id": "9L21ltBuyM1F",
        "outputId": "e1a1930a-186b-48b6-f129-7c56bb883712"
      },
      "execution_count": 36,
      "outputs": [
        {
          "output_type": "stream",
          "name": "stdout",
          "text": [
            "Collecting pyLDAvis\n",
            "  Downloading pyLDAvis-3.4.1-py3-none-any.whl.metadata (4.2 kB)\n",
            "Requirement already satisfied: numpy>=1.24.2 in /usr/local/lib/python3.10/dist-packages (from pyLDAvis) (1.26.4)\n",
            "Requirement already satisfied: scipy in /usr/local/lib/python3.10/dist-packages (from pyLDAvis) (1.13.1)\n",
            "Requirement already satisfied: pandas>=2.0.0 in /usr/local/lib/python3.10/dist-packages (from pyLDAvis) (2.2.2)\n",
            "Requirement already satisfied: joblib>=1.2.0 in /usr/local/lib/python3.10/dist-packages (from pyLDAvis) (1.4.2)\n",
            "Requirement already satisfied: jinja2 in /usr/local/lib/python3.10/dist-packages (from pyLDAvis) (3.1.4)\n",
            "Requirement already satisfied: numexpr in /usr/local/lib/python3.10/dist-packages (from pyLDAvis) (2.10.1)\n",
            "Collecting funcy (from pyLDAvis)\n",
            "  Using cached funcy-2.0-py2.py3-none-any.whl.metadata (5.9 kB)\n",
            "Requirement already satisfied: scikit-learn>=1.0.0 in /usr/local/lib/python3.10/dist-packages (from pyLDAvis) (1.5.2)\n",
            "Requirement already satisfied: gensim in /usr/local/lib/python3.10/dist-packages (from pyLDAvis) (4.3.3)\n",
            "Requirement already satisfied: setuptools in /usr/local/lib/python3.10/dist-packages (from pyLDAvis) (75.1.0)\n",
            "Requirement already satisfied: python-dateutil>=2.8.2 in /usr/local/lib/python3.10/dist-packages (from pandas>=2.0.0->pyLDAvis) (2.8.2)\n",
            "Requirement already satisfied: pytz>=2020.1 in /usr/local/lib/python3.10/dist-packages (from pandas>=2.0.0->pyLDAvis) (2024.2)\n",
            "Requirement already satisfied: tzdata>=2022.7 in /usr/local/lib/python3.10/dist-packages (from pandas>=2.0.0->pyLDAvis) (2024.2)\n",
            "Requirement already satisfied: threadpoolctl>=3.1.0 in /usr/local/lib/python3.10/dist-packages (from scikit-learn>=1.0.0->pyLDAvis) (3.5.0)\n",
            "Requirement already satisfied: smart-open>=1.8.1 in /usr/local/lib/python3.10/dist-packages (from gensim->pyLDAvis) (7.0.5)\n",
            "Requirement already satisfied: MarkupSafe>=2.0 in /usr/local/lib/python3.10/dist-packages (from jinja2->pyLDAvis) (3.0.2)\n",
            "Requirement already satisfied: six>=1.5 in /usr/local/lib/python3.10/dist-packages (from python-dateutil>=2.8.2->pandas>=2.0.0->pyLDAvis) (1.16.0)\n",
            "Requirement already satisfied: wrapt in /usr/local/lib/python3.10/dist-packages (from smart-open>=1.8.1->gensim->pyLDAvis) (1.16.0)\n",
            "Downloading pyLDAvis-3.4.1-py3-none-any.whl (2.6 MB)\n",
            "\u001b[2K   \u001b[90m━━━━━━━━━━━━━━━━━━━━━━━━━━━━━━━━━━━━━━━━\u001b[0m \u001b[32m2.6/2.6 MB\u001b[0m \u001b[31m31.3 MB/s\u001b[0m eta \u001b[36m0:00:00\u001b[0m\n",
            "\u001b[?25hDownloading funcy-2.0-py2.py3-none-any.whl (30 kB)\n",
            "Installing collected packages: funcy, pyLDAvis\n",
            "Successfully installed funcy-2.0 pyLDAvis-3.4.1\n"
          ]
        }
      ]
    },
    {
      "cell_type": "code",
      "source": [
        "import pyLDAvis.gensim_models as gensimvis\n",
        "import pyLDAvis\n",
        "\n",
        "lda_display = gensimvis.prepare(lda, corpus, dictionary)\n",
        "pyLDAvis.display(lda_display)\n"
      ],
      "metadata": {
        "colab": {
          "base_uri": "https://localhost:8080/",
          "height": 882
        },
        "id": "4iQ7Fdi4yC3c",
        "outputId": "e047356d-5ec2-4be3-d7f2-dee171efcc38"
      },
      "execution_count": 37,
      "outputs": [
        {
          "output_type": "execute_result",
          "data": {
            "text/plain": [
              "<IPython.core.display.HTML object>"
            ],
            "text/html": [
              "\n",
              "<link rel=\"stylesheet\" type=\"text/css\" href=\"https://cdn.jsdelivr.net/gh/bmabey/pyLDAvis@3.4.0/pyLDAvis/js/ldavis.v1.0.0.css\">\n",
              "\n",
              "\n",
              "<div id=\"ldavis_el11441344862085065446977849837\" style=\"background-color:white;\"></div>\n",
              "<script type=\"text/javascript\">\n",
              "\n",
              "var ldavis_el11441344862085065446977849837_data = {\"mdsDat\": {\"x\": [0.08162874332751927, -0.08162874332751927], \"y\": [0.0, 0.0], \"topics\": [1, 2], \"cluster\": [1, 1], \"Freq\": [54.63204859731593, 45.367951402684064]}, \"tinfo\": {\"Term\": [\"with\", \"high\", \"needs\", \"satisfied\", \"the\", \"product\", \"enjoys\", \"service\", \"customer\", \"conversion\", \"rate\", \"prefers\", \"shopping\", \"online\", \"delivery\", \"improvement\", \"new\", \"regular\", \"not\", \"engagement\", \"low\", \"interested\", \"information\", \"more\", \"spender\", \"brand\", \"loyal\", \"quality\", \"design\", \"likes\", \"with\", \"satisfied\", \"the\", \"product\", \"enjoys\", \"service\", \"quality\", \"design\", \"likes\", \"unhappy\", \"returns\", \"average\", \"experience\", \"occasional\", \"buyer\", \"frequent\", \"shopper\", \"discounts\", \"customer\", \"loyal\", \"brand\", \"spender\", \"more\", \"information\", \"interested\", \"low\", \"engagement\", \"not\", \"regular\", \"new\", \"needs\", \"high\", \"high\", \"needs\", \"conversion\", \"rate\", \"prefers\", \"shopping\", \"online\", \"delivery\", \"improvement\", \"new\", \"regular\", \"not\", \"engagement\", \"low\", \"interested\", \"information\", \"more\", \"spender\", \"brand\", \"loyal\", \"customer\", \"discounts\", \"shopper\", \"frequent\", \"buyer\", \"occasional\", \"experience\", \"average\", \"returns\", \"unhappy\", \"the\", \"service\", \"enjoys\", \"satisfied\", \"with\"], \"Freq\": [2.0, 1.0, 1.0, 2.0, 2.0, 1.0, 1.0, 1.0, 2.0, 1.0, 1.0, 1.0, 1.0, 1.0, 1.0, 1.0, 1.0, 1.0, 1.0, 1.0, 1.0, 1.0, 1.0, 1.0, 1.0, 1.0, 1.0, 1.0, 1.0, 1.0, 2.684595954908624, 2.0854982906205874, 2.5247131810009797, 1.4911972524209889, 1.486678126180719, 1.4846379253167994, 0.8943226091938727, 0.8930629796850484, 0.8930584737469198, 0.8928684000885407, 0.892680469498296, 0.8900886209164038, 0.8898582136167267, 0.8888877884051123, 0.8880568274736269, 0.8871745977583115, 0.8869296835358786, 0.8862546720240173, 0.8084105794672329, 0.34930386803978725, 0.3484074061540411, 0.3141152662533263, 0.31404328114419744, 0.31147739665701013, 0.30918436870370003, 0.3087300932096787, 0.30837819043192227, 0.3078069803484154, 0.3076819130901122, 0.3075745948319988, 0.317891242405155, 0.30989677400698284, 1.3898879777251851, 1.3824184145720533, 0.835549833661317, 0.8354687905666871, 0.8349801591155066, 0.8344532877356663, 0.8343579160758823, 0.8327953723561099, 0.8323050981394977, 0.832246414907688, 0.8321462062163552, 0.8320292960764668, 0.8314955798406611, 0.8311667529600852, 0.8307423718902329, 0.8286000232378214, 0.8262025896197676, 0.8261351449723222, 0.7940944654632183, 0.7932568376225506, 1.4839255294491793, 0.29157480152900384, 0.29094411650035557, 0.2907152929654336, 0.2898910125938984, 0.2891146918464938, 0.2882080678576953, 0.2879927743213982, 0.28557147497221175, 0.2853958359681406, 0.4401659465616634, 0.29230603749178324, 0.29039963102449773, 0.2907228679393686, 0.2907862969379809], \"Total\": [2.0, 1.0, 1.0, 2.0, 2.0, 1.0, 1.0, 1.0, 2.0, 1.0, 1.0, 1.0, 1.0, 1.0, 1.0, 1.0, 1.0, 1.0, 1.0, 1.0, 1.0, 1.0, 1.0, 1.0, 1.0, 1.0, 1.0, 1.0, 1.0, 1.0, 2.975382251846605, 2.376221158559956, 2.964879127562643, 1.7773748850213065, 1.7770777572052165, 1.7769439628085826, 1.1783599009661954, 1.1782770619111222, 1.1782768225998788, 1.1782642360566813, 1.1782519444705077, 1.178081395237802, 1.178066281474422, 1.178002480251606, 1.1779478400675254, 1.1778898907237452, 1.177873800036234, 1.1778294735530213, 2.2923361089164125, 1.142560705662338, 1.1425018716172595, 1.1402504112256486, 1.140245870763965, 1.1400774198948316, 1.1399267405939328, 1.1398968461697638, 1.1398737702725834, 1.1398362764248822, 1.1398281193064674, 1.1398210097396868, 1.7003096569772083, 1.699784751732168, 1.699784751732168, 1.7003096569772083, 1.1395890804276512, 1.1395948315924633, 1.1396291087660688, 1.1396660841074278, 1.1396728378868162, 1.139782629143129, 1.139816939540485, 1.1398210097396868, 1.1398281193064674, 1.1398362764248822, 1.1398737702725834, 1.1398968461697638, 1.1399267405939328, 1.1400774198948316, 1.140245870763965, 1.1402504112256486, 1.1425018716172595, 1.142560705662338, 2.2923361089164125, 1.1778294735530213, 1.177873800036234, 1.1778898907237452, 1.1779478400675254, 1.178002480251606, 1.178066281474422, 1.178081395237802, 1.1782519444705077, 1.1782642360566813, 2.964879127562643, 1.7769439628085826, 1.7770777572052165, 2.376221158559956, 2.975382251846605], \"Category\": [\"Default\", \"Default\", \"Default\", \"Default\", \"Default\", \"Default\", \"Default\", \"Default\", \"Default\", \"Default\", \"Default\", \"Default\", \"Default\", \"Default\", \"Default\", \"Default\", \"Default\", \"Default\", \"Default\", \"Default\", \"Default\", \"Default\", \"Default\", \"Default\", \"Default\", \"Default\", \"Default\", \"Default\", \"Default\", \"Default\", \"Topic1\", \"Topic1\", \"Topic1\", \"Topic1\", \"Topic1\", \"Topic1\", \"Topic1\", \"Topic1\", \"Topic1\", \"Topic1\", \"Topic1\", \"Topic1\", \"Topic1\", \"Topic1\", \"Topic1\", \"Topic1\", \"Topic1\", \"Topic1\", \"Topic1\", \"Topic1\", \"Topic1\", \"Topic1\", \"Topic1\", \"Topic1\", \"Topic1\", \"Topic1\", \"Topic1\", \"Topic1\", \"Topic1\", \"Topic1\", \"Topic1\", \"Topic1\", \"Topic2\", \"Topic2\", \"Topic2\", \"Topic2\", \"Topic2\", \"Topic2\", \"Topic2\", \"Topic2\", \"Topic2\", \"Topic2\", \"Topic2\", \"Topic2\", \"Topic2\", \"Topic2\", \"Topic2\", \"Topic2\", \"Topic2\", \"Topic2\", \"Topic2\", \"Topic2\", \"Topic2\", \"Topic2\", \"Topic2\", \"Topic2\", \"Topic2\", \"Topic2\", \"Topic2\", \"Topic2\", \"Topic2\", \"Topic2\", \"Topic2\", \"Topic2\", \"Topic2\", \"Topic2\", \"Topic2\"], \"logprob\": [30.0, 29.0, 28.0, 27.0, 26.0, 25.0, 24.0, 23.0, 22.0, 21.0, 20.0, 19.0, 18.0, 17.0, 16.0, 15.0, 14.0, 13.0, 12.0, 11.0, 10.0, 9.0, 8.0, 7.0, 6.0, 5.0, 4.0, 3.0, 2.0, 1.0, -2.3969, -2.6494, -2.4583, -2.9849, -2.9879, -2.9893, -3.4961, -3.4975, -3.4975, -3.4978, -3.498, -3.5009, -3.5011, -3.5022, -3.5032, -3.5041, -3.5044, -3.5052, -3.5971, -4.4362, -4.4388, -4.5424, -4.5427, -4.5509, -4.5583, -4.5597, -4.5609, -4.5627, -4.5631, -4.5635, -4.5305, -4.556, -2.8694, -2.8748, -3.3783, -3.3784, -3.379, -3.3796, -3.3797, -3.3816, -3.3822, -3.3822, -3.3824, -3.3825, -3.3831, -3.3835, -3.3841, -3.3866, -3.3895, -3.3896, -3.4292, -3.4302, -2.8039, -4.4311, -4.4332, -4.434, -4.4369, -4.4396, -4.4427, -4.4434, -4.4519, -4.4525, -4.0192, -4.4286, -4.4351, -4.434, -4.4338], \"loglift\": [30.0, 29.0, 28.0, 27.0, 26.0, 25.0, 24.0, 23.0, 22.0, 21.0, 20.0, 19.0, 18.0, 17.0, 16.0, 15.0, 14.0, 13.0, 12.0, 11.0, 10.0, 9.0, 8.0, 7.0, 6.0, 5.0, 4.0, 3.0, 2.0, 1.0, 0.5017, 0.474, 0.4438, 0.429, 0.4261, 0.4248, 0.3287, 0.3274, 0.3274, 0.3272, 0.327, 0.3242, 0.324, 0.3229, 0.3221, 0.3211, 0.3208, 0.3201, -0.4377, -0.5805, -0.5831, -0.6847, -0.6849, -0.693, -0.7002, -0.7017, -0.7028, -0.7046, -0.705, -0.7054, -1.0723, -1.0975, 0.5891, 0.5834, 0.48, 0.4799, 0.4793, 0.4787, 0.4785, 0.4766, 0.4759, 0.4759, 0.4757, 0.4756, 0.4749, 0.4745, 0.474, 0.4713, 0.4682, 0.4681, 0.4266, 0.4255, 0.3555, -0.6058, -0.608, -0.6088, -0.6117, -0.6144, -0.6176, -0.6183, -0.6269, -0.6276, -1.1171, -1.0145, -1.0211, -1.3105, -1.5352]}, \"token.table\": {\"Topic\": [1, 2, 1, 2, 1, 2, 2, 1, 1, 2, 1, 1, 1, 2, 2, 2, 2, 1, 2, 2, 2, 2, 2, 2, 1, 2, 2, 1, 1, 2, 2, 1, 1, 1, 1, 2, 2, 1, 1, 1], \"Freq\": [0.8488377832315608, 0.8752720891252965, 0.8489340240588882, 0.8775092857372169, 0.436236202933042, 0.436236202933042, 0.8773602741706852, 0.8486968237996899, 0.8490193380739711, 0.8772901228886645, 0.5627215781332411, 0.8488486732244291, 0.8489757895668482, 0.5883097839187865, 0.8773338641581763, 0.8771334144064065, 0.8772493568130288, 0.8486969961723347, 0.8772723631617724, 0.875227018611938, 0.8770038336819406, 0.5881281658882, 0.8773307312771684, 0.877318980526325, 0.8488946473070353, 0.8774447953451292, 0.8774784640967517, 0.5626275066827066, 0.848637160157988, 0.8775048572329919, 0.8773252590122568, 0.8487149159336953, 0.8416724987046431, 0.5627639480647612, 0.8489873872474604, 0.8774499951739702, 0.8770003414645611, 1.0118456338104511, 0.8487060621874755, 1.0082738102434121], \"Term\": [\"average\", \"brand\", \"buyer\", \"conversion\", \"customer\", \"customer\", \"delivery\", \"design\", \"discounts\", \"engagement\", \"enjoys\", \"experience\", \"frequent\", \"high\", \"improvement\", \"information\", \"interested\", \"likes\", \"low\", \"loyal\", \"more\", \"needs\", \"new\", \"not\", \"occasional\", \"online\", \"prefers\", \"product\", \"quality\", \"rate\", \"regular\", \"returns\", \"satisfied\", \"service\", \"shopper\", \"shopping\", \"spender\", \"the\", \"unhappy\", \"with\"]}, \"R\": 30, \"lambda.step\": 0.01, \"plot.opts\": {\"xlab\": \"PC1\", \"ylab\": \"PC2\"}, \"topic.order\": [1, 2]};\n",
              "\n",
              "function LDAvis_load_lib(url, callback){\n",
              "  var s = document.createElement('script');\n",
              "  s.src = url;\n",
              "  s.async = true;\n",
              "  s.onreadystatechange = s.onload = callback;\n",
              "  s.onerror = function(){console.warn(\"failed to load library \" + url);};\n",
              "  document.getElementsByTagName(\"head\")[0].appendChild(s);\n",
              "}\n",
              "\n",
              "if(typeof(LDAvis) !== \"undefined\"){\n",
              "   // already loaded: just create the visualization\n",
              "   !function(LDAvis){\n",
              "       new LDAvis(\"#\" + \"ldavis_el11441344862085065446977849837\", ldavis_el11441344862085065446977849837_data);\n",
              "   }(LDAvis);\n",
              "}else if(typeof define === \"function\" && define.amd){\n",
              "   // require.js is available: use it to load d3/LDAvis\n",
              "   require.config({paths: {d3: \"https://d3js.org/d3.v5\"}});\n",
              "   require([\"d3\"], function(d3){\n",
              "      window.d3 = d3;\n",
              "      LDAvis_load_lib(\"https://cdn.jsdelivr.net/gh/bmabey/pyLDAvis@3.4.0/pyLDAvis/js/ldavis.v3.0.0.js\", function(){\n",
              "        new LDAvis(\"#\" + \"ldavis_el11441344862085065446977849837\", ldavis_el11441344862085065446977849837_data);\n",
              "      });\n",
              "    });\n",
              "}else{\n",
              "    // require.js not available: dynamically load d3 & LDAvis\n",
              "    LDAvis_load_lib(\"https://d3js.org/d3.v5.js\", function(){\n",
              "         LDAvis_load_lib(\"https://cdn.jsdelivr.net/gh/bmabey/pyLDAvis@3.4.0/pyLDAvis/js/ldavis.v3.0.0.js\", function(){\n",
              "                 new LDAvis(\"#\" + \"ldavis_el11441344862085065446977849837\", ldavis_el11441344862085065446977849837_data);\n",
              "            })\n",
              "         });\n",
              "}\n",
              "</script>"
            ]
          },
          "metadata": {},
          "execution_count": 37
        }
      ]
    }
  ]
}