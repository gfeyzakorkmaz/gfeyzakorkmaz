{
  "nbformat": 4,
  "nbformat_minor": 0,
  "metadata": {
    "colab": {
      "provenance": [],
      "mount_file_id": "15nKMkM2J0nrJza89zRRvSgArrc3fxmBI",
      "authorship_tag": "ABX9TyOJvE0g2fVDCW4JibHqbnL8",
      "include_colab_link": true
    },
    "kernelspec": {
      "name": "python3",
      "display_name": "Python 3"
    },
    "language_info": {
      "name": "python"
    }
  },
  "cells": [
    {
      "cell_type": "markdown",
      "metadata": {
        "id": "view-in-github",
        "colab_type": "text"
      },
      "source": [
        "<a href=\"https://colab.research.google.com/github/gfeyzakorkmaz/gfeyzakorkmaz/blob/main/pythonday21.ipynb\" target=\"_parent\"><img src=\"https://colab.research.google.com/assets/colab-badge.svg\" alt=\"Open In Colab\"/></a>"
      ]
    },
    {
      "cell_type": "code",
      "execution_count": 12,
      "metadata": {
        "id": "8jnd2RkNZHgY"
      },
      "outputs": [],
      "source": [
        "import pandas as pd\n",
        "import matplotlib.pyplot as plt"
      ]
    },
    {
      "cell_type": "code",
      "source": [
        "path = '/content/drive/MyDrive/Dataset/marketing_analysis_data.xlsx'"
      ],
      "metadata": {
        "id": "v6k0NTnMZrx6"
      },
      "execution_count": 2,
      "outputs": []
    },
    {
      "cell_type": "code",
      "source": [
        "df = pd.read_excel(path)"
      ],
      "metadata": {
        "id": "nP6L83pzaKan"
      },
      "execution_count": 3,
      "outputs": []
    },
    {
      "cell_type": "code",
      "source": [
        "df['Rolling_Avg_Revenue'] = df['Revenue'].rolling(window=7).mean()"
      ],
      "metadata": {
        "id": "DCYP0iIvaOgj"
      },
      "execution_count": 6,
      "outputs": []
    },
    {
      "cell_type": "code",
      "source": [
        "df['ROAS'] = df['Revenue'] / df['Ad_Spend']\n",
        "def classify_roas(roas):\n",
        "    if roas >= 4:\n",
        "       return 'Excellent'\n",
        "    elif roas >=3:\n",
        "       return 'Good'\n",
        "    else:\n",
        "      return 'Poor'\n",
        "\n",
        "\n",
        "df['ROAS_Class'] = df['ROAS'].apply(classify_roas)"
      ],
      "metadata": {
        "id": "7hU2leTSagQo"
      },
      "execution_count": 9,
      "outputs": []
    },
    {
      "cell_type": "code",
      "source": [
        "pivot_table = df.pivot_table(values=['Ad_Spend', 'Revenue'], index='Campaign', aggfunc='sum')\n",
        "\n",
        "df['Cumulative_Ad_Spend'] = df['Ad_Spend'].cumsum()\n",
        "df['Cumulative_Revenue'] = df['Revenue'].cumsum()"
      ],
      "metadata": {
        "id": "hh62YN25byWJ"
      },
      "execution_count": 15,
      "outputs": []
    },
    {
      "cell_type": "code",
      "source": [
        "merged_df = pd.merge(df, pivot_table, on='Campaign', how='left')"
      ],
      "metadata": {
        "id": "qVrri0fFc86l"
      },
      "execution_count": 17,
      "outputs": []
    },
    {
      "cell_type": "code",
      "source": [
        "filtered_df = df.query('Revenue > 4000 and Leads > 100')"
      ],
      "metadata": {
        "id": "nNJnLNJxdPs3"
      },
      "execution_count": 21,
      "outputs": []
    },
    {
      "cell_type": "code",
      "source": [
        "df_dummies = pd.get_dummies(df['Campaign'], prefix='Campaign')"
      ],
      "metadata": {
        "id": "uOiSVmPRdgOx"
      },
      "execution_count": 22,
      "outputs": []
    }
  ]
}