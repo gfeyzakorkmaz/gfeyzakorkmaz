{
  "nbformat": 4,
  "nbformat_minor": 0,
  "metadata": {
    "colab": {
      "provenance": [],
      "mount_file_id": "1fGPf5S22YrW5ErH-TsEUxNCwuKNPPUMN",
      "authorship_tag": "ABX9TyN/IV5XRHfZE6W1yM1dbOxW",
      "include_colab_link": true
    },
    "kernelspec": {
      "name": "python3",
      "display_name": "Python 3"
    },
    "language_info": {
      "name": "python"
    }
  },
  "cells": [
    {
      "cell_type": "markdown",
      "metadata": {
        "id": "view-in-github",
        "colab_type": "text"
      },
      "source": [
        "<a href=\"https://colab.research.google.com/github/gfeyzakorkmaz/gfeyzakorkmaz/blob/main/pythonday41.ipynb\" target=\"_parent\"><img src=\"https://colab.research.google.com/assets/colab-badge.svg\" alt=\"Open In Colab\"/></a>"
      ]
    },
    {
      "cell_type": "code",
      "execution_count": 6,
      "metadata": {
        "id": "SJabm0KZ1R42"
      },
      "outputs": [],
      "source": [
        "import pandas as pd\n",
        "import numpy as np"
      ]
    },
    {
      "cell_type": "code",
      "source": [
        "path = '/content/drive/MyDrive/Dataset/complex_marketing_data_enriched.xlsx'"
      ],
      "metadata": {
        "id": "6fI5Nv4z1qGO"
      },
      "execution_count": 2,
      "outputs": []
    },
    {
      "cell_type": "code",
      "source": [
        "df = pd.read_excel(path)"
      ],
      "metadata": {
        "id": "q71jGi0O1uJ8"
      },
      "execution_count": 3,
      "outputs": []
    },
    {
      "cell_type": "code",
      "source": [
        "import numpy as np\n",
        "\n",
        "spend = np.random.uniform(0, 100, size=1000)\n",
        "\n",
        "purchase_prob = 1 / (1 + np.exp(-0.1 * (spend - 50)))\n",
        "\n",
        "purchases = np.random.binomial(1, purchase_prob)\n",
        "\n",
        "total_purchases = np.sum(purchases)\n",
        "avg_purchase_prob = np.mean(purchase_prob)\n",
        "print(f\"Total Purchases: {total_purchases}, Avg Purchase Probability: {avg_purchase_prob:.2f}\")"
      ],
      "metadata": {
        "colab": {
          "base_uri": "https://localhost:8080/"
        },
        "id": "r_JniW5vArQu",
        "outputId": "5afb423c-95fc-4590-b3e4-3f84bcae2bfd"
      },
      "execution_count": 5,
      "outputs": [
        {
          "output_type": "stream",
          "name": "stdout",
          "text": [
            "Total Purchases: 494, Avg Purchase Probability: 0.51\n"
          ]
        }
      ]
    },
    {
      "cell_type": "code",
      "source": [
        "sales = np.random.normal(500, 50, size=52)\n",
        "\n",
        "weights = np.linspace(1, 0, 10)\n",
        "weights /= weights.sum()\n",
        "\n",
        "trend = np.convolve(sales, weights, mode='valid')\n",
        "\n",
        "print(f\"Last 5 Weeks of Trend: {trend[-5:]}\")"
      ],
      "metadata": {
        "colab": {
          "base_uri": "https://localhost:8080/"
        },
        "id": "0Kjc5kEiBeOV",
        "outputId": "fecbc852-8482-4020-c5a6-921346b4f754"
      },
      "execution_count": 7,
      "outputs": [
        {
          "output_type": "stream",
          "name": "stdout",
          "text": [
            "Last 5 Weeks of Trend: [521.22947511 512.97902842 515.07580479 523.1982221  515.92273408]\n"
          ]
        }
      ]
    },
    {
      "cell_type": "code",
      "source": [
        "revenues = np.random.pareto(2, size=1000) * 1000\n",
        "\n",
        "revenues_sorted = np.sort(revenues)\n",
        "cumulative_revenue = np.cumsum(revenues_sorted) / np.sum(revenues_sorted)\n",
        "cumulative_customers = np.linspace(0, 1, len(revenues))\n",
        "\n",
        "print(f\"Cumulative Revenue (First 10): {cumulative_revenue[:10]}\")\n",
        "print(f\"Cumulative Customers (First 10): {cumulative_customers[:10]}\")"
      ],
      "metadata": {
        "colab": {
          "base_uri": "https://localhost:8080/"
        },
        "id": "B8gvWUiWCPfL",
        "outputId": "3791d081-9d39-4b97-9b08-0e4f781edb30"
      },
      "execution_count": 8,
      "outputs": [
        {
          "output_type": "stream",
          "name": "stdout",
          "text": [
            "Cumulative Revenue (First 10): [5.84490778e-07 1.25118606e-06 2.67886089e-06 4.68009407e-06\n",
            " 6.83580582e-06 9.21508693e-06 1.17143182e-05 1.51425043e-05\n",
            " 1.88716054e-05 2.26586214e-05]\n",
            "Cumulative Customers (First 10): [0.         0.001001   0.002002   0.003003   0.004004   0.00500501\n",
            " 0.00600601 0.00700701 0.00800801 0.00900901]\n"
          ]
        }
      ]
    },
    {
      "cell_type": "code",
      "source": [
        "X = np.random.rand(100, 2) * 100\n",
        "y = 5 * X[:, 0] + 2 * X[:, 1] + np.random.normal(0, 5, 100)\n",
        "\n",
        "ridge_lambda = 1\n",
        "XTX = np.dot(X.T, X) + ridge_lambda * np.eye(X.shape[1])\n",
        "XTy = np.dot(X.T, y)\n",
        "coefficients = np.linalg.solve(XTX, XTy)\n",
        "\n",
        "print(f\"Ridge Regression Coefficients: {coefficients}\")"
      ],
      "metadata": {
        "colab": {
          "base_uri": "https://localhost:8080/"
        },
        "id": "vM1dVtCnC4Hi",
        "outputId": "9b0fdd3a-d4ba-4e91-999f-b2c7e06860d7"
      },
      "execution_count": 9,
      "outputs": [
        {
          "output_type": "stream",
          "name": "stdout",
          "text": [
            "Ridge Regression Coefficients: [5.01348594 1.99679234]\n"
          ]
        }
      ]
    },
    {
      "cell_type": "code",
      "source": [
        "import numpy as np\n",
        "\n",
        "transition_matrix = np.array([[0.8, 0.2],\n",
        "                              [0.0, 1.0]])\n",
        "\n",
        "state = np.array([1, 0])\n",
        "\n",
        "for i in range(10):\n",
        "    state = np.dot(state, transition_matrix)\n",
        "    print(f\"Period {i+1}: Active={state[0]:.2f}, Churned={state[1]:.2f}\")"
      ],
      "metadata": {
        "colab": {
          "base_uri": "https://localhost:8080/"
        },
        "id": "OiuIdCw1Diy1",
        "outputId": "31345ff4-5d16-4636-ef92-55c225f964de"
      },
      "execution_count": 10,
      "outputs": [
        {
          "output_type": "stream",
          "name": "stdout",
          "text": [
            "Period 1: Active=0.80, Churned=0.20\n",
            "Period 2: Active=0.64, Churned=0.36\n",
            "Period 3: Active=0.51, Churned=0.49\n",
            "Period 4: Active=0.41, Churned=0.59\n",
            "Period 5: Active=0.33, Churned=0.67\n",
            "Period 6: Active=0.26, Churned=0.74\n",
            "Period 7: Active=0.21, Churned=0.79\n",
            "Period 8: Active=0.17, Churned=0.83\n",
            "Period 9: Active=0.13, Churned=0.87\n",
            "Period 10: Active=0.11, Churned=0.89\n"
          ]
        }
      ]
    },
    {
      "cell_type": "code",
      "source": [
        "spend = np.linspace(1, 100, 100)\n",
        "sales = 50 * np.log(spend) + np.random.normal(0, 5, 100)\n",
        "\n",
        "log_spend = np.log(spend)\n",
        "log_sales = np.log(sales)\n",
        "elasticity = np.polyfit(log_spend, log_sales, 1)[0]\n",
        "\n",
        "print(f\"Elasticity of Marketing Spend: {elasticity:.2f}\")"
      ],
      "metadata": {
        "colab": {
          "base_uri": "https://localhost:8080/"
        },
        "id": "BL58PHmOEEQ0",
        "outputId": "a7c2c009-4f26-4575-ed3f-134e99da3d45"
      },
      "execution_count": 11,
      "outputs": [
        {
          "output_type": "stream",
          "name": "stdout",
          "text": [
            "Elasticity of Marketing Spend: 0.44\n"
          ]
        }
      ]
    },
    {
      "cell_type": "code",
      "source": [
        "cohorts = np.random.uniform(0.6, 1.0, size=(5, 10))\n",
        "retention_rates = np.cumprod(cohorts, axis=1)\n",
        "\n",
        "print(\"Retention Rates by Cohort:\")\n",
        "print(retention_rates)"
      ],
      "metadata": {
        "colab": {
          "base_uri": "https://localhost:8080/"
        },
        "id": "h4g9VfNkFWAl",
        "outputId": "92d24ec1-c240-4301-ada6-828a6cfa6941"
      },
      "execution_count": 12,
      "outputs": [
        {
          "output_type": "stream",
          "name": "stdout",
          "text": [
            "Retention Rates by Cohort:\n",
            "[[0.81994839 0.66350323 0.43678881 0.34690896 0.21745401 0.16261529\n",
            "  0.1500324  0.11527392 0.08305893 0.05334198]\n",
            " [0.91768967 0.81065236 0.61011823 0.58224754 0.52928464 0.32706597\n",
            "  0.27428583 0.21223985 0.16299336 0.14457864]\n",
            " [0.76129475 0.73296455 0.46735532 0.35670423 0.27013083 0.19117105\n",
            "  0.12241748 0.10299466 0.09863046 0.06994124]\n",
            " [0.60025566 0.45842332 0.41689219 0.28712647 0.26966867 0.16702911\n",
            "  0.15472872 0.13033036 0.0961668  0.0771292 ]\n",
            " [0.84909878 0.69335267 0.62406188 0.61442263 0.44851332 0.31166442\n",
            "  0.21439576 0.13547815 0.1300087  0.09056424]]\n"
          ]
        }
      ]
    },
    {
      "cell_type": "code",
      "source": [
        "import numpy as np\n",
        "from scipy.optimize import minimize\n",
        "\n",
        "def revenue(spend):\n",
        "    return -(100 * np.sqrt(spend) - 0.05 * spend**2)\n",
        "\n",
        "\n",
        "result = minimize(revenue, x0=50, bounds=[(0, 100)])\n",
        "optimal_spend = result.x[0]\n",
        "\n",
        "print(f\"Optimal Ad Spend: {optimal_spend:.2f}\")"
      ],
      "metadata": {
        "colab": {
          "base_uri": "https://localhost:8080/"
        },
        "id": "9hIM1waOFooD",
        "outputId": "e913d517-7b02-47e6-a418-9fda28dc2d16"
      },
      "execution_count": 14,
      "outputs": [
        {
          "output_type": "stream",
          "name": "stdout",
          "text": [
            "Optimal Ad Spend: 63.00\n"
          ]
        }
      ]
    },
    {
      "cell_type": "code",
      "source": [
        "clicks_a = np.random.binomial(100, 0.05, size=1000)\n",
        "clicks_b = np.random.binomial(100, 0.06, size=1000)\n",
        "\n",
        "posterior_a = np.mean(clicks_a) / 100\n",
        "posterior_b = np.mean(clicks_b) / 100\n",
        "\n",
        "\n",
        "print(f\"Posterior Probabilities (A, B): {posterior_a:.2f}, {posterior_b:.2f}\")"
      ],
      "metadata": {
        "colab": {
          "base_uri": "https://localhost:8080/"
        },
        "id": "aVXzeHPRGLFk",
        "outputId": "e082009c-b606-4b87-9b58-fc13262da390"
      },
      "execution_count": 16,
      "outputs": [
        {
          "output_type": "stream",
          "name": "stdout",
          "text": [
            "Posterior Probabilities (A, B): 0.05, 0.06\n"
          ]
        }
      ]
    },
    {
      "cell_type": "code",
      "source": [
        "channels = np.random.rand(10, 100)\n",
        "\n",
        "correlation_matrix = np.corrcoef(channels)\n",
        "\n",
        "print(\"Correlation Matrix:\")\n",
        "print(correlation_matrix)"
      ],
      "metadata": {
        "colab": {
          "base_uri": "https://localhost:8080/"
        },
        "id": "Mwrt02A_GtAa",
        "outputId": "78dd27bc-9839-4f3b-d7bf-699124e4d4cb"
      },
      "execution_count": 17,
      "outputs": [
        {
          "output_type": "stream",
          "name": "stdout",
          "text": [
            "Correlation Matrix:\n",
            "[[ 1.         -0.13608241  0.03276369 -0.02425839  0.01867533 -0.02351792\n",
            "  -0.0405828  -0.05965069  0.07387605  0.04575443]\n",
            " [-0.13608241  1.         -0.11540008 -0.01156253 -0.02038903 -0.05509019\n",
            "  -0.1608362  -0.14560033 -0.04352254  0.17461721]\n",
            " [ 0.03276369 -0.11540008  1.          0.03852445  0.19765206 -0.09533818\n",
            "  -0.03513582 -0.08488548 -0.15478445  0.19139733]\n",
            " [-0.02425839 -0.01156253  0.03852445  1.         -0.01634433  0.09125383\n",
            "  -0.09629975  0.17822706  0.05033987 -0.00402015]\n",
            " [ 0.01867533 -0.02038903  0.19765206 -0.01634433  1.          0.08417017\n",
            "  -0.19804004 -0.07207183 -0.00504743  0.01635713]\n",
            " [-0.02351792 -0.05509019 -0.09533818  0.09125383  0.08417017  1.\n",
            "   0.08176053 -0.00226066  0.09534988  0.09050106]\n",
            " [-0.0405828  -0.1608362  -0.03513582 -0.09629975 -0.19804004  0.08176053\n",
            "   1.         -0.06398333  0.02047059  0.03737654]\n",
            " [-0.05965069 -0.14560033 -0.08488548  0.17822706 -0.07207183 -0.00226066\n",
            "  -0.06398333  1.          0.05904248 -0.08713457]\n",
            " [ 0.07387605 -0.04352254 -0.15478445  0.05033987 -0.00504743  0.09534988\n",
            "   0.02047059  0.05904248  1.         -0.22264774]\n",
            " [ 0.04575443  0.17461721  0.19139733 -0.00402015  0.01635713  0.09050106\n",
            "   0.03737654 -0.08713457 -0.22264774  1.        ]]\n"
          ]
        }
      ]
    },
    {
      "cell_type": "code",
      "source": [
        "predicted = np.random.rand(1000)\n",
        "actual = np.random.binomial(1, predicted)\n",
        "\n",
        "sorted_indices = np.argsort(-predicted)\n",
        "sorted_actual = actual[sorted_indices]\n",
        "cumulative_responses = np.cumsum(sorted_actual)\n",
        "\n",
        "lift = cumulative_responses / np.arange(1, len(actual) + 1)\n",
        "\n",
        "print(f\"lift (Top 10%): {lift[int(0.1 * len(lift))]:.2f}\")"
      ],
      "metadata": {
        "colab": {
          "base_uri": "https://localhost:8080/"
        },
        "id": "Ovao9iL3G73t",
        "outputId": "80de9a22-2b68-46d9-d090-102b6673bb82"
      },
      "execution_count": 19,
      "outputs": [
        {
          "output_type": "stream",
          "name": "stdout",
          "text": [
            "lift (Top 10%): 0.96\n"
          ]
        }
      ]
    },
    {
      "cell_type": "code",
      "source": [
        "conversion_rates = np.random.beta(10, 90, size=10000)\n",
        "mean_conversion = np.mean(conversion_rates)\n",
        "confidence_interval = np.percentile(conversion_rates, [2.5, 97.5])\n",
        "\n",
        "print(f\"Mean Conversion Rate: {mean_conversion:.2f}\")\n",
        "print(f\"95% Confidence Interval: {confidence_interval}\")"
      ],
      "metadata": {
        "colab": {
          "base_uri": "https://localhost:8080/"
        },
        "id": "XMRDDX2cHoNV",
        "outputId": "045a04c1-c928-4aa8-ea60-f4ce3178235d"
      },
      "execution_count": 20,
      "outputs": [
        {
          "output_type": "stream",
          "name": "stdout",
          "text": [
            "Mean Conversion Rate: 0.10\n",
            "95% Confidence Interval: [0.04977899 0.1652764 ]\n"
          ]
        }
      ]
    },
    {
      "cell_type": "code",
      "source": [
        "spend = np.random.normal(5000, 1000, 100)\n",
        "customers = np.random.poisson(10, 100)\n",
        "cac = spend / customers\n",
        "\n",
        "print(f\"Mean CAC: {np.mean(cac):.2f}, Std Dev: {np.std(cac):.2f}\")"
      ],
      "metadata": {
        "colab": {
          "base_uri": "https://localhost:8080/"
        },
        "id": "-LavFW8FIKAf",
        "outputId": "df2e4086-032c-4bcc-f092-17be92942266"
      },
      "execution_count": 21,
      "outputs": [
        {
          "output_type": "stream",
          "name": "stdout",
          "text": [
            "Mean CAC: 525.02, Std Dev: 196.45\n"
          ]
        }
      ]
    },
    {
      "cell_type": "code",
      "source": [
        "metrics = np.random.normal(100, 20, 50)\n",
        "\n",
        "z_scores = (metrics - np.mean(metrics)) / np.std(metrics)\n",
        "anomalies = np.where(np.abs(z_scores) > 2)[0]\n",
        "\n",
        "print(f\"Anomalies Metric Indices: {anomalies}\")"
      ],
      "metadata": {
        "colab": {
          "base_uri": "https://localhost:8080/"
        },
        "id": "7EGwWPP_If4k",
        "outputId": "3f654c7e-032e-4650-ed8d-29a78bb5ff66"
      },
      "execution_count": 23,
      "outputs": [
        {
          "output_type": "stream",
          "name": "stdout",
          "text": [
            "Anomalies Metric Indices: [ 9 34]\n"
          ]
        }
      ]
    },
    {
      "cell_type": "code",
      "source": [
        "recency = np.random.exponential(scale=30, size=1000)\n",
        "frequency = np.random.poisson(10, size=1000)\n",
        "monetary = np.random.gamma(2, scale=500, size=1000)\n",
        "\n",
        "rfm_scores = np.vstack([\n",
        "    (recency - np.min(recency)) / (np.max(recency) - np.min(recency)),\n",
        "    (frequency - np.min(frequency)) / (np.max(frequency) - np.min(frequency)),\n",
        "    (monetary - np.min(monetary)) / (np.max(monetary) - np.min(monetary))\n",
        "]).T\n",
        "\n",
        "print(f\"Sample RFM Scores (First 5):\\n{rfm_scores[:5]}\")"
      ],
      "metadata": {
        "colab": {
          "base_uri": "https://localhost:8080/"
        },
        "id": "G0t9_BsXIl8w",
        "outputId": "e98acaeb-42fe-41bd-cce8-9d36a7717baf"
      },
      "execution_count": 24,
      "outputs": [
        {
          "output_type": "stream",
          "name": "stdout",
          "text": [
            "Sample RFM Scores (First 5):\n",
            "[[0.02242828 0.6        0.30315255]\n",
            " [0.46205702 0.6        0.56475753]\n",
            " [0.01399289 0.55       0.341625  ]\n",
            " [0.03964969 0.7        0.11066675]\n",
            " [0.04512505 0.6        0.04045033]]\n"
          ]
        }
      ]
    }
  ]
}