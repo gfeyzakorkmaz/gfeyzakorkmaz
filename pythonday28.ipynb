{
  "nbformat": 4,
  "nbformat_minor": 0,
  "metadata": {
    "colab": {
      "provenance": [],
      "mount_file_id": "11McKRVIbKCy4-AWlgMkoDoknOu0ETK3l",
      "authorship_tag": "ABX9TyNL+kZjqjJdSzLir94+5W1f",
      "include_colab_link": true
    },
    "kernelspec": {
      "name": "python3",
      "display_name": "Python 3"
    },
    "language_info": {
      "name": "python"
    }
  },
  "cells": [
    {
      "cell_type": "markdown",
      "metadata": {
        "id": "view-in-github",
        "colab_type": "text"
      },
      "source": [
        "<a href=\"https://colab.research.google.com/github/gfeyzakorkmaz/gfeyzakorkmaz/blob/main/pythonday28.ipynb\" target=\"_parent\"><img src=\"https://colab.research.google.com/assets/colab-badge.svg\" alt=\"Open In Colab\"/></a>"
      ]
    },
    {
      "cell_type": "code",
      "execution_count": null,
      "metadata": {
        "id": "LE3INtmblxbl"
      },
      "outputs": [],
      "source": [
        "import pandas as pd"
      ]
    },
    {
      "cell_type": "code",
      "source": [
        "path = '/content/drive/MyDrive/Dataset/extended_marketing_data.xlsx'"
      ],
      "metadata": {
        "id": "EmY985A8ptjd"
      },
      "execution_count": 1,
      "outputs": []
    },
    {
      "cell_type": "code",
      "source": [
        "import pandas as pd\n",
        "df = pd.read_excel(path)\n",
        "df.head(15)"
      ],
      "metadata": {
        "colab": {
          "base_uri": "https://localhost:8080/",
          "height": 519
        },
        "id": "v2IBYGDppyMU",
        "outputId": "b980882c-fb18-4ef8-c4d0-60c9cd299b53"
      },
      "execution_count": 3,
      "outputs": [
        {
          "output_type": "execute_result",
          "data": {
            "text/plain": [
              "    Customer ID  Age Gender  Total Spent  Converted  \\\n",
              "0             1   23      F          150          1   \n",
              "1             2   35      M          600          1   \n",
              "2             3   45      F          800          0   \n",
              "3             4   52      M          200          0   \n",
              "4             5   29      F          300          1   \n",
              "5             6   41      M          450          0   \n",
              "6             7   38      F          670          1   \n",
              "7             8   27      M          120          1   \n",
              "8             9   50      F          500          0   \n",
              "9            10   33      M          750          1   \n",
              "10           11   40      F          610          1   \n",
              "11           12   24      M          290          0   \n",
              "12           13   48      F          400          1   \n",
              "13           14   32      M          320          0   \n",
              "14           15   36      F          510          1   \n",
              "\n",
              "                          Comments  \n",
              "0       Satisfied with the service  \n",
              "1    Needs improvement in delivery  \n",
              "2                 Regular customer  \n",
              "3                 Occasional buyer  \n",
              "4                     High spender  \n",
              "5               Average experience  \n",
              "6          Prefers online shopping  \n",
              "7                     New customer  \n",
              "8               Loyal to the brand  \n",
              "9             High conversion rate  \n",
              "10                  Low engagement  \n",
              "11  Satisfied with product quality  \n",
              "12                Frequent shopper  \n",
              "13            Unhappy with returns  \n",
              "14                Enjoys discounts  "
            ],
            "text/html": [
              "\n",
              "  <div id=\"df-879b6dbc-3207-4173-9b49-e15a80ff10cf\" class=\"colab-df-container\">\n",
              "    <div>\n",
              "<style scoped>\n",
              "    .dataframe tbody tr th:only-of-type {\n",
              "        vertical-align: middle;\n",
              "    }\n",
              "\n",
              "    .dataframe tbody tr th {\n",
              "        vertical-align: top;\n",
              "    }\n",
              "\n",
              "    .dataframe thead th {\n",
              "        text-align: right;\n",
              "    }\n",
              "</style>\n",
              "<table border=\"1\" class=\"dataframe\">\n",
              "  <thead>\n",
              "    <tr style=\"text-align: right;\">\n",
              "      <th></th>\n",
              "      <th>Customer ID</th>\n",
              "      <th>Age</th>\n",
              "      <th>Gender</th>\n",
              "      <th>Total Spent</th>\n",
              "      <th>Converted</th>\n",
              "      <th>Comments</th>\n",
              "    </tr>\n",
              "  </thead>\n",
              "  <tbody>\n",
              "    <tr>\n",
              "      <th>0</th>\n",
              "      <td>1</td>\n",
              "      <td>23</td>\n",
              "      <td>F</td>\n",
              "      <td>150</td>\n",
              "      <td>1</td>\n",
              "      <td>Satisfied with the service</td>\n",
              "    </tr>\n",
              "    <tr>\n",
              "      <th>1</th>\n",
              "      <td>2</td>\n",
              "      <td>35</td>\n",
              "      <td>M</td>\n",
              "      <td>600</td>\n",
              "      <td>1</td>\n",
              "      <td>Needs improvement in delivery</td>\n",
              "    </tr>\n",
              "    <tr>\n",
              "      <th>2</th>\n",
              "      <td>3</td>\n",
              "      <td>45</td>\n",
              "      <td>F</td>\n",
              "      <td>800</td>\n",
              "      <td>0</td>\n",
              "      <td>Regular customer</td>\n",
              "    </tr>\n",
              "    <tr>\n",
              "      <th>3</th>\n",
              "      <td>4</td>\n",
              "      <td>52</td>\n",
              "      <td>M</td>\n",
              "      <td>200</td>\n",
              "      <td>0</td>\n",
              "      <td>Occasional buyer</td>\n",
              "    </tr>\n",
              "    <tr>\n",
              "      <th>4</th>\n",
              "      <td>5</td>\n",
              "      <td>29</td>\n",
              "      <td>F</td>\n",
              "      <td>300</td>\n",
              "      <td>1</td>\n",
              "      <td>High spender</td>\n",
              "    </tr>\n",
              "    <tr>\n",
              "      <th>5</th>\n",
              "      <td>6</td>\n",
              "      <td>41</td>\n",
              "      <td>M</td>\n",
              "      <td>450</td>\n",
              "      <td>0</td>\n",
              "      <td>Average experience</td>\n",
              "    </tr>\n",
              "    <tr>\n",
              "      <th>6</th>\n",
              "      <td>7</td>\n",
              "      <td>38</td>\n",
              "      <td>F</td>\n",
              "      <td>670</td>\n",
              "      <td>1</td>\n",
              "      <td>Prefers online shopping</td>\n",
              "    </tr>\n",
              "    <tr>\n",
              "      <th>7</th>\n",
              "      <td>8</td>\n",
              "      <td>27</td>\n",
              "      <td>M</td>\n",
              "      <td>120</td>\n",
              "      <td>1</td>\n",
              "      <td>New customer</td>\n",
              "    </tr>\n",
              "    <tr>\n",
              "      <th>8</th>\n",
              "      <td>9</td>\n",
              "      <td>50</td>\n",
              "      <td>F</td>\n",
              "      <td>500</td>\n",
              "      <td>0</td>\n",
              "      <td>Loyal to the brand</td>\n",
              "    </tr>\n",
              "    <tr>\n",
              "      <th>9</th>\n",
              "      <td>10</td>\n",
              "      <td>33</td>\n",
              "      <td>M</td>\n",
              "      <td>750</td>\n",
              "      <td>1</td>\n",
              "      <td>High conversion rate</td>\n",
              "    </tr>\n",
              "    <tr>\n",
              "      <th>10</th>\n",
              "      <td>11</td>\n",
              "      <td>40</td>\n",
              "      <td>F</td>\n",
              "      <td>610</td>\n",
              "      <td>1</td>\n",
              "      <td>Low engagement</td>\n",
              "    </tr>\n",
              "    <tr>\n",
              "      <th>11</th>\n",
              "      <td>12</td>\n",
              "      <td>24</td>\n",
              "      <td>M</td>\n",
              "      <td>290</td>\n",
              "      <td>0</td>\n",
              "      <td>Satisfied with product quality</td>\n",
              "    </tr>\n",
              "    <tr>\n",
              "      <th>12</th>\n",
              "      <td>13</td>\n",
              "      <td>48</td>\n",
              "      <td>F</td>\n",
              "      <td>400</td>\n",
              "      <td>1</td>\n",
              "      <td>Frequent shopper</td>\n",
              "    </tr>\n",
              "    <tr>\n",
              "      <th>13</th>\n",
              "      <td>14</td>\n",
              "      <td>32</td>\n",
              "      <td>M</td>\n",
              "      <td>320</td>\n",
              "      <td>0</td>\n",
              "      <td>Unhappy with returns</td>\n",
              "    </tr>\n",
              "    <tr>\n",
              "      <th>14</th>\n",
              "      <td>15</td>\n",
              "      <td>36</td>\n",
              "      <td>F</td>\n",
              "      <td>510</td>\n",
              "      <td>1</td>\n",
              "      <td>Enjoys discounts</td>\n",
              "    </tr>\n",
              "  </tbody>\n",
              "</table>\n",
              "</div>\n",
              "    <div class=\"colab-df-buttons\">\n",
              "\n",
              "  <div class=\"colab-df-container\">\n",
              "    <button class=\"colab-df-convert\" onclick=\"convertToInteractive('df-879b6dbc-3207-4173-9b49-e15a80ff10cf')\"\n",
              "            title=\"Convert this dataframe to an interactive table.\"\n",
              "            style=\"display:none;\">\n",
              "\n",
              "  <svg xmlns=\"http://www.w3.org/2000/svg\" height=\"24px\" viewBox=\"0 -960 960 960\">\n",
              "    <path d=\"M120-120v-720h720v720H120Zm60-500h600v-160H180v160Zm220 220h160v-160H400v160Zm0 220h160v-160H400v160ZM180-400h160v-160H180v160Zm440 0h160v-160H620v160ZM180-180h160v-160H180v160Zm440 0h160v-160H620v160Z\"/>\n",
              "  </svg>\n",
              "    </button>\n",
              "\n",
              "  <style>\n",
              "    .colab-df-container {\n",
              "      display:flex;\n",
              "      gap: 12px;\n",
              "    }\n",
              "\n",
              "    .colab-df-convert {\n",
              "      background-color: #E8F0FE;\n",
              "      border: none;\n",
              "      border-radius: 50%;\n",
              "      cursor: pointer;\n",
              "      display: none;\n",
              "      fill: #1967D2;\n",
              "      height: 32px;\n",
              "      padding: 0 0 0 0;\n",
              "      width: 32px;\n",
              "    }\n",
              "\n",
              "    .colab-df-convert:hover {\n",
              "      background-color: #E2EBFA;\n",
              "      box-shadow: 0px 1px 2px rgba(60, 64, 67, 0.3), 0px 1px 3px 1px rgba(60, 64, 67, 0.15);\n",
              "      fill: #174EA6;\n",
              "    }\n",
              "\n",
              "    .colab-df-buttons div {\n",
              "      margin-bottom: 4px;\n",
              "    }\n",
              "\n",
              "    [theme=dark] .colab-df-convert {\n",
              "      background-color: #3B4455;\n",
              "      fill: #D2E3FC;\n",
              "    }\n",
              "\n",
              "    [theme=dark] .colab-df-convert:hover {\n",
              "      background-color: #434B5C;\n",
              "      box-shadow: 0px 1px 3px 1px rgba(0, 0, 0, 0.15);\n",
              "      filter: drop-shadow(0px 1px 2px rgba(0, 0, 0, 0.3));\n",
              "      fill: #FFFFFF;\n",
              "    }\n",
              "  </style>\n",
              "\n",
              "    <script>\n",
              "      const buttonEl =\n",
              "        document.querySelector('#df-879b6dbc-3207-4173-9b49-e15a80ff10cf button.colab-df-convert');\n",
              "      buttonEl.style.display =\n",
              "        google.colab.kernel.accessAllowed ? 'block' : 'none';\n",
              "\n",
              "      async function convertToInteractive(key) {\n",
              "        const element = document.querySelector('#df-879b6dbc-3207-4173-9b49-e15a80ff10cf');\n",
              "        const dataTable =\n",
              "          await google.colab.kernel.invokeFunction('convertToInteractive',\n",
              "                                                    [key], {});\n",
              "        if (!dataTable) return;\n",
              "\n",
              "        const docLinkHtml = 'Like what you see? Visit the ' +\n",
              "          '<a target=\"_blank\" href=https://colab.research.google.com/notebooks/data_table.ipynb>data table notebook</a>'\n",
              "          + ' to learn more about interactive tables.';\n",
              "        element.innerHTML = '';\n",
              "        dataTable['output_type'] = 'display_data';\n",
              "        await google.colab.output.renderOutput(dataTable, element);\n",
              "        const docLink = document.createElement('div');\n",
              "        docLink.innerHTML = docLinkHtml;\n",
              "        element.appendChild(docLink);\n",
              "      }\n",
              "    </script>\n",
              "  </div>\n",
              "\n",
              "\n",
              "<div id=\"df-9c918444-c468-4c40-b5a1-9cb016f236cb\">\n",
              "  <button class=\"colab-df-quickchart\" onclick=\"quickchart('df-9c918444-c468-4c40-b5a1-9cb016f236cb')\"\n",
              "            title=\"Suggest charts\"\n",
              "            style=\"display:none;\">\n",
              "\n",
              "<svg xmlns=\"http://www.w3.org/2000/svg\" height=\"24px\"viewBox=\"0 0 24 24\"\n",
              "     width=\"24px\">\n",
              "    <g>\n",
              "        <path d=\"M19 3H5c-1.1 0-2 .9-2 2v14c0 1.1.9 2 2 2h14c1.1 0 2-.9 2-2V5c0-1.1-.9-2-2-2zM9 17H7v-7h2v7zm4 0h-2V7h2v10zm4 0h-2v-4h2v4z\"/>\n",
              "    </g>\n",
              "</svg>\n",
              "  </button>\n",
              "\n",
              "<style>\n",
              "  .colab-df-quickchart {\n",
              "      --bg-color: #E8F0FE;\n",
              "      --fill-color: #1967D2;\n",
              "      --hover-bg-color: #E2EBFA;\n",
              "      --hover-fill-color: #174EA6;\n",
              "      --disabled-fill-color: #AAA;\n",
              "      --disabled-bg-color: #DDD;\n",
              "  }\n",
              "\n",
              "  [theme=dark] .colab-df-quickchart {\n",
              "      --bg-color: #3B4455;\n",
              "      --fill-color: #D2E3FC;\n",
              "      --hover-bg-color: #434B5C;\n",
              "      --hover-fill-color: #FFFFFF;\n",
              "      --disabled-bg-color: #3B4455;\n",
              "      --disabled-fill-color: #666;\n",
              "  }\n",
              "\n",
              "  .colab-df-quickchart {\n",
              "    background-color: var(--bg-color);\n",
              "    border: none;\n",
              "    border-radius: 50%;\n",
              "    cursor: pointer;\n",
              "    display: none;\n",
              "    fill: var(--fill-color);\n",
              "    height: 32px;\n",
              "    padding: 0;\n",
              "    width: 32px;\n",
              "  }\n",
              "\n",
              "  .colab-df-quickchart:hover {\n",
              "    background-color: var(--hover-bg-color);\n",
              "    box-shadow: 0 1px 2px rgba(60, 64, 67, 0.3), 0 1px 3px 1px rgba(60, 64, 67, 0.15);\n",
              "    fill: var(--button-hover-fill-color);\n",
              "  }\n",
              "\n",
              "  .colab-df-quickchart-complete:disabled,\n",
              "  .colab-df-quickchart-complete:disabled:hover {\n",
              "    background-color: var(--disabled-bg-color);\n",
              "    fill: var(--disabled-fill-color);\n",
              "    box-shadow: none;\n",
              "  }\n",
              "\n",
              "  .colab-df-spinner {\n",
              "    border: 2px solid var(--fill-color);\n",
              "    border-color: transparent;\n",
              "    border-bottom-color: var(--fill-color);\n",
              "    animation:\n",
              "      spin 1s steps(1) infinite;\n",
              "  }\n",
              "\n",
              "  @keyframes spin {\n",
              "    0% {\n",
              "      border-color: transparent;\n",
              "      border-bottom-color: var(--fill-color);\n",
              "      border-left-color: var(--fill-color);\n",
              "    }\n",
              "    20% {\n",
              "      border-color: transparent;\n",
              "      border-left-color: var(--fill-color);\n",
              "      border-top-color: var(--fill-color);\n",
              "    }\n",
              "    30% {\n",
              "      border-color: transparent;\n",
              "      border-left-color: var(--fill-color);\n",
              "      border-top-color: var(--fill-color);\n",
              "      border-right-color: var(--fill-color);\n",
              "    }\n",
              "    40% {\n",
              "      border-color: transparent;\n",
              "      border-right-color: var(--fill-color);\n",
              "      border-top-color: var(--fill-color);\n",
              "    }\n",
              "    60% {\n",
              "      border-color: transparent;\n",
              "      border-right-color: var(--fill-color);\n",
              "    }\n",
              "    80% {\n",
              "      border-color: transparent;\n",
              "      border-right-color: var(--fill-color);\n",
              "      border-bottom-color: var(--fill-color);\n",
              "    }\n",
              "    90% {\n",
              "      border-color: transparent;\n",
              "      border-bottom-color: var(--fill-color);\n",
              "    }\n",
              "  }\n",
              "</style>\n",
              "\n",
              "  <script>\n",
              "    async function quickchart(key) {\n",
              "      const quickchartButtonEl =\n",
              "        document.querySelector('#' + key + ' button');\n",
              "      quickchartButtonEl.disabled = true;  // To prevent multiple clicks.\n",
              "      quickchartButtonEl.classList.add('colab-df-spinner');\n",
              "      try {\n",
              "        const charts = await google.colab.kernel.invokeFunction(\n",
              "            'suggestCharts', [key], {});\n",
              "      } catch (error) {\n",
              "        console.error('Error during call to suggestCharts:', error);\n",
              "      }\n",
              "      quickchartButtonEl.classList.remove('colab-df-spinner');\n",
              "      quickchartButtonEl.classList.add('colab-df-quickchart-complete');\n",
              "    }\n",
              "    (() => {\n",
              "      let quickchartButtonEl =\n",
              "        document.querySelector('#df-9c918444-c468-4c40-b5a1-9cb016f236cb button');\n",
              "      quickchartButtonEl.style.display =\n",
              "        google.colab.kernel.accessAllowed ? 'block' : 'none';\n",
              "    })();\n",
              "  </script>\n",
              "</div>\n",
              "\n",
              "    </div>\n",
              "  </div>\n"
            ],
            "application/vnd.google.colaboratory.intrinsic+json": {
              "type": "dataframe",
              "variable_name": "df",
              "summary": "{\n  \"name\": \"df\",\n  \"rows\": 15,\n  \"fields\": [\n    {\n      \"column\": \"Customer ID\",\n      \"properties\": {\n        \"dtype\": \"number\",\n        \"std\": 4,\n        \"min\": 1,\n        \"max\": 15,\n        \"num_unique_values\": 15,\n        \"samples\": [\n          10,\n          12,\n          1\n        ],\n        \"semantic_type\": \"\",\n        \"description\": \"\"\n      }\n    },\n    {\n      \"column\": \"Age\",\n      \"properties\": {\n        \"dtype\": \"number\",\n        \"std\": 9,\n        \"min\": 23,\n        \"max\": 52,\n        \"num_unique_values\": 15,\n        \"samples\": [\n          33,\n          24,\n          23\n        ],\n        \"semantic_type\": \"\",\n        \"description\": \"\"\n      }\n    },\n    {\n      \"column\": \"Gender\",\n      \"properties\": {\n        \"dtype\": \"category\",\n        \"num_unique_values\": 2,\n        \"samples\": [\n          \"M\",\n          \"F\"\n        ],\n        \"semantic_type\": \"\",\n        \"description\": \"\"\n      }\n    },\n    {\n      \"column\": \"Total Spent\",\n      \"properties\": {\n        \"dtype\": \"number\",\n        \"std\": 214,\n        \"min\": 120,\n        \"max\": 800,\n        \"num_unique_values\": 15,\n        \"samples\": [\n          750,\n          290\n        ],\n        \"semantic_type\": \"\",\n        \"description\": \"\"\n      }\n    },\n    {\n      \"column\": \"Converted\",\n      \"properties\": {\n        \"dtype\": \"number\",\n        \"std\": 0,\n        \"min\": 0,\n        \"max\": 1,\n        \"num_unique_values\": 2,\n        \"samples\": [\n          0,\n          1\n        ],\n        \"semantic_type\": \"\",\n        \"description\": \"\"\n      }\n    },\n    {\n      \"column\": \"Comments\",\n      \"properties\": {\n        \"dtype\": \"string\",\n        \"num_unique_values\": 15,\n        \"samples\": [\n          \"High conversion rate\",\n          \"Satisfied with product quality\"\n        ],\n        \"semantic_type\": \"\",\n        \"description\": \"\"\n      }\n    }\n  ]\n}"
            }
          },
          "metadata": {},
          "execution_count": 3
        }
      ]
    },
    {
      "cell_type": "code",
      "source": [
        "df.describe()"
      ],
      "metadata": {
        "colab": {
          "base_uri": "https://localhost:8080/",
          "height": 300
        },
        "id": "iBshE-6Fp63g",
        "outputId": "1a3edf13-0841-4e69-bd07-be3e148c6ede"
      },
      "execution_count": 6,
      "outputs": [
        {
          "output_type": "execute_result",
          "data": {
            "text/plain": [
              "       Customer ID        Age  Total Spent  Converted\n",
              "count    15.000000  15.000000    15.000000  15.000000\n",
              "mean      8.000000  36.866667   444.666667   0.600000\n",
              "std       4.472136   9.179688   214.405046   0.507093\n",
              "min       1.000000  23.000000   120.000000   0.000000\n",
              "25%       4.500000  30.500000   295.000000   0.000000\n",
              "50%       8.000000  36.000000   450.000000   1.000000\n",
              "75%      11.500000  43.000000   605.000000   1.000000\n",
              "max      15.000000  52.000000   800.000000   1.000000"
            ],
            "text/html": [
              "\n",
              "  <div id=\"df-199a9d76-17d8-48e4-8f0c-cde96bf41b9d\" class=\"colab-df-container\">\n",
              "    <div>\n",
              "<style scoped>\n",
              "    .dataframe tbody tr th:only-of-type {\n",
              "        vertical-align: middle;\n",
              "    }\n",
              "\n",
              "    .dataframe tbody tr th {\n",
              "        vertical-align: top;\n",
              "    }\n",
              "\n",
              "    .dataframe thead th {\n",
              "        text-align: right;\n",
              "    }\n",
              "</style>\n",
              "<table border=\"1\" class=\"dataframe\">\n",
              "  <thead>\n",
              "    <tr style=\"text-align: right;\">\n",
              "      <th></th>\n",
              "      <th>Customer ID</th>\n",
              "      <th>Age</th>\n",
              "      <th>Total Spent</th>\n",
              "      <th>Converted</th>\n",
              "    </tr>\n",
              "  </thead>\n",
              "  <tbody>\n",
              "    <tr>\n",
              "      <th>count</th>\n",
              "      <td>15.000000</td>\n",
              "      <td>15.000000</td>\n",
              "      <td>15.000000</td>\n",
              "      <td>15.000000</td>\n",
              "    </tr>\n",
              "    <tr>\n",
              "      <th>mean</th>\n",
              "      <td>8.000000</td>\n",
              "      <td>36.866667</td>\n",
              "      <td>444.666667</td>\n",
              "      <td>0.600000</td>\n",
              "    </tr>\n",
              "    <tr>\n",
              "      <th>std</th>\n",
              "      <td>4.472136</td>\n",
              "      <td>9.179688</td>\n",
              "      <td>214.405046</td>\n",
              "      <td>0.507093</td>\n",
              "    </tr>\n",
              "    <tr>\n",
              "      <th>min</th>\n",
              "      <td>1.000000</td>\n",
              "      <td>23.000000</td>\n",
              "      <td>120.000000</td>\n",
              "      <td>0.000000</td>\n",
              "    </tr>\n",
              "    <tr>\n",
              "      <th>25%</th>\n",
              "      <td>4.500000</td>\n",
              "      <td>30.500000</td>\n",
              "      <td>295.000000</td>\n",
              "      <td>0.000000</td>\n",
              "    </tr>\n",
              "    <tr>\n",
              "      <th>50%</th>\n",
              "      <td>8.000000</td>\n",
              "      <td>36.000000</td>\n",
              "      <td>450.000000</td>\n",
              "      <td>1.000000</td>\n",
              "    </tr>\n",
              "    <tr>\n",
              "      <th>75%</th>\n",
              "      <td>11.500000</td>\n",
              "      <td>43.000000</td>\n",
              "      <td>605.000000</td>\n",
              "      <td>1.000000</td>\n",
              "    </tr>\n",
              "    <tr>\n",
              "      <th>max</th>\n",
              "      <td>15.000000</td>\n",
              "      <td>52.000000</td>\n",
              "      <td>800.000000</td>\n",
              "      <td>1.000000</td>\n",
              "    </tr>\n",
              "  </tbody>\n",
              "</table>\n",
              "</div>\n",
              "    <div class=\"colab-df-buttons\">\n",
              "\n",
              "  <div class=\"colab-df-container\">\n",
              "    <button class=\"colab-df-convert\" onclick=\"convertToInteractive('df-199a9d76-17d8-48e4-8f0c-cde96bf41b9d')\"\n",
              "            title=\"Convert this dataframe to an interactive table.\"\n",
              "            style=\"display:none;\">\n",
              "\n",
              "  <svg xmlns=\"http://www.w3.org/2000/svg\" height=\"24px\" viewBox=\"0 -960 960 960\">\n",
              "    <path d=\"M120-120v-720h720v720H120Zm60-500h600v-160H180v160Zm220 220h160v-160H400v160Zm0 220h160v-160H400v160ZM180-400h160v-160H180v160Zm440 0h160v-160H620v160ZM180-180h160v-160H180v160Zm440 0h160v-160H620v160Z\"/>\n",
              "  </svg>\n",
              "    </button>\n",
              "\n",
              "  <style>\n",
              "    .colab-df-container {\n",
              "      display:flex;\n",
              "      gap: 12px;\n",
              "    }\n",
              "\n",
              "    .colab-df-convert {\n",
              "      background-color: #E8F0FE;\n",
              "      border: none;\n",
              "      border-radius: 50%;\n",
              "      cursor: pointer;\n",
              "      display: none;\n",
              "      fill: #1967D2;\n",
              "      height: 32px;\n",
              "      padding: 0 0 0 0;\n",
              "      width: 32px;\n",
              "    }\n",
              "\n",
              "    .colab-df-convert:hover {\n",
              "      background-color: #E2EBFA;\n",
              "      box-shadow: 0px 1px 2px rgba(60, 64, 67, 0.3), 0px 1px 3px 1px rgba(60, 64, 67, 0.15);\n",
              "      fill: #174EA6;\n",
              "    }\n",
              "\n",
              "    .colab-df-buttons div {\n",
              "      margin-bottom: 4px;\n",
              "    }\n",
              "\n",
              "    [theme=dark] .colab-df-convert {\n",
              "      background-color: #3B4455;\n",
              "      fill: #D2E3FC;\n",
              "    }\n",
              "\n",
              "    [theme=dark] .colab-df-convert:hover {\n",
              "      background-color: #434B5C;\n",
              "      box-shadow: 0px 1px 3px 1px rgba(0, 0, 0, 0.15);\n",
              "      filter: drop-shadow(0px 1px 2px rgba(0, 0, 0, 0.3));\n",
              "      fill: #FFFFFF;\n",
              "    }\n",
              "  </style>\n",
              "\n",
              "    <script>\n",
              "      const buttonEl =\n",
              "        document.querySelector('#df-199a9d76-17d8-48e4-8f0c-cde96bf41b9d button.colab-df-convert');\n",
              "      buttonEl.style.display =\n",
              "        google.colab.kernel.accessAllowed ? 'block' : 'none';\n",
              "\n",
              "      async function convertToInteractive(key) {\n",
              "        const element = document.querySelector('#df-199a9d76-17d8-48e4-8f0c-cde96bf41b9d');\n",
              "        const dataTable =\n",
              "          await google.colab.kernel.invokeFunction('convertToInteractive',\n",
              "                                                    [key], {});\n",
              "        if (!dataTable) return;\n",
              "\n",
              "        const docLinkHtml = 'Like what you see? Visit the ' +\n",
              "          '<a target=\"_blank\" href=https://colab.research.google.com/notebooks/data_table.ipynb>data table notebook</a>'\n",
              "          + ' to learn more about interactive tables.';\n",
              "        element.innerHTML = '';\n",
              "        dataTable['output_type'] = 'display_data';\n",
              "        await google.colab.output.renderOutput(dataTable, element);\n",
              "        const docLink = document.createElement('div');\n",
              "        docLink.innerHTML = docLinkHtml;\n",
              "        element.appendChild(docLink);\n",
              "      }\n",
              "    </script>\n",
              "  </div>\n",
              "\n",
              "\n",
              "<div id=\"df-4508dde1-96a7-4a9b-9e93-03da2b26c608\">\n",
              "  <button class=\"colab-df-quickchart\" onclick=\"quickchart('df-4508dde1-96a7-4a9b-9e93-03da2b26c608')\"\n",
              "            title=\"Suggest charts\"\n",
              "            style=\"display:none;\">\n",
              "\n",
              "<svg xmlns=\"http://www.w3.org/2000/svg\" height=\"24px\"viewBox=\"0 0 24 24\"\n",
              "     width=\"24px\">\n",
              "    <g>\n",
              "        <path d=\"M19 3H5c-1.1 0-2 .9-2 2v14c0 1.1.9 2 2 2h14c1.1 0 2-.9 2-2V5c0-1.1-.9-2-2-2zM9 17H7v-7h2v7zm4 0h-2V7h2v10zm4 0h-2v-4h2v4z\"/>\n",
              "    </g>\n",
              "</svg>\n",
              "  </button>\n",
              "\n",
              "<style>\n",
              "  .colab-df-quickchart {\n",
              "      --bg-color: #E8F0FE;\n",
              "      --fill-color: #1967D2;\n",
              "      --hover-bg-color: #E2EBFA;\n",
              "      --hover-fill-color: #174EA6;\n",
              "      --disabled-fill-color: #AAA;\n",
              "      --disabled-bg-color: #DDD;\n",
              "  }\n",
              "\n",
              "  [theme=dark] .colab-df-quickchart {\n",
              "      --bg-color: #3B4455;\n",
              "      --fill-color: #D2E3FC;\n",
              "      --hover-bg-color: #434B5C;\n",
              "      --hover-fill-color: #FFFFFF;\n",
              "      --disabled-bg-color: #3B4455;\n",
              "      --disabled-fill-color: #666;\n",
              "  }\n",
              "\n",
              "  .colab-df-quickchart {\n",
              "    background-color: var(--bg-color);\n",
              "    border: none;\n",
              "    border-radius: 50%;\n",
              "    cursor: pointer;\n",
              "    display: none;\n",
              "    fill: var(--fill-color);\n",
              "    height: 32px;\n",
              "    padding: 0;\n",
              "    width: 32px;\n",
              "  }\n",
              "\n",
              "  .colab-df-quickchart:hover {\n",
              "    background-color: var(--hover-bg-color);\n",
              "    box-shadow: 0 1px 2px rgba(60, 64, 67, 0.3), 0 1px 3px 1px rgba(60, 64, 67, 0.15);\n",
              "    fill: var(--button-hover-fill-color);\n",
              "  }\n",
              "\n",
              "  .colab-df-quickchart-complete:disabled,\n",
              "  .colab-df-quickchart-complete:disabled:hover {\n",
              "    background-color: var(--disabled-bg-color);\n",
              "    fill: var(--disabled-fill-color);\n",
              "    box-shadow: none;\n",
              "  }\n",
              "\n",
              "  .colab-df-spinner {\n",
              "    border: 2px solid var(--fill-color);\n",
              "    border-color: transparent;\n",
              "    border-bottom-color: var(--fill-color);\n",
              "    animation:\n",
              "      spin 1s steps(1) infinite;\n",
              "  }\n",
              "\n",
              "  @keyframes spin {\n",
              "    0% {\n",
              "      border-color: transparent;\n",
              "      border-bottom-color: var(--fill-color);\n",
              "      border-left-color: var(--fill-color);\n",
              "    }\n",
              "    20% {\n",
              "      border-color: transparent;\n",
              "      border-left-color: var(--fill-color);\n",
              "      border-top-color: var(--fill-color);\n",
              "    }\n",
              "    30% {\n",
              "      border-color: transparent;\n",
              "      border-left-color: var(--fill-color);\n",
              "      border-top-color: var(--fill-color);\n",
              "      border-right-color: var(--fill-color);\n",
              "    }\n",
              "    40% {\n",
              "      border-color: transparent;\n",
              "      border-right-color: var(--fill-color);\n",
              "      border-top-color: var(--fill-color);\n",
              "    }\n",
              "    60% {\n",
              "      border-color: transparent;\n",
              "      border-right-color: var(--fill-color);\n",
              "    }\n",
              "    80% {\n",
              "      border-color: transparent;\n",
              "      border-right-color: var(--fill-color);\n",
              "      border-bottom-color: var(--fill-color);\n",
              "    }\n",
              "    90% {\n",
              "      border-color: transparent;\n",
              "      border-bottom-color: var(--fill-color);\n",
              "    }\n",
              "  }\n",
              "</style>\n",
              "\n",
              "  <script>\n",
              "    async function quickchart(key) {\n",
              "      const quickchartButtonEl =\n",
              "        document.querySelector('#' + key + ' button');\n",
              "      quickchartButtonEl.disabled = true;  // To prevent multiple clicks.\n",
              "      quickchartButtonEl.classList.add('colab-df-spinner');\n",
              "      try {\n",
              "        const charts = await google.colab.kernel.invokeFunction(\n",
              "            'suggestCharts', [key], {});\n",
              "      } catch (error) {\n",
              "        console.error('Error during call to suggestCharts:', error);\n",
              "      }\n",
              "      quickchartButtonEl.classList.remove('colab-df-spinner');\n",
              "      quickchartButtonEl.classList.add('colab-df-quickchart-complete');\n",
              "    }\n",
              "    (() => {\n",
              "      let quickchartButtonEl =\n",
              "        document.querySelector('#df-4508dde1-96a7-4a9b-9e93-03da2b26c608 button');\n",
              "      quickchartButtonEl.style.display =\n",
              "        google.colab.kernel.accessAllowed ? 'block' : 'none';\n",
              "    })();\n",
              "  </script>\n",
              "</div>\n",
              "\n",
              "    </div>\n",
              "  </div>\n"
            ],
            "application/vnd.google.colaboratory.intrinsic+json": {
              "type": "dataframe",
              "summary": "{\n  \"name\": \"df\",\n  \"rows\": 8,\n  \"fields\": [\n    {\n      \"column\": \"Customer ID\",\n      \"properties\": {\n        \"dtype\": \"number\",\n        \"std\": 5.105163474488446,\n        \"min\": 1.0,\n        \"max\": 15.0,\n        \"num_unique_values\": 6,\n        \"samples\": [\n          15.0,\n          8.0,\n          11.5\n        ],\n        \"semantic_type\": \"\",\n        \"description\": \"\"\n      }\n    },\n    {\n      \"column\": \"Age\",\n      \"properties\": {\n        \"dtype\": \"number\",\n        \"std\": 14.34294878331127,\n        \"min\": 9.179687721631202,\n        \"max\": 52.0,\n        \"num_unique_values\": 8,\n        \"samples\": [\n          36.86666666666667,\n          36.0,\n          15.0\n        ],\n        \"semantic_type\": \"\",\n        \"description\": \"\"\n      }\n    },\n    {\n      \"column\": \"Total Spent\",\n      \"properties\": {\n        \"dtype\": \"number\",\n        \"std\": 259.23739451011346,\n        \"min\": 15.0,\n        \"max\": 800.0,\n        \"num_unique_values\": 8,\n        \"samples\": [\n          444.6666666666667,\n          450.0,\n          15.0\n        ],\n        \"semantic_type\": \"\",\n        \"description\": \"\"\n      }\n    },\n    {\n      \"column\": \"Converted\",\n      \"properties\": {\n        \"dtype\": \"number\",\n        \"std\": 5.112757428088339,\n        \"min\": 0.0,\n        \"max\": 15.0,\n        \"num_unique_values\": 5,\n        \"samples\": [\n          0.6,\n          1.0,\n          0.50709255283711\n        ],\n        \"semantic_type\": \"\",\n        \"description\": \"\"\n      }\n    }\n  ]\n}"
            }
          },
          "metadata": {},
          "execution_count": 6
        }
      ]
    },
    {
      "cell_type": "code",
      "source": [
        "gender_distribution = df['Gender'].value_counts()\n",
        "print(gender_distribution)"
      ],
      "metadata": {
        "colab": {
          "base_uri": "https://localhost:8080/"
        },
        "id": "Xorfd9b1qIjB",
        "outputId": "a2514c04-7f49-469e-cb63-8651fc2fcbc3"
      },
      "execution_count": 7,
      "outputs": [
        {
          "output_type": "stream",
          "name": "stdout",
          "text": [
            "Gender\n",
            "F    8\n",
            "M    7\n",
            "Name: count, dtype: int64\n"
          ]
        }
      ]
    },
    {
      "cell_type": "code",
      "source": [
        "age_distribution = df['Age'].value_counts()\n",
        "print(age_distribution)"
      ],
      "metadata": {
        "colab": {
          "base_uri": "https://localhost:8080/"
        },
        "id": "9290RWvdqTLf",
        "outputId": "ec914b6b-8935-45a0-a91f-563d2233259b"
      },
      "execution_count": 8,
      "outputs": [
        {
          "output_type": "stream",
          "name": "stdout",
          "text": [
            "Age\n",
            "23    1\n",
            "35    1\n",
            "45    1\n",
            "52    1\n",
            "29    1\n",
            "41    1\n",
            "38    1\n",
            "27    1\n",
            "50    1\n",
            "33    1\n",
            "40    1\n",
            "24    1\n",
            "48    1\n",
            "32    1\n",
            "36    1\n",
            "Name: count, dtype: int64\n"
          ]
        }
      ]
    },
    {
      "cell_type": "code",
      "source": [
        "conversion_by_gender = df.groupby('Gender')['Converted'].mean()\n",
        "print(conversion_by_gender)"
      ],
      "metadata": {
        "colab": {
          "base_uri": "https://localhost:8080/"
        },
        "id": "eD2QYVbrqbO_",
        "outputId": "ae459875-32b7-4cf6-bdc8-c880431330a7"
      },
      "execution_count": 9,
      "outputs": [
        {
          "output_type": "stream",
          "name": "stdout",
          "text": [
            "Gender\n",
            "F    0.750000\n",
            "M    0.428571\n",
            "Name: Converted, dtype: float64\n"
          ]
        }
      ]
    },
    {
      "cell_type": "code",
      "source": [
        "df['Age Group'] = pd.cut(df['Age'], bins=[25, 35, 45, 55, 65], labels=['25-35', '35-45','45-55', '55+'])\n",
        "spending_by_age_group = df.groupby('Age Group')['Total Spent'].mean()\n",
        "print(spending_by_age_group)"
      ],
      "metadata": {
        "colab": {
          "base_uri": "https://localhost:8080/"
        },
        "id": "5c169O2wrNQo",
        "outputId": "ff5d3154-dab7-4dba-d98f-541e1232acd1"
      },
      "execution_count": 13,
      "outputs": [
        {
          "output_type": "stream",
          "name": "stdout",
          "text": [
            "Age Group\n",
            "25-35    418.000000\n",
            "35-45    608.000000\n",
            "45-55    366.666667\n",
            "55+             NaN\n",
            "Name: Total Spent, dtype: float64\n"
          ]
        },
        {
          "output_type": "stream",
          "name": "stderr",
          "text": [
            "<ipython-input-13-6ef6dd8aeddd>:2: FutureWarning: The default of observed=False is deprecated and will be changed to True in a future version of pandas. Pass observed=False to retain current behavior or observed=True to adopt the future default and silence this warning.\n",
            "  spending_by_age_group = df.groupby('Age Group')['Total Spent'].mean()\n"
          ]
        }
      ]
    },
    {
      "cell_type": "code",
      "source": [
        "df['Comment Lenght'] = df['Comments'].apply(lambda x: len(x.split()))\n",
        "comment_summary = df[['Comments', 'Comment Lenght']].head()\n",
        "print(comment_summary)"
      ],
      "metadata": {
        "colab": {
          "base_uri": "https://localhost:8080/"
        },
        "id": "9RpEWDxisM9j",
        "outputId": "3f5eb12a-0bb3-44be-8e0b-8d2a57718b2e"
      },
      "execution_count": 14,
      "outputs": [
        {
          "output_type": "stream",
          "name": "stdout",
          "text": [
            "                        Comments  Comment Lenght\n",
            "0     Satisfied with the service               4\n",
            "1  Needs improvement in delivery               4\n",
            "2               Regular customer               2\n",
            "3               Occasional buyer               2\n",
            "4                   High spender               2\n"
          ]
        }
      ]
    },
    {
      "cell_type": "code",
      "source": [
        "df['Spending Category'] = pd.cut(df['Total Spent'], bins=[0,200, 500, 1000], labels=['Low', 'Medium', 'High'])\n",
        "customer_segments = df.groupby(['Age Group', 'Spending Category']).size().unstack()\n",
        "print(customer_segments)"
      ],
      "metadata": {
        "colab": {
          "base_uri": "https://localhost:8080/"
        },
        "id": "0Cg9005Psn4c",
        "outputId": "67cd6cb6-cc72-4a87-a524-bd78d4b1e057"
      },
      "execution_count": 15,
      "outputs": [
        {
          "output_type": "stream",
          "name": "stdout",
          "text": [
            "Spending Category  Low  Medium  High\n",
            "Age Group                           \n",
            "25-35                1       2     2\n",
            "35-45                0       1     4\n",
            "45-55                1       2     0\n",
            "55+                  0       0     0\n"
          ]
        },
        {
          "output_type": "stream",
          "name": "stderr",
          "text": [
            "<ipython-input-15-efcac106d5d1>:2: FutureWarning: The default of observed=False is deprecated and will be changed to True in a future version of pandas. Pass observed=False to retain current behavior or observed=True to adopt the future default and silence this warning.\n",
            "  customer_segments = df.groupby(['Age Group', 'Spending Category']).size().unstack()\n"
          ]
        }
      ]
    },
    {
      "cell_type": "code",
      "source": [],
      "metadata": {
        "id": "V09T6Euntpq3"
      },
      "execution_count": null,
      "outputs": []
    },
    {
      "cell_type": "code",
      "source": [
        "conversion_by_age = df.groupby('Age Group')['Converted'].mean()\n",
        "print(conversion_by_age)"
      ],
      "metadata": {
        "colab": {
          "base_uri": "https://localhost:8080/"
        },
        "id": "CBZbFhyJtvXX",
        "outputId": "e6883f77-a4d7-4222-b59c-7fbdd0be7081"
      },
      "execution_count": 16,
      "outputs": [
        {
          "output_type": "stream",
          "name": "stdout",
          "text": [
            "Age Group\n",
            "25-35    0.800000\n",
            "35-45    0.600000\n",
            "45-55    0.333333\n",
            "55+           NaN\n",
            "Name: Converted, dtype: float64\n"
          ]
        },
        {
          "output_type": "stream",
          "name": "stderr",
          "text": [
            "<ipython-input-16-9702b2a039d8>:1: FutureWarning: The default of observed=False is deprecated and will be changed to True in a future version of pandas. Pass observed=False to retain current behavior or observed=True to adopt the future default and silence this warning.\n",
            "  conversion_by_age = df.groupby('Age Group')['Converted'].mean()\n"
          ]
        }
      ]
    },
    {
      "cell_type": "code",
      "source": [
        "average_spending_gender = df.groupby('Gender')['Total Spent'].mean()\n",
        "print(average_spending_gender)"
      ],
      "metadata": {
        "colab": {
          "base_uri": "https://localhost:8080/"
        },
        "id": "p_ZQP3Tft3ee",
        "outputId": "27c406cd-da73-4b1c-8749-6d9fd64a9779"
      },
      "execution_count": 17,
      "outputs": [
        {
          "output_type": "stream",
          "name": "stdout",
          "text": [
            "Gender\n",
            "F    492.5\n",
            "M    390.0\n",
            "Name: Total Spent, dtype: float64\n"
          ]
        }
      ]
    },
    {
      "cell_type": "code",
      "source": [
        "correlation_matrix = df[['Age', 'Total Spent', 'Converted']].corr()\n",
        "print(correlation_matrix)"
      ],
      "metadata": {
        "colab": {
          "base_uri": "https://localhost:8080/"
        },
        "id": "Sg2S677IuEeU",
        "outputId": "a9f7b217-7b1d-4715-bcb5-7b27800ccc7b"
      },
      "execution_count": 18,
      "outputs": [
        {
          "output_type": "stream",
          "name": "stdout",
          "text": [
            "                  Age  Total Spent  Converted\n",
            "Age          1.000000     0.352370  -0.349858\n",
            "Total Spent  0.352370     1.000000   0.070953\n",
            "Converted   -0.349858     0.070953   1.000000\n"
          ]
        }
      ]
    },
    {
      "cell_type": "code",
      "source": [
        "from collections import Counter\n",
        "import re\n",
        "\n",
        "all_comments = ' '.join(df['Comments'].values)\n",
        "words = re.findall(r'\\w+', all_comments.lower())\n",
        "common_words = Counter(words).most_common(10)\n",
        "print(common_words)"
      ],
      "metadata": {
        "colab": {
          "base_uri": "https://localhost:8080/"
        },
        "id": "dsIKtizluPc8",
        "outputId": "5b667afc-e657-46bf-b548-959e1d90479e"
      },
      "execution_count": 19,
      "outputs": [
        {
          "output_type": "stream",
          "name": "stdout",
          "text": [
            "[('with', 3), ('satisfied', 2), ('the', 2), ('customer', 2), ('high', 2), ('service', 1), ('needs', 1), ('improvement', 1), ('in', 1), ('delivery', 1)]\n"
          ]
        }
      ]
    },
    {
      "cell_type": "code",
      "source": [
        "import matplotlib.pyplot as plt\n",
        "\n",
        "plt.scatter(df['Age'], df['Total Spent'])\n",
        "plt.xlabel('Age')\n",
        "plt.ylabel('Total Spent')\n",
        "plt.title('Age vs Total Spent')\n",
        "plt.show()"
      ],
      "metadata": {
        "colab": {
          "base_uri": "https://localhost:8080/",
          "height": 472
        },
        "id": "kqAG8DmJuqEw",
        "outputId": "95b6be44-583d-4d07-8511-8c3433fbd050"
      },
      "execution_count": 20,
      "outputs": [
        {
          "output_type": "display_data",
          "data": {
            "text/plain": [
              "<Figure size 640x480 with 1 Axes>"
            ],
            "image/png": "[encoded data removed]"
          },
          "metadata": {}
        }
      ]
    },
    {
      "cell_type": "code",
      "source": [
        "conversion_by_age.plot(kind='bar')\n",
        "plt.xlabel('Age Group')\n",
        "plt.ylabel('Conversion Rate')\n",
        "plt.title('Conversion Rate by Age Group')\n",
        "plt.show()"
      ],
      "metadata": {
        "colab": {
          "base_uri": "https://localhost:8080/",
          "height": 498
        },
        "id": "q4dzS6hLu8qF",
        "outputId": "e99418ac-87eb-41b4-ecdb-e7ad73896ff0"
      },
      "execution_count": 22,
      "outputs": [
        {
          "output_type": "display_data",
          "data": {
            "text/plain": [
              "<Figure size 640x480 with 1 Axes>"
            ],
            "image/png": "[encoded data removed]"
          },
          "metadata": {}
        }
      ]
    },
    {
      "cell_type": "code",
      "source": [
        "df['Spending Category'] = pd.cut(df['Total Spent'], bins = [0, 200, 500, 1000], labels=['Low', 'Medium', 'High'])\n",
        "conversion_by_spending = df.groupby('Spending Category')['Converted'].mean()\n",
        "print(conversion_by_spending)"
      ],
      "metadata": {
        "colab": {
          "base_uri": "https://localhost:8080/"
        },
        "id": "MhJ--apdvOAk",
        "outputId": "6a643f34-4361-46ea-b78f-13b974bd68f7"
      },
      "execution_count": 23,
      "outputs": [
        {
          "output_type": "stream",
          "name": "stdout",
          "text": [
            "Spending Category\n",
            "Low       0.666667\n",
            "Medium    0.333333\n",
            "High      0.833333\n",
            "Name: Converted, dtype: float64\n"
          ]
        },
        {
          "output_type": "stream",
          "name": "stderr",
          "text": [
            "<ipython-input-23-a9fdabb90937>:2: FutureWarning: The default of observed=False is deprecated and will be changed to True in a future version of pandas. Pass observed=False to retain current behavior or observed=True to adopt the future default and silence this warning.\n",
            "  conversion_by_spending = df.groupby('Spending Category')['Converted'].mean()\n"
          ]
        }
      ]
    },
    {
      "cell_type": "code",
      "source": [
        "import statsmodels.api as sm\n",
        "\n",
        "x = df['Age']\n",
        "y = df['Total Spent']\n",
        "\n",
        "x = sm.add_constant(x)\n",
        "\n",
        "model = sm.OLS(y, x).fit()\n",
        "print(model.summary())"
      ],
      "metadata": {
        "colab": {
          "base_uri": "https://localhost:8080/"
        },
        "id": "vI4GT4Oavok7",
        "outputId": "0297faba-18fd-488c-e9f4-26487bb12fa4"
      },
      "execution_count": 24,
      "outputs": [
        {
          "output_type": "stream",
          "name": "stdout",
          "text": [
            "                            OLS Regression Results                            \n",
            "==============================================================================\n",
            "Dep. Variable:            Total Spent   R-squared:                       0.124\n",
            "Model:                            OLS   Adj. R-squared:                  0.057\n",
            "Method:                 Least Squares   F-statistic:                     1.843\n",
            "Date:                Sat, 19 Oct 2024   Prob (F-statistic):              0.198\n",
            "Time:                        07:48:22   Log-Likelihood:                -100.29\n",
            "No. Observations:                  15   AIC:                             204.6\n",
            "Df Residuals:                      13   BIC:                             206.0\n",
            "Df Model:                           1                                         \n",
            "Covariance Type:            nonrobust                                         \n",
            "==============================================================================\n",
            "                 coef    std err          t      P>|t|      [0.025      0.975]\n",
            "------------------------------------------------------------------------------\n",
            "const        141.2500    229.877      0.614      0.550    -355.370     637.870\n",
            "Age            8.2301      6.062      1.358      0.198      -4.867      21.327\n",
            "==============================================================================\n",
            "Omnibus:                        0.197   Durbin-Watson:                   2.173\n",
            "Prob(Omnibus):                  0.906   Jarque-Bera (JB):                0.394\n",
            "Skew:                           0.054   Prob(JB):                        0.821\n",
            "Kurtosis:                       2.213   Cond. No.                         162.\n",
            "==============================================================================\n",
            "\n",
            "Notes:\n",
            "[1] Standard Errors assume that the covariance matrix of the errors is correctly specified.\n"
          ]
        },
        {
          "output_type": "stream",
          "name": "stderr",
          "text": [
            "/usr/local/lib/python3.10/dist-packages/scipy/stats/_axis_nan_policy.py:531: UserWarning: kurtosistest only valid for n>=20 ... continuing anyway, n=15\n",
            "  res = hypotest_fun_out(*samples, **kwds)\n"
          ]
        }
      ]
    },
    {
      "cell_type": "code",
      "source": [
        "df['Gender_num'] = df['Gender'].map({'M': 0, 'F': 1})\n",
        "\n",
        "\n",
        "x = df['Gender_num']\n",
        "y= df['Total Spent']\n",
        "\n",
        "x = sm.add_constant(x)\n",
        "\n",
        "gender_model = sm.OLS(y, x).fit()\n",
        "print(gender_model.summary())"
      ],
      "metadata": {
        "colab": {
          "base_uri": "https://localhost:8080/"
        },
        "id": "UZV8spQlxufU",
        "outputId": "e294881f-f377-4ec1-bbb8-74c7d1904d1d"
      },
      "execution_count": 25,
      "outputs": [
        {
          "output_type": "stream",
          "name": "stdout",
          "text": [
            "                            OLS Regression Results                            \n",
            "==============================================================================\n",
            "Dep. Variable:            Total Spent   R-squared:                       0.061\n",
            "Model:                            OLS   Adj. R-squared:                 -0.011\n",
            "Method:                 Least Squares   F-statistic:                    0.8437\n",
            "Date:                Sat, 19 Oct 2024   Prob (F-statistic):              0.375\n",
            "Time:                        07:57:56   Log-Likelihood:                -100.81\n",
            "No. Observations:                  15   AIC:                             205.6\n",
            "Df Residuals:                      13   BIC:                             207.0\n",
            "Df Model:                           1                                         \n",
            "Covariance Type:            nonrobust                                         \n",
            "==============================================================================\n",
            "                 coef    std err          t      P>|t|      [0.025      0.975]\n",
            "------------------------------------------------------------------------------\n",
            "const        390.0000     81.494      4.786      0.000     213.944     566.056\n",
            "Gender_num   102.5000    111.590      0.919      0.375    -138.575     343.575\n",
            "==============================================================================\n",
            "Omnibus:                        0.529   Durbin-Watson:                   1.912\n",
            "Prob(Omnibus):                  0.768   Jarque-Bera (JB):                0.566\n",
            "Skew:                           0.136   Prob(JB):                        0.753\n",
            "Kurtosis:                       2.087   Cond. No.                         2.70\n",
            "==============================================================================\n",
            "\n",
            "Notes:\n",
            "[1] Standard Errors assume that the covariance matrix of the errors is correctly specified.\n"
          ]
        },
        {
          "output_type": "stream",
          "name": "stderr",
          "text": [
            "/usr/local/lib/python3.10/dist-packages/scipy/stats/_axis_nan_policy.py:531: UserWarning: kurtosistest only valid for n>=20 ... continuing anyway, n=15\n",
            "  res = hypotest_fun_out(*samples, **kwds)\n"
          ]
        }
      ]
    },
    {
      "cell_type": "code",
      "source": [
        "x = df[['Age', 'Gender_num']]\n",
        "y = df[['Total Spent']]\n",
        "\n",
        "x = sm.add_constant(x)\n",
        "\n",
        "\n",
        "multi_model = sm.OLS(y, x).fit()\n",
        "print(multi_model.summary())\n"
      ],
      "metadata": {
        "colab": {
          "base_uri": "https://localhost:8080/"
        },
        "id": "5XJUNmuAzIkJ",
        "outputId": "f0271356-ac4d-42da-8eb1-7bf67c9d038b"
      },
      "execution_count": 26,
      "outputs": [
        {
          "output_type": "stream",
          "name": "stdout",
          "text": [
            "                            OLS Regression Results                            \n",
            "==============================================================================\n",
            "Dep. Variable:            Total Spent   R-squared:                       0.155\n",
            "Model:                            OLS   Adj. R-squared:                  0.014\n",
            "Method:                 Least Squares   F-statistic:                     1.102\n",
            "Date:                Sat, 19 Oct 2024   Prob (F-statistic):              0.363\n",
            "Time:                        08:07:36   Log-Likelihood:                -100.02\n",
            "No. Observations:                  15   AIC:                             206.0\n",
            "Df Residuals:                      12   BIC:                             208.2\n",
            "Df Model:                           2                                         \n",
            "Covariance Type:            nonrobust                                         \n",
            "==============================================================================\n",
            "                 coef    std err          t      P>|t|      [0.025      0.975]\n",
            "------------------------------------------------------------------------------\n",
            "const        134.2325    235.223      0.571      0.579    -378.274     646.739\n",
            "Age            7.3376      6.341      1.157      0.270      -6.479      21.154\n",
            "Gender_num    74.8530    112.724      0.664      0.519    -170.752     320.458\n",
            "==============================================================================\n",
            "Omnibus:                        0.527   Durbin-Watson:                   2.048\n",
            "Prob(Omnibus):                  0.768   Jarque-Bera (JB):                0.594\n",
            "Skew:                           0.260   Prob(JB):                        0.743\n",
            "Kurtosis:                       2.175   Cond. No.                         162.\n",
            "==============================================================================\n",
            "\n",
            "Notes:\n",
            "[1] Standard Errors assume that the covariance matrix of the errors is correctly specified.\n"
          ]
        },
        {
          "output_type": "stream",
          "name": "stderr",
          "text": [
            "/usr/local/lib/python3.10/dist-packages/scipy/stats/_axis_nan_policy.py:531: UserWarning: kurtosistest only valid for n>=20 ... continuing anyway, n=15\n",
            "  res = hypotest_fun_out(*samples, **kwds)\n"
          ]
        }
      ]
    },
    {
      "cell_type": "code",
      "source": [
        "x = df[['Age', 'Gender_num']]\n",
        "y = df['Converted']\n",
        "\n",
        "x = sm.add_constant(x)\n",
        "\n",
        "\n",
        "logit_model = sm.Logit(y, x).fit()\n",
        "print(logit_model.summary())"
      ],
      "metadata": {
        "colab": {
          "base_uri": "https://localhost:8080/"
        },
        "id": "3xLXeO9b0Yx_",
        "outputId": "3d21c3d9-b1a4-4add-f140-02f86d369621"
      },
      "execution_count": 27,
      "outputs": [
        {
          "output_type": "stream",
          "name": "stdout",
          "text": [
            "Optimization terminated successfully.\n",
            "         Current function value: 0.493945\n",
            "         Iterations 7\n",
            "                           Logit Regression Results                           \n",
            "==============================================================================\n",
            "Dep. Variable:              Converted   No. Observations:                   15\n",
            "Model:                          Logit   Df Residuals:                       12\n",
            "Method:                           MLE   Df Model:                            2\n",
            "Date:                Sat, 19 Oct 2024   Pseudo R-squ.:                  0.2661\n",
            "Time:                        08:08:54   Log-Likelihood:                -7.4092\n",
            "converged:                       True   LL-Null:                       -10.095\n",
            "Covariance Type:            nonrobust   LLR p-value:                   0.06815\n",
            "==============================================================================\n",
            "                 coef    std err          z      P>|z|      [0.025      0.975]\n",
            "------------------------------------------------------------------------------\n",
            "const          5.2570      3.598      1.461      0.144      -1.795      12.309\n",
            "Age           -0.1653      0.108     -1.535      0.125      -0.376       0.046\n",
            "Gender_num     2.6854      1.749      1.535      0.125      -0.743       6.113\n",
            "==============================================================================\n"
          ]
        }
      ]
    },
    {
      "cell_type": "code",
      "source": [
        "x = df[['Age', 'Gender_num']]\n",
        "y = pd.get_dummies(df['Spending Category'], drop_first=True)\n",
        "\n",
        "x = sm.add_constant(x)\n",
        "\n",
        "multi_cat_model = sm.MNLogit(y, x).fit()\n",
        "print(multi_cat_model.summary())"
      ],
      "metadata": {
        "colab": {
          "base_uri": "https://localhost:8080/"
        },
        "id": "674w3eEu1AJb",
        "outputId": "cf133a79-f3bb-49f4-f83d-73ec1fd35178"
      },
      "execution_count": 28,
      "outputs": [
        {
          "output_type": "stream",
          "name": "stdout",
          "text": [
            "Optimization terminated successfully.\n",
            "         Current function value: 0.560051\n",
            "         Iterations 5\n",
            "                          MNLogit Regression Results                          \n",
            "==============================================================================\n",
            "Dep. Variable:                      y   No. Observations:                   15\n",
            "Model:                        MNLogit   Df Residuals:                       12\n",
            "Method:                           MLE   Df Model:                            2\n",
            "Date:                Sat, 19 Oct 2024   Pseudo R-squ.:                  0.1678\n",
            "Time:                        08:12:16   Log-Likelihood:                -8.4008\n",
            "converged:                       True   LL-Null:                       -10.095\n",
            "Covariance Type:            nonrobust   LLR p-value:                    0.1837\n",
            "==============================================================================\n",
            "    y=High       coef    std err          z      P>|z|      [0.025      0.975]\n",
            "------------------------------------------------------------------------------\n",
            "const         -1.2932      2.339     -0.553      0.580      -5.877       3.291\n",
            "Age            0.0108      0.062      0.173      0.862      -0.111       0.132\n",
            "Gender_num     0.8775      1.117      0.786      0.432      -1.312       3.067\n",
            "==============================================================================\n"
          ]
        }
      ]
    },
    {
      "cell_type": "code",
      "source": [
        "X = df['Comment Lenght']\n",
        "y = df['Total Spent']\n",
        "\n",
        "x = sm.add_constant(x)\n",
        "\n",
        "comment_lenght_model = sm.OLS(y, x).fit()\n",
        "print(comment_lenght_model.summary())"
      ],
      "metadata": {
        "colab": {
          "base_uri": "https://localhost:8080/"
        },
        "id": "JQN8Mmip1cDv",
        "outputId": "b55511b0-4121-492c-aee7-72c209968993"
      },
      "execution_count": 38,
      "outputs": [
        {
          "output_type": "stream",
          "name": "stdout",
          "text": [
            "                            OLS Regression Results                            \n",
            "==============================================================================\n",
            "Dep. Variable:            Total Spent   R-squared:                       0.001\n",
            "Model:                            OLS   Adj. R-squared:                 -0.076\n",
            "Method:                 Least Squares   F-statistic:                  0.009408\n",
            "Date:                Sat, 19 Oct 2024   Prob (F-statistic):              0.924\n",
            "Time:                        08:17:32   Log-Likelihood:                -101.28\n",
            "No. Observations:                  15   AIC:                             206.6\n",
            "Df Residuals:                      13   BIC:                             208.0\n",
            "Df Model:                           1                                         \n",
            "Covariance Type:            nonrobust                                         \n",
            "==================================================================================\n",
            "                     coef    std err          t      P>|t|      [0.025      0.975]\n",
            "----------------------------------------------------------------------------------\n",
            "const            462.5000    192.620      2.401      0.032      46.370     878.630\n",
            "Comment Lenght    -6.5244     67.266     -0.097      0.924    -151.843     138.794\n",
            "==============================================================================\n",
            "Omnibus:                        1.348   Durbin-Watson:                   2.129\n",
            "Prob(Omnibus):                  0.510   Jarque-Bera (JB):                0.807\n",
            "Skew:                           0.071   Prob(JB):                        0.668\n",
            "Kurtosis:                       1.873   Cond. No.                         10.7\n",
            "==============================================================================\n",
            "\n",
            "Notes:\n",
            "[1] Standard Errors assume that the covariance matrix of the errors is correctly specified.\n"
          ]
        },
        {
          "output_type": "stream",
          "name": "stderr",
          "text": [
            "/usr/local/lib/python3.10/dist-packages/scipy/stats/_axis_nan_policy.py:531: UserWarning: kurtosistest only valid for n>=20 ... continuing anyway, n=15\n",
            "  res = hypotest_fun_out(*samples, **kwds)\n"
          ]
        }
      ]
    },
    {
      "cell_type": "code",
      "source": [
        "from sklearn.preprocessing import PolynomialFeatures\n",
        "\n",
        "x = df[['Age']]\n",
        "poly = PolynomialFeatures(degree=2)\n",
        "x_poly = poly.fit_transform(x)\n",
        "\n",
        "x_poly = sm.add_constant(x_poly)\n",
        "\n",
        "poly_model = sm.OLS(df['Total Spent'], x_poly).fit()\n",
        "print(poly_model.summary())"
      ],
      "metadata": {
        "colab": {
          "base_uri": "https://localhost:8080/"
        },
        "id": "ZFU79Hof2yF3",
        "outputId": "7ccae28d-cb5f-4e01-d666-c8cac65b0045"
      },
      "execution_count": 40,
      "outputs": [
        {
          "output_type": "stream",
          "name": "stdout",
          "text": [
            "                            OLS Regression Results                            \n",
            "==============================================================================\n",
            "Dep. Variable:            Total Spent   R-squared:                       0.573\n",
            "Model:                            OLS   Adj. R-squared:                  0.502\n",
            "Method:                 Least Squares   F-statistic:                     8.045\n",
            "Date:                Sat, 19 Oct 2024   Prob (F-statistic):            0.00608\n",
            "Time:                        08:20:27   Log-Likelihood:                -94.906\n",
            "No. Observations:                  15   AIC:                             195.8\n",
            "Df Residuals:                      12   BIC:                             197.9\n",
            "Df Model:                           2                                         \n",
            "Covariance Type:            nonrobust                                         \n",
            "==============================================================================\n",
            "                 coef    std err          t      P>|t|      [0.025      0.975]\n",
            "------------------------------------------------------------------------------\n",
            "const      -2273.5428    700.463     -3.246      0.007   -3799.721    -747.365\n",
            "x1           144.9690     38.770      3.739      0.003      60.496     229.442\n",
            "x2            -1.8266      0.515     -3.550      0.004      -2.948      -0.706\n",
            "==============================================================================\n",
            "Omnibus:                        1.138   Durbin-Watson:                   1.952\n",
            "Prob(Omnibus):                  0.566   Jarque-Bera (JB):                0.883\n",
            "Skew:                           0.329   Prob(JB):                        0.643\n",
            "Kurtosis:                       2.010   Cond. No.                     2.85e+04\n",
            "==============================================================================\n",
            "\n",
            "Notes:\n",
            "[1] Standard Errors assume that the covariance matrix of the errors is correctly specified.\n",
            "[2] The condition number is large, 2.85e+04. This might indicate that there are\n",
            "strong multicollinearity or other numerical problems.\n"
          ]
        },
        {
          "output_type": "stream",
          "name": "stderr",
          "text": [
            "/usr/local/lib/python3.10/dist-packages/scipy/stats/_axis_nan_policy.py:531: UserWarning: kurtosistest only valid for n>=20 ... continuing anyway, n=15\n",
            "  res = hypotest_fun_out(*samples, **kwds)\n"
          ]
        }
      ]
    },
    {
      "cell_type": "code",
      "source": [
        "x_multi = df[['Age', 'Gender_num']]\n",
        "\n",
        "x_multi = sm.add_constant(x_multi)\n",
        "\n",
        "multi_model = sm.OLS(df['Total Spent'], x_multi).fit()\n",
        "print(multi_model.summary())"
      ],
      "metadata": {
        "colab": {
          "base_uri": "https://localhost:8080/"
        },
        "id": "D7Oh1II93Z6q",
        "outputId": "33787c5d-3eea-4afe-982b-98c3cc885be5"
      },
      "execution_count": 42,
      "outputs": [
        {
          "output_type": "stream",
          "name": "stdout",
          "text": [
            "                            OLS Regression Results                            \n",
            "==============================================================================\n",
            "Dep. Variable:            Total Spent   R-squared:                       0.155\n",
            "Model:                            OLS   Adj. R-squared:                  0.014\n",
            "Method:                 Least Squares   F-statistic:                     1.102\n",
            "Date:                Sat, 19 Oct 2024   Prob (F-statistic):              0.363\n",
            "Time:                        08:22:34   Log-Likelihood:                -100.02\n",
            "No. Observations:                  15   AIC:                             206.0\n",
            "Df Residuals:                      12   BIC:                             208.2\n",
            "Df Model:                           2                                         \n",
            "Covariance Type:            nonrobust                                         \n",
            "==============================================================================\n",
            "                 coef    std err          t      P>|t|      [0.025      0.975]\n",
            "------------------------------------------------------------------------------\n",
            "const        134.2325    235.223      0.571      0.579    -378.274     646.739\n",
            "Age            7.3376      6.341      1.157      0.270      -6.479      21.154\n",
            "Gender_num    74.8530    112.724      0.664      0.519    -170.752     320.458\n",
            "==============================================================================\n",
            "Omnibus:                        0.527   Durbin-Watson:                   2.048\n",
            "Prob(Omnibus):                  0.768   Jarque-Bera (JB):                0.594\n",
            "Skew:                           0.260   Prob(JB):                        0.743\n",
            "Kurtosis:                       2.175   Cond. No.                         162.\n",
            "==============================================================================\n",
            "\n",
            "Notes:\n",
            "[1] Standard Errors assume that the covariance matrix of the errors is correctly specified.\n"
          ]
        },
        {
          "output_type": "stream",
          "name": "stderr",
          "text": [
            "/usr/local/lib/python3.10/dist-packages/scipy/stats/_axis_nan_policy.py:531: UserWarning: kurtosistest only valid for n>=20 ... continuing anyway, n=15\n",
            "  res = hypotest_fun_out(*samples, **kwds)\n"
          ]
        }
      ]
    },
    {
      "cell_type": "code",
      "source": [
        "from sklearn.linear_model import LogisticRegression\n",
        "\n",
        "x_logit = df[['Age','Gender_num']]\n",
        "y_logit = df['Converted']\n",
        "\n",
        "logit_model = LogisticRegression()\n",
        "logit_model.fit(x_logit, y_logit)\n",
        "\n",
        "print(\"Model coefficients: \", logit_model.coef_)\n",
        "print(\"Model intercept: \", logit_model.intercept_)"
      ],
      "metadata": {
        "colab": {
          "base_uri": "https://localhost:8080/"
        },
        "id": "k98bKHY43w0N",
        "outputId": "c05b1de8-11af-4482-e5b5-95c15b6bc11a"
      },
      "execution_count": 44,
      "outputs": [
        {
          "output_type": "stream",
          "name": "stdout",
          "text": [
            "Model coefficients:  [[-0.1033762   0.87446591]]\n",
            "Model intercept:  [3.81861468]\n"
          ]
        }
      ]
    },
    {
      "cell_type": "code",
      "source": [
        "from sklearn.cluster import KMeans\n",
        "import matplotlib.pyplot as plt\n",
        "\n",
        "x_cluster = df[['Age', 'Total Spent']]\n",
        "\n",
        "kmeans = KMeans(n_clusters=3, random_state=42)\n",
        "df['Cluster'] = kmeans.fit_predict(x_cluster)\n",
        "\n",
        "\n",
        "plt.scatter(df['Age'], df['Total Spent'], c=df['Cluster'], cmap='viridis')\n",
        "plt.xlabel('Age')\n",
        "plt.ylabel('Total Spent')\n",
        "plt.title('Customer Segmentation')\n",
        "plt.show()"
      ],
      "metadata": {
        "colab": {
          "base_uri": "https://localhost:8080/",
          "height": 472
        },
        "id": "YPXkO3pe4p_Y",
        "outputId": "3e273bd8-38bd-4ae7-83d2-455e6d7b1547"
      },
      "execution_count": 47,
      "outputs": [
        {
          "output_type": "display_data",
          "data": {
            "text/plain": [
              "<Figure size 640x480 with 1 Axes>"
            ],
            "image/png": "[encoded data removed]"
          },
          "metadata": {}
        }
      ]
    },
    {
      "cell_type": "code",
      "source": [
        "from sklearn.tree import DecisionTreeClassifier\n",
        "from sklearn.model_selection import train_test_split\n",
        "from sklearn.metrics import accuracy_score\n",
        "\n",
        "x = df[['Age', 'Gender_num']]\n",
        "y = df['Converted']\n",
        "\n",
        "x_train, x_test, y_train, y_test = train_test_split(x, y, test_size=0.2, random_state=42)\n",
        "\n",
        "\n",
        "tree_model = DecisionTreeClassifier(random_state=42)\n",
        "tree_model.fit(x_train, y_train)\n",
        "\n",
        "y_pred = tree_model.predict(x_test)\n",
        "\n",
        "\n",
        "print(\"Model Accuracy: \", accuracy_score(y_test, y_pred))"
      ],
      "metadata": {
        "colab": {
          "base_uri": "https://localhost:8080/"
        },
        "id": "LI104vq35Yxz",
        "outputId": "f43466a2-898e-4b21-d81a-12b8ec270cc5"
      },
      "execution_count": 52,
      "outputs": [
        {
          "output_type": "stream",
          "name": "stdout",
          "text": [
            "Model Accuracy:  0.3333333333333333\n"
          ]
        }
      ]
    }
  ]
}