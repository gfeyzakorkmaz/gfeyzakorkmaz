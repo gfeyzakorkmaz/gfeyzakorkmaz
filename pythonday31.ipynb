{
  "nbformat": 4,
  "nbformat_minor": 0,
  "metadata": {
    "colab": {
      "provenance": [],
      "mount_file_id": "1DRGhwS_2pItBqMY6fi4rJR7nUx0GXR7H",
      "authorship_tag": "ABX9TyOvcc5Fpcq7z60SxdQFcfYs",
      "include_colab_link": true
    },
    "kernelspec": {
      "name": "python3",
      "display_name": "Python 3"
    },
    "language_info": {
      "name": "python"
    }
  },
  "cells": [
    {
      "cell_type": "markdown",
      "metadata": {
        "id": "view-in-github",
        "colab_type": "text"
      },
      "source": [
        "<a href=\"https://colab.research.google.com/github/gfeyzakorkmaz/gfeyzakorkmaz/blob/main/pythonday31.ipynb\" target=\"_parent\"><img src=\"https://colab.research.google.com/assets/colab-badge.svg\" alt=\"Open In Colab\"/></a>"
      ]
    },
    {
      "cell_type": "code",
      "execution_count": 1,
      "metadata": {
        "id": "auMO1Y6nTAS3"
      },
      "outputs": [],
      "source": [
        "import pandas as pd\n",
        "from sklearn.ensemble import IsolationForest"
      ]
    },
    {
      "cell_type": "code",
      "source": [
        "path = '/content/drive/MyDrive/Dataset/extended_marketing_data_new.xlsx'"
      ],
      "metadata": {
        "id": "9b-wXiZUVCxe"
      },
      "execution_count": 2,
      "outputs": []
    },
    {
      "cell_type": "code",
      "source": [
        "df = pd.read_excel(path)\n",
        "df.head(20)"
      ],
      "metadata": {
        "colab": {
          "base_uri": "https://localhost:8080/",
          "height": 676
        },
        "id": "DqsuuR7nVEen",
        "outputId": "dc9fc351-98df-4d59-f5f5-3391e024ab48"
      },
      "execution_count": 5,
      "outputs": [
        {
          "output_type": "execute_result",
          "data": {
            "text/plain": [
              "    Customer ID  Age Gender  ...                         Comments  Purchased Category Stock\n",
              "0             1   23      F  ...       Satisfied with the service            Clothing     4\n",
              "1             2   35      M  ...    Needs improvement in delivery              Beauty    86\n",
              "2             3   45      F  ...                 Regular customer               Books    24\n",
              "3             4   52      M  ...                 Occasional buyer              Beauty    10\n",
              "4             5   29      F  ...                     High spender               Books    47\n",
              "5             6   41      M  ...               Average experience               Books    86\n",
              "6             7   38      F  ...          Prefers online shopping          Home Goods    69\n",
              "7             8   27      M  ...                     New customer          Home Goods     0\n",
              "8             9   50      F  ...               Loyal to the brand         Electronics    86\n",
              "9            10   33      M  ...             High conversion rate            Clothing    45\n",
              "10           11   40      F  ...                   Low engagement          Home Goods    68\n",
              "11           12   24      M  ...   Satisfied with product quality          Home Goods    38\n",
              "12           13   48      F  ...                 Frequent shopper              Beauty     0\n",
              "13           14   32      M  ...             Unhappy with returns         Electronics    85\n",
              "14           15   36      F  ...                 Enjoys discounts         Electronics    55\n",
              "15           16   28      M  ...               Enjoys the product         Electronics    13\n",
              "16           17   42      F  ...           Needs more information               Books    92\n",
              "17           18   35      M  ...  Satisfied with customer service            Clothing    87\n",
              "18           19   50      F  ...                   Not interested               Books    21\n",
              "19           20   25      F  ...                 Likes the design          Home Goods    68\n",
              "\n",
              "[20 rows x 8 columns]"
            ],
            "text/html": [
              "\n",
              "  <div id=\"df-14a0165e-4d58-44a7-b291-a34a7dfb36e5\" class=\"colab-df-container\">\n",
              "    <div>\n",
              "<style scoped>\n",
              "    .dataframe tbody tr th:only-of-type {\n",
              "        vertical-align: middle;\n",
              "    }\n",
              "\n",
              "    .dataframe tbody tr th {\n",
              "        vertical-align: top;\n",
              "    }\n",
              "\n",
              "    .dataframe thead th {\n",
              "        text-align: right;\n",
              "    }\n",
              "</style>\n",
              "<table border=\"1\" class=\"dataframe\">\n",
              "  <thead>\n",
              "    <tr style=\"text-align: right;\">\n",
              "      <th></th>\n",
              "      <th>Customer ID</th>\n",
              "      <th>Age</th>\n",
              "      <th>Gender</th>\n",
              "      <th>Total Spent</th>\n",
              "      <th>Converted</th>\n",
              "      <th>Comments</th>\n",
              "      <th>Purchased Category</th>\n",
              "      <th>Stock</th>\n",
              "    </tr>\n",
              "  </thead>\n",
              "  <tbody>\n",
              "    <tr>\n",
              "      <th>0</th>\n",
              "      <td>1</td>\n",
              "      <td>23</td>\n",
              "      <td>F</td>\n",
              "      <td>150</td>\n",
              "      <td>1</td>\n",
              "      <td>Satisfied with the service</td>\n",
              "      <td>Clothing</td>\n",
              "      <td>4</td>\n",
              "    </tr>\n",
              "    <tr>\n",
              "      <th>1</th>\n",
              "      <td>2</td>\n",
              "      <td>35</td>\n",
              "      <td>M</td>\n",
              "      <td>600</td>\n",
              "      <td>1</td>\n",
              "      <td>Needs improvement in delivery</td>\n",
              "      <td>Beauty</td>\n",
              "      <td>86</td>\n",
              "    </tr>\n",
              "    <tr>\n",
              "      <th>2</th>\n",
              "      <td>3</td>\n",
              "      <td>45</td>\n",
              "      <td>F</td>\n",
              "      <td>800</td>\n",
              "      <td>0</td>\n",
              "      <td>Regular customer</td>\n",
              "      <td>Books</td>\n",
              "      <td>24</td>\n",
              "    </tr>\n",
              "    <tr>\n",
              "      <th>3</th>\n",
              "      <td>4</td>\n",
              "      <td>52</td>\n",
              "      <td>M</td>\n",
              "      <td>200</td>\n",
              "      <td>0</td>\n",
              "      <td>Occasional buyer</td>\n",
              "      <td>Beauty</td>\n",
              "      <td>10</td>\n",
              "    </tr>\n",
              "    <tr>\n",
              "      <th>4</th>\n",
              "      <td>5</td>\n",
              "      <td>29</td>\n",
              "      <td>F</td>\n",
              "      <td>300</td>\n",
              "      <td>1</td>\n",
              "      <td>High spender</td>\n",
              "      <td>Books</td>\n",
              "      <td>47</td>\n",
              "    </tr>\n",
              "    <tr>\n",
              "      <th>5</th>\n",
              "      <td>6</td>\n",
              "      <td>41</td>\n",
              "      <td>M</td>\n",
              "      <td>450</td>\n",
              "      <td>0</td>\n",
              "      <td>Average experience</td>\n",
              "      <td>Books</td>\n",
              "      <td>86</td>\n",
              "    </tr>\n",
              "    <tr>\n",
              "      <th>6</th>\n",
              "      <td>7</td>\n",
              "      <td>38</td>\n",
              "      <td>F</td>\n",
              "      <td>670</td>\n",
              "      <td>1</td>\n",
              "      <td>Prefers online shopping</td>\n",
              "      <td>Home Goods</td>\n",
              "      <td>69</td>\n",
              "    </tr>\n",
              "    <tr>\n",
              "      <th>7</th>\n",
              "      <td>8</td>\n",
              "      <td>27</td>\n",
              "      <td>M</td>\n",
              "      <td>120</td>\n",
              "      <td>1</td>\n",
              "      <td>New customer</td>\n",
              "      <td>Home Goods</td>\n",
              "      <td>0</td>\n",
              "    </tr>\n",
              "    <tr>\n",
              "      <th>8</th>\n",
              "      <td>9</td>\n",
              "      <td>50</td>\n",
              "      <td>F</td>\n",
              "      <td>500</td>\n",
              "      <td>0</td>\n",
              "      <td>Loyal to the brand</td>\n",
              "      <td>Electronics</td>\n",
              "      <td>86</td>\n",
              "    </tr>\n",
              "    <tr>\n",
              "      <th>9</th>\n",
              "      <td>10</td>\n",
              "      <td>33</td>\n",
              "      <td>M</td>\n",
              "      <td>750</td>\n",
              "      <td>1</td>\n",
              "      <td>High conversion rate</td>\n",
              "      <td>Clothing</td>\n",
              "      <td>45</td>\n",
              "    </tr>\n",
              "    <tr>\n",
              "      <th>10</th>\n",
              "      <td>11</td>\n",
              "      <td>40</td>\n",
              "      <td>F</td>\n",
              "      <td>610</td>\n",
              "      <td>1</td>\n",
              "      <td>Low engagement</td>\n",
              "      <td>Home Goods</td>\n",
              "      <td>68</td>\n",
              "    </tr>\n",
              "    <tr>\n",
              "      <th>11</th>\n",
              "      <td>12</td>\n",
              "      <td>24</td>\n",
              "      <td>M</td>\n",
              "      <td>290</td>\n",
              "      <td>0</td>\n",
              "      <td>Satisfied with product quality</td>\n",
              "      <td>Home Goods</td>\n",
              "      <td>38</td>\n",
              "    </tr>\n",
              "    <tr>\n",
              "      <th>12</th>\n",
              "      <td>13</td>\n",
              "      <td>48</td>\n",
              "      <td>F</td>\n",
              "      <td>400</td>\n",
              "      <td>1</td>\n",
              "      <td>Frequent shopper</td>\n",
              "      <td>Beauty</td>\n",
              "      <td>0</td>\n",
              "    </tr>\n",
              "    <tr>\n",
              "      <th>13</th>\n",
              "      <td>14</td>\n",
              "      <td>32</td>\n",
              "      <td>M</td>\n",
              "      <td>320</td>\n",
              "      <td>0</td>\n",
              "      <td>Unhappy with returns</td>\n",
              "      <td>Electronics</td>\n",
              "      <td>85</td>\n",
              "    </tr>\n",
              "    <tr>\n",
              "      <th>14</th>\n",
              "      <td>15</td>\n",
              "      <td>36</td>\n",
              "      <td>F</td>\n",
              "      <td>510</td>\n",
              "      <td>1</td>\n",
              "      <td>Enjoys discounts</td>\n",
              "      <td>Electronics</td>\n",
              "      <td>55</td>\n",
              "    </tr>\n",
              "    <tr>\n",
              "      <th>15</th>\n",
              "      <td>16</td>\n",
              "      <td>28</td>\n",
              "      <td>M</td>\n",
              "      <td>350</td>\n",
              "      <td>1</td>\n",
              "      <td>Enjoys the product</td>\n",
              "      <td>Electronics</td>\n",
              "      <td>13</td>\n",
              "    </tr>\n",
              "    <tr>\n",
              "      <th>16</th>\n",
              "      <td>17</td>\n",
              "      <td>42</td>\n",
              "      <td>F</td>\n",
              "      <td>550</td>\n",
              "      <td>0</td>\n",
              "      <td>Needs more information</td>\n",
              "      <td>Books</td>\n",
              "      <td>92</td>\n",
              "    </tr>\n",
              "    <tr>\n",
              "      <th>17</th>\n",
              "      <td>18</td>\n",
              "      <td>35</td>\n",
              "      <td>M</td>\n",
              "      <td>700</td>\n",
              "      <td>1</td>\n",
              "      <td>Satisfied with customer service</td>\n",
              "      <td>Clothing</td>\n",
              "      <td>87</td>\n",
              "    </tr>\n",
              "    <tr>\n",
              "      <th>18</th>\n",
              "      <td>19</td>\n",
              "      <td>50</td>\n",
              "      <td>F</td>\n",
              "      <td>250</td>\n",
              "      <td>0</td>\n",
              "      <td>Not interested</td>\n",
              "      <td>Books</td>\n",
              "      <td>21</td>\n",
              "    </tr>\n",
              "    <tr>\n",
              "      <th>19</th>\n",
              "      <td>20</td>\n",
              "      <td>25</td>\n",
              "      <td>F</td>\n",
              "      <td>400</td>\n",
              "      <td>1</td>\n",
              "      <td>Likes the design</td>\n",
              "      <td>Home Goods</td>\n",
              "      <td>68</td>\n",
              "    </tr>\n",
              "  </tbody>\n",
              "</table>\n",
              "</div>\n",
              "    <div class=\"colab-df-buttons\">\n",
              "\n",
              "  <div class=\"colab-df-container\">\n",
              "    <button class=\"colab-df-convert\" onclick=\"convertToInteractive('df-14a0165e-4d58-44a7-b291-a34a7dfb36e5')\"\n",
              "            title=\"Convert this dataframe to an interactive table.\"\n",
              "            style=\"display:none;\">\n",
              "\n",
              "  <svg xmlns=\"http://www.w3.org/2000/svg\" height=\"24px\" viewBox=\"0 -960 960 960\">\n",
              "    <path d=\"M120-120v-720h720v720H120Zm60-500h600v-160H180v160Zm220 220h160v-160H400v160Zm0 220h160v-160H400v160ZM180-400h160v-160H180v160Zm440 0h160v-160H620v160ZM180-180h160v-160H180v160Zm440 0h160v-160H620v160Z\"/>\n",
              "  </svg>\n",
              "    </button>\n",
              "\n",
              "  <style>\n",
              "    .colab-df-container {\n",
              "      display:flex;\n",
              "      gap: 12px;\n",
              "    }\n",
              "\n",
              "    .colab-df-convert {\n",
              "      background-color: #E8F0FE;\n",
              "      border: none;\n",
              "      border-radius: 50%;\n",
              "      cursor: pointer;\n",
              "      display: none;\n",
              "      fill: #1967D2;\n",
              "      height: 32px;\n",
              "      padding: 0 0 0 0;\n",
              "      width: 32px;\n",
              "    }\n",
              "\n",
              "    .colab-df-convert:hover {\n",
              "      background-color: #E2EBFA;\n",
              "      box-shadow: 0px 1px 2px rgba(60, 64, 67, 0.3), 0px 1px 3px 1px rgba(60, 64, 67, 0.15);\n",
              "      fill: #174EA6;\n",
              "    }\n",
              "\n",
              "    .colab-df-buttons div {\n",
              "      margin-bottom: 4px;\n",
              "    }\n",
              "\n",
              "    [theme=dark] .colab-df-convert {\n",
              "      background-color: #3B4455;\n",
              "      fill: #D2E3FC;\n",
              "    }\n",
              "\n",
              "    [theme=dark] .colab-df-convert:hover {\n",
              "      background-color: #434B5C;\n",
              "      box-shadow: 0px 1px 3px 1px rgba(0, 0, 0, 0.15);\n",
              "      filter: drop-shadow(0px 1px 2px rgba(0, 0, 0, 0.3));\n",
              "      fill: #FFFFFF;\n",
              "    }\n",
              "  </style>\n",
              "\n",
              "    <script>\n",
              "      const buttonEl =\n",
              "        document.querySelector('#df-14a0165e-4d58-44a7-b291-a34a7dfb36e5 button.colab-df-convert');\n",
              "      buttonEl.style.display =\n",
              "        google.colab.kernel.accessAllowed ? 'block' : 'none';\n",
              "\n",
              "      async function convertToInteractive(key) {\n",
              "        const element = document.querySelector('#df-14a0165e-4d58-44a7-b291-a34a7dfb36e5');\n",
              "        const dataTable =\n",
              "          await google.colab.kernel.invokeFunction('convertToInteractive',\n",
              "                                                    [key], {});\n",
              "        if (!dataTable) return;\n",
              "\n",
              "        const docLinkHtml = 'Like what you see? Visit the ' +\n",
              "          '<a target=\"_blank\" href=https://colab.research.google.com/notebooks/data_table.ipynb>data table notebook</a>'\n",
              "          + ' to learn more about interactive tables.';\n",
              "        element.innerHTML = '';\n",
              "        dataTable['output_type'] = 'display_data';\n",
              "        await google.colab.output.renderOutput(dataTable, element);\n",
              "        const docLink = document.createElement('div');\n",
              "        docLink.innerHTML = docLinkHtml;\n",
              "        element.appendChild(docLink);\n",
              "      }\n",
              "    </script>\n",
              "  </div>\n",
              "\n",
              "\n",
              "<div id=\"df-4f1b5432-dda6-4956-a4e8-1de40df45fb8\">\n",
              "  <button class=\"colab-df-quickchart\" onclick=\"quickchart('df-4f1b5432-dda6-4956-a4e8-1de40df45fb8')\"\n",
              "            title=\"Suggest charts\"\n",
              "            style=\"display:none;\">\n",
              "\n",
              "<svg xmlns=\"http://www.w3.org/2000/svg\" height=\"24px\"viewBox=\"0 0 24 24\"\n",
              "     width=\"24px\">\n",
              "    <g>\n",
              "        <path d=\"M19 3H5c-1.1 0-2 .9-2 2v14c0 1.1.9 2 2 2h14c1.1 0 2-.9 2-2V5c0-1.1-.9-2-2-2zM9 17H7v-7h2v7zm4 0h-2V7h2v10zm4 0h-2v-4h2v4z\"/>\n",
              "    </g>\n",
              "</svg>\n",
              "  </button>\n",
              "\n",
              "<style>\n",
              "  .colab-df-quickchart {\n",
              "      --bg-color: #E8F0FE;\n",
              "      --fill-color: #1967D2;\n",
              "      --hover-bg-color: #E2EBFA;\n",
              "      --hover-fill-color: #174EA6;\n",
              "      --disabled-fill-color: #AAA;\n",
              "      --disabled-bg-color: #DDD;\n",
              "  }\n",
              "\n",
              "  [theme=dark] .colab-df-quickchart {\n",
              "      --bg-color: #3B4455;\n",
              "      --fill-color: #D2E3FC;\n",
              "      --hover-bg-color: #434B5C;\n",
              "      --hover-fill-color: #FFFFFF;\n",
              "      --disabled-bg-color: #3B4455;\n",
              "      --disabled-fill-color: #666;\n",
              "  }\n",
              "\n",
              "  .colab-df-quickchart {\n",
              "    background-color: var(--bg-color);\n",
              "    border: none;\n",
              "    border-radius: 50%;\n",
              "    cursor: pointer;\n",
              "    display: none;\n",
              "    fill: var(--fill-color);\n",
              "    height: 32px;\n",
              "    padding: 0;\n",
              "    width: 32px;\n",
              "  }\n",
              "\n",
              "  .colab-df-quickchart:hover {\n",
              "    background-color: var(--hover-bg-color);\n",
              "    box-shadow: 0 1px 2px rgba(60, 64, 67, 0.3), 0 1px 3px 1px rgba(60, 64, 67, 0.15);\n",
              "    fill: var(--button-hover-fill-color);\n",
              "  }\n",
              "\n",
              "  .colab-df-quickchart-complete:disabled,\n",
              "  .colab-df-quickchart-complete:disabled:hover {\n",
              "    background-color: var(--disabled-bg-color);\n",
              "    fill: var(--disabled-fill-color);\n",
              "    box-shadow: none;\n",
              "  }\n",
              "\n",
              "  .colab-df-spinner {\n",
              "    border: 2px solid var(--fill-color);\n",
              "    border-color: transparent;\n",
              "    border-bottom-color: var(--fill-color);\n",
              "    animation:\n",
              "      spin 1s steps(1) infinite;\n",
              "  }\n",
              "\n",
              "  @keyframes spin {\n",
              "    0% {\n",
              "      border-color: transparent;\n",
              "      border-bottom-color: var(--fill-color);\n",
              "      border-left-color: var(--fill-color);\n",
              "    }\n",
              "    20% {\n",
              "      border-color: transparent;\n",
              "      border-left-color: var(--fill-color);\n",
              "      border-top-color: var(--fill-color);\n",
              "    }\n",
              "    30% {\n",
              "      border-color: transparent;\n",
              "      border-left-color: var(--fill-color);\n",
              "      border-top-color: var(--fill-color);\n",
              "      border-right-color: var(--fill-color);\n",
              "    }\n",
              "    40% {\n",
              "      border-color: transparent;\n",
              "      border-right-color: var(--fill-color);\n",
              "      border-top-color: var(--fill-color);\n",
              "    }\n",
              "    60% {\n",
              "      border-color: transparent;\n",
              "      border-right-color: var(--fill-color);\n",
              "    }\n",
              "    80% {\n",
              "      border-color: transparent;\n",
              "      border-right-color: var(--fill-color);\n",
              "      border-bottom-color: var(--fill-color);\n",
              "    }\n",
              "    90% {\n",
              "      border-color: transparent;\n",
              "      border-bottom-color: var(--fill-color);\n",
              "    }\n",
              "  }\n",
              "</style>\n",
              "\n",
              "  <script>\n",
              "    async function quickchart(key) {\n",
              "      const quickchartButtonEl =\n",
              "        document.querySelector('#' + key + ' button');\n",
              "      quickchartButtonEl.disabled = true;  // To prevent multiple clicks.\n",
              "      quickchartButtonEl.classList.add('colab-df-spinner');\n",
              "      try {\n",
              "        const charts = await google.colab.kernel.invokeFunction(\n",
              "            'suggestCharts', [key], {});\n",
              "      } catch (error) {\n",
              "        console.error('Error during call to suggestCharts:', error);\n",
              "      }\n",
              "      quickchartButtonEl.classList.remove('colab-df-spinner');\n",
              "      quickchartButtonEl.classList.add('colab-df-quickchart-complete');\n",
              "    }\n",
              "    (() => {\n",
              "      let quickchartButtonEl =\n",
              "        document.querySelector('#df-4f1b5432-dda6-4956-a4e8-1de40df45fb8 button');\n",
              "      quickchartButtonEl.style.display =\n",
              "        google.colab.kernel.accessAllowed ? 'block' : 'none';\n",
              "    })();\n",
              "  </script>\n",
              "</div>\n",
              "\n",
              "    </div>\n",
              "  </div>\n"
            ],
            "application/vnd.google.colaboratory.intrinsic+json": {
              "type": "dataframe",
              "variable_name": "df",
              "summary": "{\n  \"name\": \"df\",\n  \"rows\": 20,\n  \"fields\": [\n    {\n      \"column\": \"Customer ID\",\n      \"properties\": {\n        \"dtype\": \"number\",\n        \"std\": 5,\n        \"min\": 1,\n        \"max\": 20,\n        \"num_unique_values\": 20,\n        \"samples\": [\n          1,\n          18,\n          16\n        ],\n        \"semantic_type\": \"\",\n        \"description\": \"\"\n      }\n    },\n    {\n      \"column\": \"Age\",\n      \"properties\": {\n        \"dtype\": \"number\",\n        \"std\": 9,\n        \"min\": 23,\n        \"max\": 52,\n        \"num_unique_values\": 18,\n        \"samples\": [\n          23,\n          35,\n          50\n        ],\n        \"semantic_type\": \"\",\n        \"description\": \"\"\n      }\n    },\n    {\n      \"column\": \"Gender\",\n      \"properties\": {\n        \"dtype\": \"category\",\n        \"num_unique_values\": 2,\n        \"samples\": [\n          \"M\",\n          \"F\"\n        ],\n        \"semantic_type\": \"\",\n        \"description\": \"\"\n      }\n    },\n    {\n      \"column\": \"Total Spent\",\n      \"properties\": {\n        \"dtype\": \"number\",\n        \"std\": 201,\n        \"min\": 120,\n        \"max\": 800,\n        \"num_unique_values\": 19,\n        \"samples\": [\n          150,\n          450\n        ],\n        \"semantic_type\": \"\",\n        \"description\": \"\"\n      }\n    },\n    {\n      \"column\": \"Converted\",\n      \"properties\": {\n        \"dtype\": \"number\",\n        \"std\": 0,\n        \"min\": 0,\n        \"max\": 1,\n        \"num_unique_values\": 2,\n        \"samples\": [\n          0,\n          1\n        ],\n        \"semantic_type\": \"\",\n        \"description\": \"\"\n      }\n    },\n    {\n      \"column\": \"Comments\",\n      \"properties\": {\n        \"dtype\": \"string\",\n        \"num_unique_values\": 20,\n        \"samples\": [\n          \"Satisfied with the service\",\n          \"Satisfied with customer service\"\n        ],\n        \"semantic_type\": \"\",\n        \"description\": \"\"\n      }\n    },\n    {\n      \"column\": \"Purchased Category\",\n      \"properties\": {\n        \"dtype\": \"category\",\n        \"num_unique_values\": 5,\n        \"samples\": [\n          \"Beauty\",\n          \"Electronics\"\n        ],\n        \"semantic_type\": \"\",\n        \"description\": \"\"\n      }\n    },\n    {\n      \"column\": \"Stock\",\n      \"properties\": {\n        \"dtype\": \"number\",\n        \"std\": 33,\n        \"min\": 0,\n        \"max\": 92,\n        \"num_unique_values\": 16,\n        \"samples\": [\n          4,\n          86\n        ],\n        \"semantic_type\": \"\",\n        \"description\": \"\"\n      }\n    }\n  ]\n}"
            }
          },
          "metadata": {},
          "execution_count": 5
        }
      ]
    },
    {
      "cell_type": "code",
      "source": [
        "isolation_forest = IsolationForest(contamination=0.05, random_state=42)\n",
        "df['Anomaly'] = isolation_forest.fit_predict(df[['Total Spent', 'Age']])\n",
        "\n",
        "\n",
        "anomalies = df[df['Anomaly'] == -1]\n",
        "print(anomalies[['Customer ID', 'Age', 'Total Spent']])"
      ],
      "metadata": {
        "colab": {
          "base_uri": "https://localhost:8080/"
        },
        "id": "lf5RXZJnVMdR",
        "outputId": "13462265-8170-4e52-90e4-8fa0b385fc05"
      },
      "execution_count": 7,
      "outputs": [
        {
          "output_type": "stream",
          "name": "stdout",
          "text": [
            "   Customer ID  Age  Total Spent\n",
            "3            4   52          200\n"
          ]
        }
      ]
    },
    {
      "cell_type": "code",
      "source": [
        "isolation_forest = IsolationForest(contamination=0.05, random_state=42)\n",
        "df['Anomaly'] = isolation_forest.fit_predict(df[['Age', 'Total Spent']])\n",
        "\n",
        "\n",
        "anomalies = df[df['Anomaly'] == -1]\n",
        "print(anomalies)"
      ],
      "metadata": {
        "colab": {
          "base_uri": "https://localhost:8080/"
        },
        "id": "E1BBj7GBVrpl",
        "outputId": "c710e89b-e1d3-4815-8feb-9a480d7fd56b"
      },
      "execution_count": 8,
      "outputs": [
        {
          "output_type": "stream",
          "name": "stdout",
          "text": [
            "   Customer ID  Age Gender  Total Spent  ...          Comments Purchased Category Stock  Anomaly\n",
            "2            3   45      F          800  ...  Regular customer              Books    24       -1\n",
            "\n",
            "[1 rows x 9 columns]\n"
          ]
        }
      ]
    },
    {
      "cell_type": "code",
      "source": [
        "import matplotlib.pyplot as plt\n",
        "\n",
        "plt.figure(figsize=(8,6))\n",
        "plt.scatter(df['Age'], df['Total Spent'], c=df['Anomaly'], cmap='coolwarm', edgecolors='k')\n",
        "plt.title('Isolation Forest - Anomaly Detection')\n",
        "plt.xlabel('Age')\n",
        "plt.ylabel('Total Spent')\n",
        "plt.show()"
      ],
      "metadata": {
        "colab": {
          "base_uri": "https://localhost:8080/",
          "height": 564
        },
        "id": "uVjnIOe3WBQL",
        "outputId": "3c8157e5-bd09-4ec1-c8b3-cd4561a41d29"
      },
      "execution_count": 9,
      "outputs": [
        {
          "output_type": "display_data",
          "data": {
            "text/plain": [
              "<Figure size 800x600 with 1 Axes>"
            ],
            "image/png": "[encoded data removed]"
          },
          "metadata": {}
        }
      ]
    },
    {
      "cell_type": "code",
      "source": [
        "import matplotlib.pyplot as plt\n",
        "\n",
        "plt.figure(figsize=(8,6))\n",
        "plt.scatter(df['Age'], df['Total Spent'], c=df['Anomaly'], cmap='winter', edgecolors='face')\n",
        "plt.title('Isolation Forest - Anomaly Detection')\n",
        "plt.xlabel('Age')\n",
        "plt.ylabel('Total Spent')\n",
        "plt.show()"
      ],
      "metadata": {
        "colab": {
          "base_uri": "https://localhost:8080/",
          "height": 564
        },
        "id": "JlwWKl-pWu-5",
        "outputId": "05a0bb77-fe8e-48d3-9549-5420fc70ee8c"
      },
      "execution_count": 15,
      "outputs": [
        {
          "output_type": "display_data",
          "data": {
            "text/plain": [
              "<Figure size 800x600 with 1 Axes>"
            ],
            "image/png": "[encoded data removed]"
          },
          "metadata": {}
        }
      ]
    },
    {
      "cell_type": "code",
      "source": [
        "category_anomalies = anomalies.groupby('Purchased Category')['Customer ID'].count()\n",
        "print(category_anomalies)"
      ],
      "metadata": {
        "colab": {
          "base_uri": "https://localhost:8080/"
        },
        "id": "rAX0t6hfXuFW",
        "outputId": "f2a4381e-c33a-4227-f558-97073297b0ea"
      },
      "execution_count": 16,
      "outputs": [
        {
          "output_type": "stream",
          "name": "stdout",
          "text": [
            "Purchased Category\n",
            "Books    1\n",
            "Name: Customer ID, dtype: int64\n"
          ]
        }
      ]
    },
    {
      "cell_type": "code",
      "source": [
        "anomaly_percentage = len(anomalies) / len(df) * 100\n",
        "print(f'Percentage of anomalies: {anomaly_percentage:.2f}%')"
      ],
      "metadata": {
        "colab": {
          "base_uri": "https://localhost:8080/"
        },
        "id": "UdqFYxZ-X54v",
        "outputId": "dc9f9bff-e439-4efd-a25a-b5b6b4e50adf"
      },
      "execution_count": 17,
      "outputs": [
        {
          "output_type": "stream",
          "name": "stdout",
          "text": [
            "Percentage of anomalies: 5.00%\n"
          ]
        }
      ]
    },
    {
      "cell_type": "code",
      "source": [
        "anomalies['Age_Group'] = pd.cut(anomalies['Age'], bins=[18, 25, 35, 45, 55], labels=['18-25', '26-35', '36-45', '46-55'])\n",
        "age_group_counts = anomalies['Age_Group'].value_counts()\n",
        "print(age_group_counts)"
      ],
      "metadata": {
        "colab": {
          "base_uri": "https://localhost:8080/"
        },
        "id": "0vecY4oxYHY8",
        "outputId": "eb81b1a8-0b12-469b-ac58-70e4e33eeee6"
      },
      "execution_count": 18,
      "outputs": [
        {
          "output_type": "stream",
          "name": "stdout",
          "text": [
            "Age_Group\n",
            "36-45    1\n",
            "18-25    0\n",
            "26-35    0\n",
            "46-55    0\n",
            "Name: count, dtype: int64\n"
          ]
        },
        {
          "output_type": "stream",
          "name": "stderr",
          "text": [
            "<ipython-input-18-c42bb3deb46f>:1: SettingWithCopyWarning: \n",
            "A value is trying to be set on a copy of a slice from a DataFrame.\n",
            "Try using .loc[row_indexer,col_indexer] = value instead\n",
            "\n",
            "See the caveats in the documentation: https://pandas.pydata.org/pandas-docs/stable/user_guide/indexing.html#returning-a-view-versus-a-copy\n",
            "  anomalies['Age_Group'] = pd.cut(anomalies['Age'], bins=[18, 25, 35, 45, 55], labels=['18-25', '26-35', '36-45', '46-55'])\n"
          ]
        }
      ]
    },
    {
      "cell_type": "code",
      "source": [
        "import seaborn as sns\n",
        "\n",
        "\n",
        "sns.heatmap(df[['Age', 'Total Spent', 'Stock', 'Anomaly']].corr())\n",
        "plt.title('Feature Correlation with Anomalies')\n",
        "plt.show()"
      ],
      "metadata": {
        "colab": {
          "base_uri": "https://localhost:8080/",
          "height": 452
        },
        "id": "jN8wuN3UYoA8",
        "outputId": "99f95859-af2c-41fe-f519-996c4116cdf8"
      },
      "execution_count": 19,
      "outputs": [
        {
          "output_type": "display_data",
          "data": {
            "text/plain": [
              "<Figure size 640x480 with 2 Axes>"
            ],
            "image/png": "[encoded data removed]"
          },
          "metadata": {}
        }
      ]
    },
    {
      "cell_type": "code",
      "source": [
        "contaminations = [0.05, 0.1, 0.2]\n",
        "for cont in contaminations:\n",
        "    isolation_forest = IsolationForest(contamination=cont, random_state=42)\n",
        "    df['Anomaly'] = isolation_forest.fit_predict(df[['Total Spent', 'Age']])\n",
        "    print(f'Contamination: {cont}, Anomalies Detected: {sum(df[\"Anomaly\"] == -1)}')"
      ],
      "metadata": {
        "colab": {
          "base_uri": "https://localhost:8080/"
        },
        "id": "wJwPD7RVY6Zg",
        "outputId": "31191a46-f616-4c5c-b068-f450baf0f639"
      },
      "execution_count": 20,
      "outputs": [
        {
          "output_type": "stream",
          "name": "stdout",
          "text": [
            "Contamination: 0.05, Anomalies Detected: 1\n",
            "Contamination: 0.1, Anomalies Detected: 2\n",
            "Contamination: 0.2, Anomalies Detected: 4\n"
          ]
        }
      ]
    },
    {
      "cell_type": "code",
      "source": [
        "df['Anomaly_Label'] = df['Anomaly'].apply(lambda x: 'High Risk' if x == -1 else 'Normal')\n",
        "print(df[['Customer ID', 'Anomaly_Label']].head())"
      ],
      "metadata": {
        "colab": {
          "base_uri": "https://localhost:8080/"
        },
        "id": "RwvGjr_wZmYm",
        "outputId": "d4e78928-89cd-4eb7-e95c-9f5794c2a3b4"
      },
      "execution_count": 21,
      "outputs": [
        {
          "output_type": "stream",
          "name": "stdout",
          "text": [
            "   Customer ID Anomaly_Label\n",
            "0            1     High Risk\n",
            "1            2        Normal\n",
            "2            3     High Risk\n",
            "3            4     High Risk\n",
            "4            5        Normal\n"
          ]
        }
      ]
    },
    {
      "cell_type": "code",
      "source": [
        "from scipy.stats import ttest_ind\n",
        "\n",
        "anomalous_spending = df[df['Anomaly'] == -1]['Total Spent']\n",
        "normal_spending = df[df['Anomaly'] == 1]['Total Spent']\n",
        "t_stat, p_value = ttest_ind(anomalous_spending, normal_spending)\n",
        "\n",
        "print(f'T-statistic: {t_stat}, p_value: {p_value}')"
      ],
      "metadata": {
        "colab": {
          "base_uri": "https://localhost:8080/"
        },
        "id": "rqhfGWGHZ7Z3",
        "outputId": "44a0f655-2c8e-4c18-da33-b6001b58f3f8"
      },
      "execution_count": 22,
      "outputs": [
        {
          "output_type": "stream",
          "name": "stdout",
          "text": [
            "T-statistic: -1.4717184640210486, p_value: 0.15836516643283502\n"
          ]
        }
      ]
    },
    {
      "cell_type": "code",
      "source": [
        "top_anomalous_spender = anomalies.loc[anomalies['Total Spent'].idxmax()]\n",
        "print(top_anomalous_spender)"
      ],
      "metadata": {
        "colab": {
          "base_uri": "https://localhost:8080/"
        },
        "id": "opd34nanarRy",
        "outputId": "1a530b81-8d48-47ef-9ea4-98e2481e0cb5"
      },
      "execution_count": 23,
      "outputs": [
        {
          "output_type": "stream",
          "name": "stdout",
          "text": [
            "Customer ID                          3\n",
            "Age                                 45\n",
            "Gender                               F\n",
            "Total Spent                        800\n",
            "Converted                            0\n",
            "Comments              Regular customer\n",
            "Purchased Category               Books\n",
            "Stock                               24\n",
            "Anomaly                             -1\n",
            "Age_Group                        36-45\n",
            "Name: 2, dtype: object\n"
          ]
        }
      ]
    },
    {
      "cell_type": "code",
      "source": [
        "anomalous_comments = anomalies[['Customer ID', 'Comments']]\n",
        "print(anomalous_comments)"
      ],
      "metadata": {
        "colab": {
          "base_uri": "https://localhost:8080/"
        },
        "id": "me7AFpmXa5je",
        "outputId": "c114392b-c8bc-4168-a487-166456ec0d0f"
      },
      "execution_count": 24,
      "outputs": [
        {
          "output_type": "stream",
          "name": "stdout",
          "text": [
            "   Customer ID          Comments\n",
            "2            3  Regular customer\n"
          ]
        }
      ]
    },
    {
      "cell_type": "code",
      "source": [
        "from sklearn.preprocessing import StandardScaler\n",
        "\n",
        "scaler = StandardScaler()\n",
        "df[['Scaled_Total_Spent', 'Scaled_Age']] = scaler.fit_transform(df[['Total Spent', 'Age']])\n",
        "\n",
        "\n",
        "isolation_forest = IsolationForest(contamination=0.1, random_state=42)\n",
        "df['Anomaly'] = isolation_forest.fit_predict(df[['Scaled_Total_Spent', 'Scaled_Age']])\n",
        "\n",
        "anomalies = df[df['Anomaly'] == -1]\n",
        "print(\"Anomalous Data Points:\")\n",
        "print(anomalies[['Customer ID', 'Age', 'Total Spent', 'Scaled_Total_Spent', 'Scaled_Age']])"
      ],
      "metadata": {
        "colab": {
          "base_uri": "https://localhost:8080/"
        },
        "id": "tk9ed04TbDZa",
        "outputId": "af738ed7-737a-4fbb-dbaa-5998ded29daa"
      },
      "execution_count": 31,
      "outputs": [
        {
          "output_type": "stream",
          "name": "stdout",
          "text": [
            "Anomalous Data Points:\n",
            "   Customer ID  Age  Total Spent  Scaled_Total_Spent  Scaled_Age\n",
            "2            3   45          800            1.805699    0.933398\n",
            "3            4   52          200           -1.254808    1.715887\n"
          ]
        }
      ]
    },
    {
      "cell_type": "code",
      "source": [
        "from sklearn.preprocessing import StandardScaler\n",
        "\n",
        "scaler = StandardScaler()\n",
        "df[['Scaled_Total_Spent', 'Scaled_Age']] = scaler.fit_transform(df[['Total Spent', 'Age']])\n",
        "\n",
        "\n",
        "isolation_forest = IsolationForest(contamination=0.1, random_state=42)\n",
        "df['Anomaly'] = isolation_forest.fit_predict(df[['Scaled_Total_Spent', 'Scaled_Age']])\n",
        "\n",
        "normal_points = df[df['Anomaly'] == 1]\n",
        "print(\"\\nNormal Data Points:\")\n",
        "print(normal_points[['Customer ID', 'Age', 'Total Spent', 'Scaled_Total_Spent', 'Scaled_Age']])"
      ],
      "metadata": {
        "colab": {
          "base_uri": "https://localhost:8080/"
        },
        "id": "gEDKzkNVdgN5",
        "outputId": "2c34dc18-e273-43d6-c329-92302f809c90"
      },
      "execution_count": 32,
      "outputs": [
        {
          "output_type": "stream",
          "name": "stdout",
          "text": [
            "\n",
            "Normal Data Points:\n",
            "    Customer ID  Age  Total Spent  Scaled_Total_Spent  Scaled_Age\n",
            "0             1   23          150           -1.509850   -1.525854\n",
            "1             2   35          600            0.785530   -0.184444\n",
            "4             5   29          300           -0.744724   -0.855149\n",
            "5             6   41          450            0.020403    0.486261\n",
            "6             7   38          670            1.142589    0.150909\n",
            "7             8   27          120           -1.662876   -1.078717\n",
            "8             9   50          500            0.275446    1.492319\n",
            "9            10   33          750            1.550657   -0.408012\n",
            "10           11   40          610            0.836539    0.374477\n",
            "11           12   24          290           -0.795732   -1.414070\n",
            "12           13   48          400           -0.234639    1.268751\n",
            "13           14   32          320           -0.642707   -0.519796\n",
            "14           15   36          510            0.326454   -0.072660\n",
            "15           16   28          350           -0.489681   -0.966933\n",
            "16           17   42          550            0.530488    0.598045\n",
            "17           18   35          700            1.295615   -0.184444\n",
            "18           19   50          250           -0.999766    1.492319\n",
            "19           20   25          400           -0.234639   -1.302286\n"
          ]
        }
      ]
    },
    {
      "cell_type": "code",
      "source": [
        "from sklearn.preprocessing import StandardScaler\n",
        "\n",
        "scaler = StandardScaler()\n",
        "df[['Scaled_Total_Spent', 'Scaled_Age']] = scaler.fit_transform(df[['Total Spent', 'Age']])\n",
        "\n",
        "\n",
        "isolation_forest = IsolationForest(contamination=0.1, random_state=42)\n",
        "df['Anomaly'] = isolation_forest.fit_predict(df[['Scaled_Total_Spent', 'Scaled_Age']])\n",
        "\n",
        "num_anomalies = len(anomalies)\n",
        "num_total = len(df)\n",
        "print(f\"Number of Anomalies: {num_anomalies}\")\n",
        "print(f\"Total Number of Obversations: {num_total}\")\n",
        "print(f\"Percentage of Anomalies: {num_anomalies / num_total * 100:.2f}%\")"
      ],
      "metadata": {
        "colab": {
          "base_uri": "https://localhost:8080/"
        },
        "id": "IfrCIId9dzr3",
        "outputId": "3a86d28a-cab4-423d-e40f-6880b4a4723b"
      },
      "execution_count": 33,
      "outputs": [
        {
          "output_type": "stream",
          "name": "stdout",
          "text": [
            "Number of Anomalies: 2\n",
            "Total Number of Obversations: 20\n",
            "Percentage of Anomalies: 10.00%\n"
          ]
        }
      ]
    },
    {
      "cell_type": "code",
      "source": [
        "from sklearn.decomposition import PCA\n",
        "\n",
        "pca = PCA(n_components=2)\n",
        "pca_results = pca.fit_transform(df[['Total Spent', 'Age', 'Stock']])\n",
        "\n",
        "\n",
        "plt.figure(figsize=(8, 6))\n",
        "plt.scatter(pca_results[:, 0], pca_results[:, 1], c=df['Anomaly'], cmap='viridis', edgecolor='k')\n",
        "plt.title('PCA with Isolation Forest Anomalies')\n",
        "plt.xlabel('PCA Component 1')\n",
        "plt.ylabel('PCA Component 2')\n",
        "plt.show()"
      ],
      "metadata": {
        "colab": {
          "base_uri": "https://localhost:8080/",
          "height": 564
        },
        "id": "yrz2SlSCbpCH",
        "outputId": "32d68061-3af9-4340-fa46-de88ec726fe2"
      },
      "execution_count": 28,
      "outputs": [
        {
          "output_type": "display_data",
          "data": {
            "text/plain": [
              "<Figure size 800x600 with 1 Axes>"
            ],
            "image/png": "[encoded data removed]"
          },
          "metadata": {}
        }
      ]
    }
  ]
}