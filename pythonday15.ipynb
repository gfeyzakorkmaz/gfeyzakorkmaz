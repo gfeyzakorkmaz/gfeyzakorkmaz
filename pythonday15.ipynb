{
  "nbformat": 4,
  "nbformat_minor": 0,
  "metadata": {
    "colab": {
      "provenance": [],
      "authorship_tag": "ABX9TyNzwg6kvUw4oGOA9S/mPlvq",
      "include_colab_link": true
    },
    "kernelspec": {
      "name": "python3",
      "display_name": "Python 3"
    },
    "language_info": {
      "name": "python"
    }
  },
  "cells": [
    {
      "cell_type": "markdown",
      "metadata": {
        "id": "view-in-github",
        "colab_type": "text"
      },
      "source": [
        "<a href=\"https://colab.research.google.com/github/gfeyzakorkmaz/gfeyzakorkmaz/blob/main/pythonday15.ipynb\" target=\"_parent\"><img src=\"https://colab.research.google.com/assets/colab-badge.svg\" alt=\"Open In Colab\"/></a>"
      ]
    },
    {
      "cell_type": "code",
      "execution_count": 9,
      "metadata": {
        "id": "gr-oztsUC058"
      },
      "outputs": [],
      "source": [
        "import pandas as pd\n",
        "import matplotlib.pyplot as plt\n",
        "import seaborn as sns\n",
        "import numpy as np\n",
        "import spacy\n",
        "path = '/content/drive/MyDrive/Dataset/extended_marketing_data.xlsx'\n",
        "df = pd.read_excel(path)"
      ]
    },
    {
      "cell_type": "code",
      "source": [
        "nlp = spacy.load('en_core_web_sm')\n",
        "\n",
        "comments = df['Comments']\n",
        "\n",
        "for comment in comments:\n",
        "  doc = nlp(comment)\n",
        "  tokens = [token.text for token in doc]\n",
        "  print(f\"Original: {comment}\")\n",
        "  print(f\"Tokens: {tokens}\\n\")"
      ],
      "metadata": {
        "colab": {
          "base_uri": "https://localhost:8080/"
        },
        "id": "fA4hysbDGPhR",
        "outputId": "02355f90-2204-489f-9598-2ecf5d02c47d"
      },
      "execution_count": 10,
      "outputs": [
        {
          "output_type": "stream",
          "name": "stdout",
          "text": [
            "Original: Satisfied with the service\n",
            "Tokens: ['Satisfied', 'with', 'the', 'service']\n",
            "\n",
            "Original: Needs improvement in delivery\n",
            "Tokens: ['Needs', 'improvement', 'in', 'delivery']\n",
            "\n",
            "Original: Regular customer\n",
            "Tokens: ['Regular', 'customer']\n",
            "\n",
            "Original: Occasional buyer\n",
            "Tokens: ['Occasional', 'buyer']\n",
            "\n",
            "Original: High spender\n",
            "Tokens: ['High', 'spender']\n",
            "\n",
            "Original: Average experience\n",
            "Tokens: ['Average', 'experience']\n",
            "\n",
            "Original: Prefers online shopping\n",
            "Tokens: ['Prefers', 'online', 'shopping']\n",
            "\n",
            "Original: New customer\n",
            "Tokens: ['New', 'customer']\n",
            "\n",
            "Original: Loyal to the brand\n",
            "Tokens: ['Loyal', 'to', 'the', 'brand']\n",
            "\n",
            "Original: High conversion rate\n",
            "Tokens: ['High', 'conversion', 'rate']\n",
            "\n",
            "Original: Low engagement\n",
            "Tokens: ['Low', 'engagement']\n",
            "\n",
            "Original: Satisfied with product quality\n",
            "Tokens: ['Satisfied', 'with', 'product', 'quality']\n",
            "\n",
            "Original: Frequent shopper\n",
            "Tokens: ['Frequent', 'shopper']\n",
            "\n",
            "Original: Unhappy with returns\n",
            "Tokens: ['Unhappy', 'with', 'returns']\n",
            "\n",
            "Original: Enjoys discounts\n",
            "Tokens: ['Enjoys', 'discounts']\n",
            "\n"
          ]
        }
      ]
    },
    {
      "cell_type": "code",
      "source": [
        "for comment in comments:\n",
        "  doc = nlp(comment)\n",
        "  print(f\"Original: {comment}\")\n",
        "  for ent in doc.ents:\n",
        "    print(f\"Entity: {ent.text}, Label: {ent.label_}\")\n",
        "    print(\"\\n\")"
      ],
      "metadata": {
        "colab": {
          "base_uri": "https://localhost:8080/"
        },
        "id": "fwf0A9KDHc1E",
        "outputId": "5d941042-eb9e-4610-b685-63221e056844"
      },
      "execution_count": 11,
      "outputs": [
        {
          "output_type": "stream",
          "name": "stdout",
          "text": [
            "Original: Satisfied with the service\n",
            "Original: Needs improvement in delivery\n",
            "Original: Regular customer\n",
            "Original: Occasional buyer\n",
            "Original: High spender\n",
            "Original: Average experience\n",
            "Original: Prefers online shopping\n",
            "Original: New customer\n",
            "Original: Loyal to the brand\n",
            "Original: High conversion rate\n",
            "Original: Low engagement\n",
            "Original: Satisfied with product quality\n",
            "Original: Frequent shopper\n",
            "Original: Unhappy with returns\n",
            "Original: Enjoys discounts\n"
          ]
        }
      ]
    },
    {
      "cell_type": "code",
      "source": [
        "for comment in comments:\n",
        "  doc = nlp(comment)\n",
        "  print(f\"Original: {comment}\")\n",
        "  pos_tags = [(token.text, token.pos_) for token in doc]\n",
        "  print(f\"POS Tags: {pos_tags}\")"
      ],
      "metadata": {
        "colab": {
          "base_uri": "https://localhost:8080/"
        },
        "id": "P71DxaPgH3J3",
        "outputId": "77051806-a7bf-4969-cb49-e8ef97c950a6"
      },
      "execution_count": 12,
      "outputs": [
        {
          "output_type": "stream",
          "name": "stdout",
          "text": [
            "Original: Satisfied with the service\n",
            "POS Tags: [('Satisfied', 'VERB'), ('with', 'ADP'), ('the', 'DET'), ('service', 'NOUN')]\n",
            "Original: Needs improvement in delivery\n",
            "POS Tags: [('Needs', 'VERB'), ('improvement', 'NOUN'), ('in', 'ADP'), ('delivery', 'NOUN')]\n",
            "Original: Regular customer\n",
            "POS Tags: [('Regular', 'ADJ'), ('customer', 'NOUN')]\n",
            "Original: Occasional buyer\n",
            "POS Tags: [('Occasional', 'ADJ'), ('buyer', 'NOUN')]\n",
            "Original: High spender\n",
            "POS Tags: [('High', 'ADJ'), ('spender', 'NOUN')]\n",
            "Original: Average experience\n",
            "POS Tags: [('Average', 'ADJ'), ('experience', 'NOUN')]\n",
            "Original: Prefers online shopping\n",
            "POS Tags: [('Prefers', 'NOUN'), ('online', 'ADJ'), ('shopping', 'NOUN')]\n",
            "Original: New customer\n",
            "POS Tags: [('New', 'ADJ'), ('customer', 'NOUN')]\n",
            "Original: Loyal to the brand\n",
            "POS Tags: [('Loyal', 'ADJ'), ('to', 'ADP'), ('the', 'DET'), ('brand', 'NOUN')]\n",
            "Original: High conversion rate\n",
            "POS Tags: [('High', 'ADJ'), ('conversion', 'NOUN'), ('rate', 'NOUN')]\n",
            "Original: Low engagement\n",
            "POS Tags: [('Low', 'ADJ'), ('engagement', 'NOUN')]\n",
            "Original: Satisfied with product quality\n",
            "POS Tags: [('Satisfied', 'VERB'), ('with', 'ADP'), ('product', 'NOUN'), ('quality', 'NOUN')]\n",
            "Original: Frequent shopper\n",
            "POS Tags: [('Frequent', 'ADJ'), ('shopper', 'NOUN')]\n",
            "Original: Unhappy with returns\n",
            "POS Tags: [('Unhappy', 'ADJ'), ('with', 'ADP'), ('returns', 'NOUN')]\n",
            "Original: Enjoys discounts\n",
            "POS Tags: [('Enjoys', 'VERB'), ('discounts', 'NOUN')]\n"
          ]
        }
      ]
    },
    {
      "cell_type": "code",
      "source": [
        "for comment in comments:\n",
        "  doc = nlp(comment)\n",
        "  lemmas = [token.lemma_ for token in doc]\n",
        "  print(f\"Original: {comment}\")\n",
        "  print(f\"Lemmas: {lemmas}\\n\")"
      ],
      "metadata": {
        "colab": {
          "base_uri": "https://localhost:8080/"
        },
        "id": "yd7dOq8XISul",
        "outputId": "1aa4b195-f1c3-48d4-9919-d3931a5a8e00"
      },
      "execution_count": 13,
      "outputs": [
        {
          "output_type": "stream",
          "name": "stdout",
          "text": [
            "Original: Satisfied with the service\n",
            "Lemmas: ['satisfy', 'with', 'the', 'service']\n",
            "\n",
            "Original: Needs improvement in delivery\n",
            "Lemmas: ['need', 'improvement', 'in', 'delivery']\n",
            "\n",
            "Original: Regular customer\n",
            "Lemmas: ['regular', 'customer']\n",
            "\n",
            "Original: Occasional buyer\n",
            "Lemmas: ['occasional', 'buyer']\n",
            "\n",
            "Original: High spender\n",
            "Lemmas: ['high', 'spender']\n",
            "\n",
            "Original: Average experience\n",
            "Lemmas: ['average', 'experience']\n",
            "\n",
            "Original: Prefers online shopping\n",
            "Lemmas: ['prefer', 'online', 'shopping']\n",
            "\n",
            "Original: New customer\n",
            "Lemmas: ['new', 'customer']\n",
            "\n",
            "Original: Loyal to the brand\n",
            "Lemmas: ['loyal', 'to', 'the', 'brand']\n",
            "\n",
            "Original: High conversion rate\n",
            "Lemmas: ['high', 'conversion', 'rate']\n",
            "\n",
            "Original: Low engagement\n",
            "Lemmas: ['low', 'engagement']\n",
            "\n",
            "Original: Satisfied with product quality\n",
            "Lemmas: ['satisfy', 'with', 'product', 'quality']\n",
            "\n",
            "Original: Frequent shopper\n",
            "Lemmas: ['frequent', 'shopper']\n",
            "\n",
            "Original: Unhappy with returns\n",
            "Lemmas: ['unhappy', 'with', 'return']\n",
            "\n",
            "Original: Enjoys discounts\n",
            "Lemmas: ['enjoy', 'discount']\n",
            "\n"
          ]
        }
      ]
    },
    {
      "cell_type": "code",
      "source": [
        "from textblob import TextBlob\n",
        "\n",
        "for comment in comments:\n",
        "  blob = TextBlob(comment)\n",
        "  print(f\"Original: {comment}\")\n",
        "  print(f\"Sentiment: {blob.sentiment}\\n\")"
      ],
      "metadata": {
        "colab": {
          "base_uri": "https://localhost:8080/"
        },
        "id": "TdnWZzIdInvt",
        "outputId": "91a83037-1498-420e-e248-374022de2158"
      },
      "execution_count": 14,
      "outputs": [
        {
          "output_type": "stream",
          "name": "stdout",
          "text": [
            "Original: Satisfied with the service\n",
            "Sentiment: Sentiment(polarity=0.5, subjectivity=1.0)\n",
            "\n",
            "Original: Needs improvement in delivery\n",
            "Sentiment: Sentiment(polarity=0.0, subjectivity=0.0)\n",
            "\n",
            "Original: Regular customer\n",
            "Sentiment: Sentiment(polarity=0.0, subjectivity=0.07692307692307693)\n",
            "\n",
            "Original: Occasional buyer\n",
            "Sentiment: Sentiment(polarity=0.0, subjectivity=0.125)\n",
            "\n",
            "Original: High spender\n",
            "Sentiment: Sentiment(polarity=0.16, subjectivity=0.5399999999999999)\n",
            "\n",
            "Original: Average experience\n",
            "Sentiment: Sentiment(polarity=-0.15, subjectivity=0.39999999999999997)\n",
            "\n",
            "Original: Prefers online shopping\n",
            "Sentiment: Sentiment(polarity=0.0, subjectivity=0.0)\n",
            "\n",
            "Original: New customer\n",
            "Sentiment: Sentiment(polarity=0.13636363636363635, subjectivity=0.45454545454545453)\n",
            "\n",
            "Original: Loyal to the brand\n",
            "Sentiment: Sentiment(polarity=0.3333333333333333, subjectivity=0.8333333333333334)\n",
            "\n",
            "Original: High conversion rate\n",
            "Sentiment: Sentiment(polarity=0.16, subjectivity=0.5399999999999999)\n",
            "\n",
            "Original: Low engagement\n",
            "Sentiment: Sentiment(polarity=0.0, subjectivity=0.3)\n",
            "\n",
            "Original: Satisfied with product quality\n",
            "Sentiment: Sentiment(polarity=0.5, subjectivity=1.0)\n",
            "\n",
            "Original: Frequent shopper\n",
            "Sentiment: Sentiment(polarity=0.1, subjectivity=0.3)\n",
            "\n",
            "Original: Unhappy with returns\n",
            "Sentiment: Sentiment(polarity=-0.6, subjectivity=0.9)\n",
            "\n",
            "Original: Enjoys discounts\n",
            "Sentiment: Sentiment(polarity=0.0, subjectivity=0.0)\n",
            "\n"
          ]
        }
      ]
    },
    {
      "cell_type": "code",
      "source": [
        "comment1 = nlp(comments[0])\n",
        "comment2 = nlp(comments[1])\n",
        "\n",
        "similarity = comment1.similarity(comment2)\n",
        "\n",
        "print(f\"Similarity between '{comments[0]}' and {comments[1]}: {similarity}\")"
      ],
      "metadata": {
        "colab": {
          "base_uri": "https://localhost:8080/"
        },
        "id": "ywQ-WI8PJIoL",
        "outputId": "0fee336d-5c66-4b36-b6b8-4bd86244bffe"
      },
      "execution_count": 15,
      "outputs": [
        {
          "output_type": "stream",
          "name": "stdout",
          "text": [
            "Similarity between 'Satisfied with the service' and Needs improvement in delivery: 0.23302183439039095\n"
          ]
        },
        {
          "output_type": "stream",
          "name": "stderr",
          "text": [
            "<ipython-input-15-b8c0a151db32>:4: UserWarning: [W007] The model you're using has no word vectors loaded, so the result of the Doc.similarity method will be based on the tagger, parser and NER, which may not give useful similarity judgements. This may happen if you're using one of the small models, e.g. `en_core_web_sm`, which don't ship with word vectors and only use context-sensitive tensors. You can always add your own word vectors, or use one of the larger models instead if available.\n",
            "  similarity = comment1.similarity(comment2)\n"
          ]
        }
      ]
    }
  ]
}